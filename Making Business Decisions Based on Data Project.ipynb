{
 "cells": [
  {
   "cell_type": "markdown",
   "metadata": {},
   "source": [
    "# Project Description\n"
   ]
  },
  {
   "cell_type": "markdown",
   "metadata": {},
   "source": [
    "My name is Mohammad Abdus Samad. I am an analyst at a big online store. Together with the marketing department, I have to compile a list of hypotheses that may help boost revenue. "
   ]
  },
  {
   "cell_type": "markdown",
   "metadata": {},
   "source": [
    "# Project Goal"
   ]
  },
  {
   "cell_type": "markdown",
   "metadata": {},
   "source": [
    "I need to prioritize these hypotheses, launch an A/B test, and analyze the results."
   ]
  },
  {
   "cell_type": "markdown",
   "metadata": {},
   "source": [
    "# Project Contents\n"
   ]
  },
  {
   "cell_type": "markdown",
   "metadata": {},
   "source": [
    "-  <a href='#the_destination1'>Downloading the data and preparing it for analysis:</a>\n",
    "-  <a href='#the_destination2'>Prioritizing Hypotheses:</a>\n",
    "-  <a href='#the_destination3'>A/B Test Analysis:</a>\n",
    "-  <a href='#the_destination4'>Overall Conclusion:</a>"
   ]
  },
  {
   "cell_type": "markdown",
   "metadata": {},
   "source": [
    "<a id='the_destination1'></a>\n",
    "# Step 1. Downloading the data and preparing it for analysis"
   ]
  },
  {
   "cell_type": "markdown",
   "metadata": {},
   "source": [
    "**Importing the libraries:**"
   ]
  },
  {
   "cell_type": "code",
   "execution_count": 1,
   "metadata": {},
   "outputs": [],
   "source": [
    "import pandas as pd\n",
    "import numpy as np\n",
    "import matplotlib.pyplot as plt\n",
    "import datetime as dt\n",
    "import scipy.stats as stats\n",
    "from pandas import option_context"
   ]
  },
  {
   "cell_type": "markdown",
   "metadata": {},
   "source": [
    "**Information for the \"hypotheses\" dataset:**"
   ]
  },
  {
   "cell_type": "code",
   "execution_count": 2,
   "metadata": {},
   "outputs": [
    {
     "name": "stdout",
     "output_type": "stream",
     "text": [
      "<class 'pandas.core.frame.DataFrame'>\n",
      "RangeIndex: 9 entries, 0 to 8\n",
      "Data columns (total 5 columns):\n",
      "Hypothesis    9 non-null object\n",
      "Reach         9 non-null int64\n",
      "Impact        9 non-null int64\n",
      "Confidence    9 non-null int64\n",
      "Effort        9 non-null int64\n",
      "dtypes: int64(4), object(1)\n",
      "memory usage: 488.0+ bytes\n"
     ]
    },
    {
     "data": {
      "text/html": [
       "<div>\n",
       "<style scoped>\n",
       "    .dataframe tbody tr th:only-of-type {\n",
       "        vertical-align: middle;\n",
       "    }\n",
       "\n",
       "    .dataframe tbody tr th {\n",
       "        vertical-align: top;\n",
       "    }\n",
       "\n",
       "    .dataframe thead th {\n",
       "        text-align: right;\n",
       "    }\n",
       "</style>\n",
       "<table border=\"1\" class=\"dataframe\">\n",
       "  <thead>\n",
       "    <tr style=\"text-align: right;\">\n",
       "      <th></th>\n",
       "      <th>Hypothesis</th>\n",
       "      <th>Reach</th>\n",
       "      <th>Impact</th>\n",
       "      <th>Confidence</th>\n",
       "      <th>Effort</th>\n",
       "    </tr>\n",
       "  </thead>\n",
       "  <tbody>\n",
       "    <tr>\n",
       "      <td>0</td>\n",
       "      <td>Add two new channels for attracting traffic. T...</td>\n",
       "      <td>3</td>\n",
       "      <td>10</td>\n",
       "      <td>8</td>\n",
       "      <td>6</td>\n",
       "    </tr>\n",
       "    <tr>\n",
       "      <td>1</td>\n",
       "      <td>Launch your own delivery service. This will sh...</td>\n",
       "      <td>2</td>\n",
       "      <td>5</td>\n",
       "      <td>4</td>\n",
       "      <td>10</td>\n",
       "    </tr>\n",
       "    <tr>\n",
       "      <td>2</td>\n",
       "      <td>Add product recommendation blocks to the store...</td>\n",
       "      <td>8</td>\n",
       "      <td>3</td>\n",
       "      <td>7</td>\n",
       "      <td>3</td>\n",
       "    </tr>\n",
       "    <tr>\n",
       "      <td>3</td>\n",
       "      <td>Change the category structure. This will incre...</td>\n",
       "      <td>8</td>\n",
       "      <td>3</td>\n",
       "      <td>3</td>\n",
       "      <td>8</td>\n",
       "    </tr>\n",
       "    <tr>\n",
       "      <td>4</td>\n",
       "      <td>Change the background color on the main page. ...</td>\n",
       "      <td>3</td>\n",
       "      <td>1</td>\n",
       "      <td>1</td>\n",
       "      <td>1</td>\n",
       "    </tr>\n",
       "    <tr>\n",
       "      <td>5</td>\n",
       "      <td>Add a customer review page. This will increase...</td>\n",
       "      <td>3</td>\n",
       "      <td>2</td>\n",
       "      <td>2</td>\n",
       "      <td>3</td>\n",
       "    </tr>\n",
       "    <tr>\n",
       "      <td>6</td>\n",
       "      <td>Show banners with current offers and sales on ...</td>\n",
       "      <td>5</td>\n",
       "      <td>3</td>\n",
       "      <td>8</td>\n",
       "      <td>3</td>\n",
       "    </tr>\n",
       "    <tr>\n",
       "      <td>7</td>\n",
       "      <td>Add a subscription form to all the main pages....</td>\n",
       "      <td>10</td>\n",
       "      <td>7</td>\n",
       "      <td>8</td>\n",
       "      <td>5</td>\n",
       "    </tr>\n",
       "    <tr>\n",
       "      <td>8</td>\n",
       "      <td>Launch a promotion that gives users discounts ...</td>\n",
       "      <td>1</td>\n",
       "      <td>9</td>\n",
       "      <td>9</td>\n",
       "      <td>5</td>\n",
       "    </tr>\n",
       "  </tbody>\n",
       "</table>\n",
       "</div>"
      ],
      "text/plain": [
       "                                          Hypothesis  Reach  Impact  \\\n",
       "0  Add two new channels for attracting traffic. T...      3      10   \n",
       "1  Launch your own delivery service. This will sh...      2       5   \n",
       "2  Add product recommendation blocks to the store...      8       3   \n",
       "3  Change the category structure. This will incre...      8       3   \n",
       "4  Change the background color on the main page. ...      3       1   \n",
       "5  Add a customer review page. This will increase...      3       2   \n",
       "6  Show banners with current offers and sales on ...      5       3   \n",
       "7  Add a subscription form to all the main pages....     10       7   \n",
       "8  Launch a promotion that gives users discounts ...      1       9   \n",
       "\n",
       "   Confidence  Effort  \n",
       "0           8       6  \n",
       "1           4      10  \n",
       "2           7       3  \n",
       "3           3       8  \n",
       "4           1       1  \n",
       "5           2       3  \n",
       "6           8       3  \n",
       "7           8       5  \n",
       "8           9       5  "
      ]
     },
     "metadata": {},
     "output_type": "display_data"
    }
   ],
   "source": [
    "try:\n",
    "    hypotheses = pd.read_csv('hypotheses_us.csv', sep=';')\n",
    "except:\n",
    "    hypotheses = pd.read_csv('/datasets/hypotheses_us.csv', sep=';')\n",
    "hypotheses.info()\n",
    "display(hypotheses)"
   ]
  },
  {
   "cell_type": "code",
   "execution_count": 3,
   "metadata": {},
   "outputs": [
    {
     "data": {
      "text/html": [
       "<div>\n",
       "<style scoped>\n",
       "    .dataframe tbody tr th:only-of-type {\n",
       "        vertical-align: middle;\n",
       "    }\n",
       "\n",
       "    .dataframe tbody tr th {\n",
       "        vertical-align: top;\n",
       "    }\n",
       "\n",
       "    .dataframe thead th {\n",
       "        text-align: right;\n",
       "    }\n",
       "</style>\n",
       "<table border=\"1\" class=\"dataframe\">\n",
       "  <thead>\n",
       "    <tr style=\"text-align: right;\">\n",
       "      <th></th>\n",
       "      <th>Hypothesis</th>\n",
       "      <th>Reach</th>\n",
       "      <th>Impact</th>\n",
       "      <th>Confidence</th>\n",
       "      <th>Effort</th>\n",
       "    </tr>\n",
       "  </thead>\n",
       "  <tbody>\n",
       "    <tr>\n",
       "      <td>0</td>\n",
       "      <td>Add two new channels for attracting traffic. This will bring 30% more users</td>\n",
       "      <td>3</td>\n",
       "      <td>10</td>\n",
       "      <td>8</td>\n",
       "      <td>6</td>\n",
       "    </tr>\n",
       "    <tr>\n",
       "      <td>1</td>\n",
       "      <td>Launch your own delivery service. This will shorten delivery time</td>\n",
       "      <td>2</td>\n",
       "      <td>5</td>\n",
       "      <td>4</td>\n",
       "      <td>10</td>\n",
       "    </tr>\n",
       "    <tr>\n",
       "      <td>2</td>\n",
       "      <td>Add product recommendation blocks to the store's site. This will increase conversion and average purchase size</td>\n",
       "      <td>8</td>\n",
       "      <td>3</td>\n",
       "      <td>7</td>\n",
       "      <td>3</td>\n",
       "    </tr>\n",
       "    <tr>\n",
       "      <td>3</td>\n",
       "      <td>Change the category structure. This will increase conversion since users will find the products they want more quickly</td>\n",
       "      <td>8</td>\n",
       "      <td>3</td>\n",
       "      <td>3</td>\n",
       "      <td>8</td>\n",
       "    </tr>\n",
       "    <tr>\n",
       "      <td>4</td>\n",
       "      <td>Change the background color on the main page. This will increase user engagement</td>\n",
       "      <td>3</td>\n",
       "      <td>1</td>\n",
       "      <td>1</td>\n",
       "      <td>1</td>\n",
       "    </tr>\n",
       "    <tr>\n",
       "      <td>5</td>\n",
       "      <td>Add a customer review page. This will increase the number of orders</td>\n",
       "      <td>3</td>\n",
       "      <td>2</td>\n",
       "      <td>2</td>\n",
       "      <td>3</td>\n",
       "    </tr>\n",
       "    <tr>\n",
       "      <td>6</td>\n",
       "      <td>Show banners with current offers and sales on the main page. This will boost conversion</td>\n",
       "      <td>5</td>\n",
       "      <td>3</td>\n",
       "      <td>8</td>\n",
       "      <td>3</td>\n",
       "    </tr>\n",
       "    <tr>\n",
       "      <td>7</td>\n",
       "      <td>Add a subscription form to all the main pages. This will help you compile a mailing list</td>\n",
       "      <td>10</td>\n",
       "      <td>7</td>\n",
       "      <td>8</td>\n",
       "      <td>5</td>\n",
       "    </tr>\n",
       "    <tr>\n",
       "      <td>8</td>\n",
       "      <td>Launch a promotion that gives users discounts on their birthdays</td>\n",
       "      <td>1</td>\n",
       "      <td>9</td>\n",
       "      <td>9</td>\n",
       "      <td>5</td>\n",
       "    </tr>\n",
       "  </tbody>\n",
       "</table>\n",
       "</div>"
      ],
      "text/plain": [
       "                                                                                                               Hypothesis  \\\n",
       "0                                             Add two new channels for attracting traffic. This will bring 30% more users   \n",
       "1                                                       Launch your own delivery service. This will shorten delivery time   \n",
       "2          Add product recommendation blocks to the store's site. This will increase conversion and average purchase size   \n",
       "3  Change the category structure. This will increase conversion since users will find the products they want more quickly   \n",
       "4                                        Change the background color on the main page. This will increase user engagement   \n",
       "5                                                     Add a customer review page. This will increase the number of orders   \n",
       "6                                 Show banners with current offers and sales on the main page. This will boost conversion   \n",
       "7                                Add a subscription form to all the main pages. This will help you compile a mailing list   \n",
       "8                                                        Launch a promotion that gives users discounts on their birthdays   \n",
       "\n",
       "   Reach  Impact  Confidence  Effort  \n",
       "0      3      10           8       6  \n",
       "1      2       5           4      10  \n",
       "2      8       3           7       3  \n",
       "3      8       3           3       8  \n",
       "4      3       1           1       1  \n",
       "5      3       2           2       3  \n",
       "6      5       3           8       3  \n",
       "7     10       7           8       5  \n",
       "8      1       9           9       5  "
      ]
     },
     "metadata": {},
     "output_type": "display_data"
    }
   ],
   "source": [
    "with option_context('display.max_colwidth', 400):\n",
    "    display(hypotheses.head(10))"
   ]
  },
  {
   "cell_type": "markdown",
   "metadata": {},
   "source": [
    "In the \"hypotheses\" dataset, there are 9 entries and one columns."
   ]
  },
  {
   "cell_type": "markdown",
   "metadata": {},
   "source": [
    "**Checking data types:**"
   ]
  },
  {
   "cell_type": "code",
   "execution_count": 4,
   "metadata": {},
   "outputs": [
    {
     "data": {
      "text/plain": [
       "Hypothesis    object\n",
       "Reach          int64\n",
       "Impact         int64\n",
       "Confidence     int64\n",
       "Effort         int64\n",
       "dtype: object"
      ]
     },
     "execution_count": 4,
     "metadata": {},
     "output_type": "execute_result"
    }
   ],
   "source": [
    "hypotheses.dtypes"
   ]
  },
  {
   "cell_type": "markdown",
   "metadata": {},
   "source": [
    "In the \"hypotheses\" dataset, datatypes are objcet datatypes."
   ]
  },
  {
   "cell_type": "markdown",
   "metadata": {},
   "source": [
    "**Checking duplicates in the 'hypotheses' dataset:**"
   ]
  },
  {
   "cell_type": "code",
   "execution_count": 5,
   "metadata": {},
   "outputs": [
    {
     "name": "stdout",
     "output_type": "stream",
     "text": [
      "0\n"
     ]
    }
   ],
   "source": [
    "print(hypotheses.duplicated().sum())"
   ]
  },
  {
   "cell_type": "markdown",
   "metadata": {},
   "source": [
    "There are no duplicate values."
   ]
  },
  {
   "cell_type": "markdown",
   "metadata": {},
   "source": [
    "**Checking missing values in the 'hypotheses' dataset:**"
   ]
  },
  {
   "cell_type": "code",
   "execution_count": 6,
   "metadata": {},
   "outputs": [
    {
     "data": {
      "text/plain": [
       "Hypothesis    0\n",
       "Reach         0\n",
       "Impact        0\n",
       "Confidence    0\n",
       "Effort        0\n",
       "dtype: int64"
      ]
     },
     "execution_count": 6,
     "metadata": {},
     "output_type": "execute_result"
    }
   ],
   "source": [
    "hypotheses.isnull().sum()"
   ]
  },
  {
   "cell_type": "markdown",
   "metadata": {},
   "source": [
    "There are no missing values."
   ]
  },
  {
   "cell_type": "markdown",
   "metadata": {},
   "source": [
    "**Information for the \"orders\" dataset:**"
   ]
  },
  {
   "cell_type": "code",
   "execution_count": 7,
   "metadata": {},
   "outputs": [
    {
     "name": "stdout",
     "output_type": "stream",
     "text": [
      "<class 'pandas.core.frame.DataFrame'>\n",
      "RangeIndex: 1197 entries, 0 to 1196\n",
      "Data columns (total 5 columns):\n",
      "transactionId    1197 non-null int64\n",
      "visitorId        1197 non-null int64\n",
      "date             1197 non-null object\n",
      "revenue          1197 non-null float64\n",
      "group            1197 non-null object\n",
      "dtypes: float64(1), int64(2), object(2)\n",
      "memory usage: 46.9+ KB\n"
     ]
    },
    {
     "data": {
      "text/html": [
       "<div>\n",
       "<style scoped>\n",
       "    .dataframe tbody tr th:only-of-type {\n",
       "        vertical-align: middle;\n",
       "    }\n",
       "\n",
       "    .dataframe tbody tr th {\n",
       "        vertical-align: top;\n",
       "    }\n",
       "\n",
       "    .dataframe thead th {\n",
       "        text-align: right;\n",
       "    }\n",
       "</style>\n",
       "<table border=\"1\" class=\"dataframe\">\n",
       "  <thead>\n",
       "    <tr style=\"text-align: right;\">\n",
       "      <th></th>\n",
       "      <th>transactionId</th>\n",
       "      <th>visitorId</th>\n",
       "      <th>date</th>\n",
       "      <th>revenue</th>\n",
       "      <th>group</th>\n",
       "    </tr>\n",
       "  </thead>\n",
       "  <tbody>\n",
       "    <tr>\n",
       "      <td>0</td>\n",
       "      <td>3667963787</td>\n",
       "      <td>3312258926</td>\n",
       "      <td>2019-08-15</td>\n",
       "      <td>30.4</td>\n",
       "      <td>B</td>\n",
       "    </tr>\n",
       "    <tr>\n",
       "      <td>1</td>\n",
       "      <td>2804400009</td>\n",
       "      <td>3642806036</td>\n",
       "      <td>2019-08-15</td>\n",
       "      <td>15.2</td>\n",
       "      <td>B</td>\n",
       "    </tr>\n",
       "    <tr>\n",
       "      <td>2</td>\n",
       "      <td>2961555356</td>\n",
       "      <td>4069496402</td>\n",
       "      <td>2019-08-15</td>\n",
       "      <td>10.2</td>\n",
       "      <td>A</td>\n",
       "    </tr>\n",
       "    <tr>\n",
       "      <td>3</td>\n",
       "      <td>3797467345</td>\n",
       "      <td>1196621759</td>\n",
       "      <td>2019-08-15</td>\n",
       "      <td>155.1</td>\n",
       "      <td>B</td>\n",
       "    </tr>\n",
       "    <tr>\n",
       "      <td>4</td>\n",
       "      <td>2282983706</td>\n",
       "      <td>2322279887</td>\n",
       "      <td>2019-08-15</td>\n",
       "      <td>40.5</td>\n",
       "      <td>B</td>\n",
       "    </tr>\n",
       "  </tbody>\n",
       "</table>\n",
       "</div>"
      ],
      "text/plain": [
       "   transactionId   visitorId        date  revenue group\n",
       "0     3667963787  3312258926  2019-08-15     30.4     B\n",
       "1     2804400009  3642806036  2019-08-15     15.2     B\n",
       "2     2961555356  4069496402  2019-08-15     10.2     A\n",
       "3     3797467345  1196621759  2019-08-15    155.1     B\n",
       "4     2282983706  2322279887  2019-08-15     40.5     B"
      ]
     },
     "metadata": {},
     "output_type": "display_data"
    }
   ],
   "source": [
    "try:\n",
    "    orders = pd.read_csv('orders_us.csv')\n",
    "except:\n",
    "    orders = pd.read_csv('/datasets/orders_us.csv')\n",
    "orders.info()\n",
    "display(orders.head())"
   ]
  },
  {
   "cell_type": "markdown",
   "metadata": {},
   "source": [
    "In the \"orders\" dataset, there are 1197 entries and five columns. Columns name are transactionId, visitorId, date, revenue and group."
   ]
  },
  {
   "cell_type": "markdown",
   "metadata": {},
   "source": [
    "**Checking data types:**"
   ]
  },
  {
   "cell_type": "code",
   "execution_count": 8,
   "metadata": {},
   "outputs": [
    {
     "data": {
      "text/plain": [
       "transactionId      int64\n",
       "visitorId          int64\n",
       "date              object\n",
       "revenue          float64\n",
       "group             object\n",
       "dtype: object"
      ]
     },
     "execution_count": 8,
     "metadata": {},
     "output_type": "execute_result"
    }
   ],
   "source": [
    "orders.dtypes"
   ]
  },
  {
   "cell_type": "markdown",
   "metadata": {},
   "source": [
    "in the \"orders\" dataset, \"date\" column is the object datatype. So we need to convert it from object to datetime.strptime type. "
   ]
  },
  {
   "cell_type": "markdown",
   "metadata": {},
   "source": [
    "**Changing data type in the \"date\" column:**"
   ]
  },
  {
   "cell_type": "code",
   "execution_count": 9,
   "metadata": {},
   "outputs": [],
   "source": [
    "orders['date'] = orders['date'].map(lambda x: dt.datetime.strptime(x, '%Y-%m-%d'))"
   ]
  },
  {
   "cell_type": "markdown",
   "metadata": {},
   "source": [
    "I converted \"date\" column from object to datetime.strptime type."
   ]
  },
  {
   "cell_type": "markdown",
   "metadata": {},
   "source": [
    "**Checking duplicates in the 'orders' dataset:**"
   ]
  },
  {
   "cell_type": "code",
   "execution_count": 10,
   "metadata": {},
   "outputs": [
    {
     "name": "stdout",
     "output_type": "stream",
     "text": [
      "0\n"
     ]
    }
   ],
   "source": [
    "print(orders.duplicated().sum())"
   ]
  },
  {
   "cell_type": "markdown",
   "metadata": {},
   "source": [
    "There are no duplicate values in the \"orders\" dataset."
   ]
  },
  {
   "cell_type": "markdown",
   "metadata": {},
   "source": [
    "**Checking missing values in the 'orders' dataset:**"
   ]
  },
  {
   "cell_type": "code",
   "execution_count": 11,
   "metadata": {},
   "outputs": [
    {
     "data": {
      "text/plain": [
       "transactionId    0\n",
       "visitorId        0\n",
       "date             0\n",
       "revenue          0\n",
       "group            0\n",
       "dtype: int64"
      ]
     },
     "execution_count": 11,
     "metadata": {},
     "output_type": "execute_result"
    }
   ],
   "source": [
    "orders.isnull().sum()"
   ]
  },
  {
   "cell_type": "markdown",
   "metadata": {},
   "source": [
    "There are no missing values in the \"orders\" dataset."
   ]
  },
  {
   "cell_type": "markdown",
   "metadata": {},
   "source": [
    "**Information for the \"visits\" dataset:**"
   ]
  },
  {
   "cell_type": "code",
   "execution_count": 12,
   "metadata": {},
   "outputs": [
    {
     "name": "stdout",
     "output_type": "stream",
     "text": [
      "<class 'pandas.core.frame.DataFrame'>\n",
      "RangeIndex: 62 entries, 0 to 61\n",
      "Data columns (total 3 columns):\n",
      "date      62 non-null object\n",
      "group     62 non-null object\n",
      "visits    62 non-null int64\n",
      "dtypes: int64(1), object(2)\n",
      "memory usage: 1.6+ KB\n"
     ]
    },
    {
     "data": {
      "text/html": [
       "<div>\n",
       "<style scoped>\n",
       "    .dataframe tbody tr th:only-of-type {\n",
       "        vertical-align: middle;\n",
       "    }\n",
       "\n",
       "    .dataframe tbody tr th {\n",
       "        vertical-align: top;\n",
       "    }\n",
       "\n",
       "    .dataframe thead th {\n",
       "        text-align: right;\n",
       "    }\n",
       "</style>\n",
       "<table border=\"1\" class=\"dataframe\">\n",
       "  <thead>\n",
       "    <tr style=\"text-align: right;\">\n",
       "      <th></th>\n",
       "      <th>date</th>\n",
       "      <th>group</th>\n",
       "      <th>visits</th>\n",
       "    </tr>\n",
       "  </thead>\n",
       "  <tbody>\n",
       "    <tr>\n",
       "      <td>0</td>\n",
       "      <td>2019-08-01</td>\n",
       "      <td>A</td>\n",
       "      <td>719</td>\n",
       "    </tr>\n",
       "    <tr>\n",
       "      <td>1</td>\n",
       "      <td>2019-08-02</td>\n",
       "      <td>A</td>\n",
       "      <td>619</td>\n",
       "    </tr>\n",
       "    <tr>\n",
       "      <td>2</td>\n",
       "      <td>2019-08-03</td>\n",
       "      <td>A</td>\n",
       "      <td>507</td>\n",
       "    </tr>\n",
       "    <tr>\n",
       "      <td>3</td>\n",
       "      <td>2019-08-04</td>\n",
       "      <td>A</td>\n",
       "      <td>717</td>\n",
       "    </tr>\n",
       "    <tr>\n",
       "      <td>4</td>\n",
       "      <td>2019-08-05</td>\n",
       "      <td>A</td>\n",
       "      <td>756</td>\n",
       "    </tr>\n",
       "  </tbody>\n",
       "</table>\n",
       "</div>"
      ],
      "text/plain": [
       "         date group  visits\n",
       "0  2019-08-01     A     719\n",
       "1  2019-08-02     A     619\n",
       "2  2019-08-03     A     507\n",
       "3  2019-08-04     A     717\n",
       "4  2019-08-05     A     756"
      ]
     },
     "metadata": {},
     "output_type": "display_data"
    }
   ],
   "source": [
    "try:\n",
    "    visits = pd.read_csv('visits_us.csv')\n",
    "except:\n",
    "    visits = pd.read_csv('/datasets/visits_us.csv')\n",
    "visits.info()\n",
    "display(visits.head())"
   ]
  },
  {
   "cell_type": "markdown",
   "metadata": {},
   "source": [
    "In the \"visits\" dataset, there are 62 entries and three columns named date, group, visits."
   ]
  },
  {
   "cell_type": "markdown",
   "metadata": {},
   "source": [
    "**Checking data types:**"
   ]
  },
  {
   "cell_type": "code",
   "execution_count": 13,
   "metadata": {},
   "outputs": [
    {
     "data": {
      "text/plain": [
       "date      object\n",
       "group     object\n",
       "visits     int64\n",
       "dtype: object"
      ]
     },
     "execution_count": 13,
     "metadata": {},
     "output_type": "execute_result"
    }
   ],
   "source": [
    "visits.dtypes"
   ]
  },
  {
   "cell_type": "markdown",
   "metadata": {},
   "source": [
    "In the \"visits\" dataset, \"date\" column is the object datatype. So we need to convert it from object to datetime.strptime datatype."
   ]
  },
  {
   "cell_type": "markdown",
   "metadata": {},
   "source": [
    "**Changing data type in the \"date\" column:**"
   ]
  },
  {
   "cell_type": "code",
   "execution_count": 14,
   "metadata": {},
   "outputs": [],
   "source": [
    "visits['date'] = visits['date'].map(lambda x: dt.datetime.strptime(x, '%Y-%m-%d'))"
   ]
  },
  {
   "cell_type": "markdown",
   "metadata": {},
   "source": [
    "I converted \"date\" column from object to datetime.strptime type."
   ]
  },
  {
   "cell_type": "markdown",
   "metadata": {},
   "source": [
    "**Checking duplicates in the 'visits' dataset:**"
   ]
  },
  {
   "cell_type": "code",
   "execution_count": 15,
   "metadata": {},
   "outputs": [
    {
     "name": "stdout",
     "output_type": "stream",
     "text": [
      "0\n"
     ]
    }
   ],
   "source": [
    "print(visits.duplicated().sum())"
   ]
  },
  {
   "cell_type": "markdown",
   "metadata": {},
   "source": [
    "There are no duplicate values in the \"visits\" dataset."
   ]
  },
  {
   "cell_type": "markdown",
   "metadata": {},
   "source": [
    "**Checking missing values in the 'visits' dataset:**"
   ]
  },
  {
   "cell_type": "code",
   "execution_count": 16,
   "metadata": {},
   "outputs": [
    {
     "data": {
      "text/plain": [
       "date      0\n",
       "group     0\n",
       "visits    0\n",
       "dtype: int64"
      ]
     },
     "execution_count": 16,
     "metadata": {},
     "output_type": "execute_result"
    }
   ],
   "source": [
    "visits.isnull().sum()"
   ]
  },
  {
   "cell_type": "markdown",
   "metadata": {},
   "source": [
    "There are no missing values in the \"visits\" dataset."
   ]
  },
  {
   "cell_type": "markdown",
   "metadata": {},
   "source": [
    "-  In the \"hypotheses\" dataset, there are 9 entries and one columns. There are no missing values and duplicate values in the \"hypotheses\" dataset.\n",
    "-  In the \"orders\" dataset, there are 1197 entries and five columns. Columns name are transactionId, visitorId, date, revenue and group.There are no missing values and duplicate values in the \"orders\" dataset.\n",
    "-  In the \"visits\" dataset, there are 62 entries and three columns named date, group, visits. There are no missing values and duplicate values in the \"visits\" dataset.\n",
    "-  In the \"orders\" and \"visits\" dataset, \"date\" column was object type. I converted both from object to datetime.strptime datatype."
   ]
  },
  {
   "cell_type": "markdown",
   "metadata": {},
   "source": [
    "<a id='the_destination2'></a>\n",
    "# Step 2. Prioritizing Hypotheses"
   ]
  },
  {
   "cell_type": "markdown",
   "metadata": {},
   "source": [
    "Testing a hypothesis will cost a lot of money, but our resources are limited. So we need to choose what to test and what to let go of. To try to ensure maximum growth of key business metrics, the hypotheses we have formulated have to be prioritized.\n",
    "**ICE and RICE:**\n",
    "- Impact, confidence, effort/ease (ICE) is one of the most popular ways of prioritizing problems: ICE score = (Impact * Confidence) / Effort.\n",
    "-  There's also a modified version, RICE: RICE score = (Reach * Impact * Confidence) / Effort. \n",
    "-  RICE has four components:\n",
    "Reach — how many users will be affected by the update you want to introduce.\n",
    "Impact — how strongly this update will affect the users, their experience, and their satisfaction with the product.\n",
    "Confidence — how sure you are that your product will affect them in this way.\n",
    "Effort — how much will it cost to test the hypothesis"
   ]
  },
  {
   "cell_type": "markdown",
   "metadata": {},
   "source": [
    "**Applying the ICE framework to prioritize hypotheses and sorting in descending order of priority:**"
   ]
  },
  {
   "cell_type": "code",
   "execution_count": 17,
   "metadata": {},
   "outputs": [
    {
     "name": "stdout",
     "output_type": "stream",
     "text": [
      "                                          Hypothesis        ICE\n",
      "8  Launch a promotion that gives users discounts ...  16.200000\n",
      "0  Add two new channels for attracting traffic. T...  13.333333\n",
      "7  Add a subscription form to all the main pages....  11.200000\n",
      "6  Show banners with current offers and sales on ...   8.000000\n",
      "2  Add product recommendation blocks to the store...   7.000000\n",
      "1  Launch your own delivery service. This will sh...   2.000000\n",
      "5  Add a customer review page. This will increase...   1.333333\n",
      "3  Change the category structure. This will incre...   1.125000\n",
      "4  Change the background color on the main page. ...   1.000000\n"
     ]
    }
   ],
   "source": [
    "hypotheses ['ICE'] = hypotheses ['Impact'] * hypotheses ['Confidence'] / hypotheses ['Effort'] \n",
    "print(hypotheses [['Hypothesis', 'ICE']].sort_values(by= 'ICE', ascending = False))"
   ]
  },
  {
   "cell_type": "markdown",
   "metadata": {},
   "source": [
    "ICE gives the more promising hypotheses are \"Launch a promotion that gives users discounts on their birthdays\", \"Add two new channels for attracting traffic. This will bring 30% more users\", \"Add a subscription form to all the main pages. This will help you compile a mailing list\" ."
   ]
  },
  {
   "cell_type": "markdown",
   "metadata": {},
   "source": [
    "**Applying the RICE framework to prioritize hypotheses and sorting in descending order of priority:**"
   ]
  },
  {
   "cell_type": "code",
   "execution_count": 18,
   "metadata": {},
   "outputs": [
    {
     "name": "stdout",
     "output_type": "stream",
     "text": [
      "                                          Hypothesis   RICE\n",
      "7  Add a subscription form to all the main pages....  112.0\n",
      "2  Add product recommendation blocks to the store...   56.0\n",
      "0  Add two new channels for attracting traffic. T...   40.0\n",
      "6  Show banners with current offers and sales on ...   40.0\n",
      "8  Launch a promotion that gives users discounts ...   16.2\n",
      "3  Change the category structure. This will incre...    9.0\n",
      "1  Launch your own delivery service. This will sh...    4.0\n",
      "5  Add a customer review page. This will increase...    4.0\n",
      "4  Change the background color on the main page. ...    3.0\n"
     ]
    }
   ],
   "source": [
    "hypotheses ['RICE'] = hypotheses ['Reach'] * hypotheses ['Impact'] * hypotheses ['Confidence'] / hypotheses ['Effort']  \n",
    "print(hypotheses [['Hypothesis', 'RICE']].sort_values(by= 'RICE', ascending = False))"
   ]
  },
  {
   "cell_type": "markdown",
   "metadata": {},
   "source": [
    "RICE gives the more promising hypotheses are \"Add a subscription form to all the main pages. This will help you compile a mailing list\", \"Add product recommendation blocks to the store's site. This will increase conversion and average purchase size\", \"Add two new channels for attracting traffic. This will bring 30% more users\" and \"Show banners with current offers and sales on the main page. This will boost conversion\"."
   ]
  },
  {
   "cell_type": "markdown",
   "metadata": {},
   "source": [
    "-  We calculated for the RICE and ICE for prioritizing hypotheses. We see after calculating RICE the hpothesis \"Add a subscription form to all the main pages. This will help you compile a mailing list\" is in the first place. That's because of the Reach parameter is 10 while the other hypotheses have lower values.\n",
    "-  Apart from how strong the hypothesis is, take into account how many users it will affect."
   ]
  },
  {
   "cell_type": "markdown",
   "metadata": {},
   "source": [
    "**Scatter chart compariosn for ICE & RICE:**"
   ]
  },
  {
   "cell_type": "code",
   "execution_count": 19,
   "metadata": {},
   "outputs": [
    {
     "data": {
      "image/png": "[encoded data removed]",
      "text/plain": [
       "<Figure size 432x288 with 1 Axes>"
      ]
     },
     "metadata": {
      "needs_background": "light"
     },
     "output_type": "display_data"
    }
   ],
   "source": [
    "ICE_values = pd.Series(range(0, len(hypotheses['ICE'])))\n",
    "RICE_values = pd.Series(range(0, len(hypotheses['RICE'])))\n",
    "plt.scatter(ICE_values, hypotheses['ICE'], label = 'ICE')\n",
    "plt.scatter(RICE_values, hypotheses['RICE'], label = 'RICE')\n",
    "plt.title('Comparing scatter chart for ICE and RICE')\n",
    "plt.ylabel('count')\n",
    "plt.xlabel('hypotheses_number')\n",
    "plt.legend()\n",
    "plt.show()"
   ]
  },
  {
   "cell_type": "markdown",
   "metadata": {},
   "source": [
    "<a id='the_destination3'></a>\n",
    "# Step 3. A/B Test Analysis:"
   ]
  },
  {
   "cell_type": "markdown",
   "metadata": {},
   "source": [
    "**Checking the datasets:**"
   ]
  },
  {
   "cell_type": "code",
   "execution_count": 20,
   "metadata": {},
   "outputs": [
    {
     "data": {
      "text/html": [
       "<div>\n",
       "<style scoped>\n",
       "    .dataframe tbody tr th:only-of-type {\n",
       "        vertical-align: middle;\n",
       "    }\n",
       "\n",
       "    .dataframe tbody tr th {\n",
       "        vertical-align: top;\n",
       "    }\n",
       "\n",
       "    .dataframe thead th {\n",
       "        text-align: right;\n",
       "    }\n",
       "</style>\n",
       "<table border=\"1\" class=\"dataframe\">\n",
       "  <thead>\n",
       "    <tr style=\"text-align: right;\">\n",
       "      <th></th>\n",
       "      <th>transactionId</th>\n",
       "      <th>visitorId</th>\n",
       "      <th>date</th>\n",
       "      <th>revenue</th>\n",
       "      <th>group</th>\n",
       "    </tr>\n",
       "  </thead>\n",
       "  <tbody>\n",
       "    <tr>\n",
       "      <td>0</td>\n",
       "      <td>3667963787</td>\n",
       "      <td>3312258926</td>\n",
       "      <td>2019-08-15</td>\n",
       "      <td>30.4</td>\n",
       "      <td>B</td>\n",
       "    </tr>\n",
       "    <tr>\n",
       "      <td>1</td>\n",
       "      <td>2804400009</td>\n",
       "      <td>3642806036</td>\n",
       "      <td>2019-08-15</td>\n",
       "      <td>15.2</td>\n",
       "      <td>B</td>\n",
       "    </tr>\n",
       "    <tr>\n",
       "      <td>2</td>\n",
       "      <td>2961555356</td>\n",
       "      <td>4069496402</td>\n",
       "      <td>2019-08-15</td>\n",
       "      <td>10.2</td>\n",
       "      <td>A</td>\n",
       "    </tr>\n",
       "    <tr>\n",
       "      <td>3</td>\n",
       "      <td>3797467345</td>\n",
       "      <td>1196621759</td>\n",
       "      <td>2019-08-15</td>\n",
       "      <td>155.1</td>\n",
       "      <td>B</td>\n",
       "    </tr>\n",
       "    <tr>\n",
       "      <td>4</td>\n",
       "      <td>2282983706</td>\n",
       "      <td>2322279887</td>\n",
       "      <td>2019-08-15</td>\n",
       "      <td>40.5</td>\n",
       "      <td>B</td>\n",
       "    </tr>\n",
       "  </tbody>\n",
       "</table>\n",
       "</div>"
      ],
      "text/plain": [
       "   transactionId   visitorId        date  revenue group\n",
       "0     3667963787  3312258926  2019-08-15     30.4     B\n",
       "1     2804400009  3642806036  2019-08-15     15.2     B\n",
       "2     2961555356  4069496402  2019-08-15     10.2     A\n",
       "3     3797467345  1196621759  2019-08-15    155.1     B\n",
       "4     2282983706  2322279887  2019-08-15     40.5     B"
      ]
     },
     "metadata": {},
     "output_type": "display_data"
    },
    {
     "data": {
      "text/html": [
       "<div>\n",
       "<style scoped>\n",
       "    .dataframe tbody tr th:only-of-type {\n",
       "        vertical-align: middle;\n",
       "    }\n",
       "\n",
       "    .dataframe tbody tr th {\n",
       "        vertical-align: top;\n",
       "    }\n",
       "\n",
       "    .dataframe thead th {\n",
       "        text-align: right;\n",
       "    }\n",
       "</style>\n",
       "<table border=\"1\" class=\"dataframe\">\n",
       "  <thead>\n",
       "    <tr style=\"text-align: right;\">\n",
       "      <th></th>\n",
       "      <th>date</th>\n",
       "      <th>group</th>\n",
       "      <th>visits</th>\n",
       "    </tr>\n",
       "  </thead>\n",
       "  <tbody>\n",
       "    <tr>\n",
       "      <td>0</td>\n",
       "      <td>2019-08-01</td>\n",
       "      <td>A</td>\n",
       "      <td>719</td>\n",
       "    </tr>\n",
       "    <tr>\n",
       "      <td>1</td>\n",
       "      <td>2019-08-02</td>\n",
       "      <td>A</td>\n",
       "      <td>619</td>\n",
       "    </tr>\n",
       "    <tr>\n",
       "      <td>2</td>\n",
       "      <td>2019-08-03</td>\n",
       "      <td>A</td>\n",
       "      <td>507</td>\n",
       "    </tr>\n",
       "    <tr>\n",
       "      <td>3</td>\n",
       "      <td>2019-08-04</td>\n",
       "      <td>A</td>\n",
       "      <td>717</td>\n",
       "    </tr>\n",
       "    <tr>\n",
       "      <td>4</td>\n",
       "      <td>2019-08-05</td>\n",
       "      <td>A</td>\n",
       "      <td>756</td>\n",
       "    </tr>\n",
       "  </tbody>\n",
       "</table>\n",
       "</div>"
      ],
      "text/plain": [
       "         date group  visits\n",
       "0  2019-08-01     A     719\n",
       "1  2019-08-02     A     619\n",
       "2  2019-08-03     A     507\n",
       "3  2019-08-04     A     717\n",
       "4  2019-08-05     A     756"
      ]
     },
     "metadata": {},
     "output_type": "display_data"
    }
   ],
   "source": [
    "try:\n",
    "    orders = pd.read_csv('orders_us.csv')\n",
    "except:\n",
    "    orders = pd.read_csv('/datasets/orders_us.csv')\n",
    "display(orders.head())\n",
    "\n",
    "try:\n",
    "    visits = pd.read_csv('visits_us.csv')\n",
    "except:\n",
    "    visits = pd.read_csv('/datasets/visits_us.csv')\n",
    "display(visits.head())"
   ]
  },
  {
   "cell_type": "code",
   "execution_count": 21,
   "metadata": {},
   "outputs": [
    {
     "data": {
      "text/plain": [
       "group    58\n",
       "dtype: int64"
      ]
     },
     "execution_count": 21,
     "metadata": {},
     "output_type": "execute_result"
    }
   ],
   "source": [
    "orders.groupby('visitorId').agg({'group' : 'nunique'}).query('group > 1').count()"
   ]
  },
  {
   "cell_type": "markdown",
   "metadata": {},
   "source": [
    "**Merging the two tables into one and give its columns descriptive names:**"
   ]
  },
  {
   "cell_type": "code",
   "execution_count": 22,
   "metadata": {},
   "outputs": [
    {
     "name": "stdout",
     "output_type": "stream",
     "text": [
      "         date group  orders  buyers  revenue  visitors\n",
      "0  2019-08-01     A      24      20   2356.8       719\n",
      "1  2019-08-01     B      21      20   1620.0       713\n",
      "2  2019-08-02     A      44      38   3860.3      1338\n",
      "3  2019-08-02     B      45      43   4243.8      1294\n",
      "4  2019-08-03     A      68      62   5675.5      1845\n"
     ]
    }
   ],
   "source": [
    "# building an array with unique paired date-group values \n",
    "datesGroups = orders[['date','group']].drop_duplicates()\n",
    "#print(datesGroups.head())\n",
    "# getting aggregated cumulative daily data on orders \n",
    "ordersAggregated = datesGroups.apply(lambda x: orders[np.logical_and(orders['date'] <= x['date'], orders['group'] == x['group'])].agg({'date' : 'max', 'group' : 'max', 'transactionId' : pd.Series.nunique, 'visitorId' : pd.Series.nunique, 'revenue' : 'sum'}), axis=1).sort_values(by=['date','group'])\n",
    "#display(ordersAggregated.head()) \n",
    "# getting aggregated cumulative daily data on visits  \n",
    "visitsAggregated = datesGroups.apply(lambda x: visits[np.logical_and(visits['date'] <= x['date'], visits['group'] == x['group'])].agg({'date' : 'max', 'group' : 'max', 'visits' : 'sum'}), axis=1).sort_values(by=['date','group'])\n",
    "#display(visitsAggregated.head())\n",
    "# merging the two tables into one and giving its columns descriptive names\n",
    "cumulativeData = ordersAggregated.merge(visitsAggregated, left_on=['date', 'group'], right_on=['date', 'group'])\n",
    "cumulativeData.columns = ['date', 'group', 'orders', 'buyers', 'revenue', 'visitors']\n",
    "\n",
    "print(cumulativeData.head())"
   ]
  },
  {
   "cell_type": "markdown",
   "metadata": {},
   "source": [
    "**Plotting the cumulative revenue graphs by day and A/B test group:**"
   ]
  },
  {
   "cell_type": "code",
   "execution_count": 23,
   "metadata": {},
   "outputs": [
    {
     "data": {
      "image/png": "[encoded data removed]",
      "text/plain": [
       "<Figure size 432x288 with 1 Axes>"
      ]
     },
     "metadata": {
      "needs_background": "light"
     },
     "output_type": "display_data"
    }
   ],
   "source": [
    "# DataFrame with cumulative orders and cumulative revenue by day, group A\n",
    "cumulativeRevenueA = cumulativeData[cumulativeData['group']=='A'][['date','revenue', 'orders']]\n",
    "\n",
    "# DataFrame with cumulative orders and cumulative revenue by day, group B\n",
    "cumulativeRevenueB = cumulativeData[cumulativeData['group']=='B'][['date','revenue', 'orders']]\n",
    "\n",
    "# Plotting the group A revenue graph \n",
    "plt.plot(cumulativeRevenueA['date'], cumulativeRevenueA['revenue'], label='A')\n",
    "\n",
    "# Plotting the group B revenue graph \n",
    "plt.plot(cumulativeRevenueB['date'], cumulativeRevenueB['revenue'], label='B')\n",
    "\n",
    "plt.title('Cumulative revenue graphs by day and A/B test group')\n",
    "plt.ylabel('revenue')\n",
    "plt.xlabel('date')\n",
    "plt.legend()\n",
    "plt.xticks(rotation=90, ha='right')\n",
    "plt.grid()\n",
    "plt.show()"
   ]
  },
  {
   "cell_type": "markdown",
   "metadata": {},
   "source": [
    "Revenue is rising steadily throughout the whole test. That's a good sign.The both groups see spikes in revenue at certain points. This may imply either a surge in the number of orders or the presence of very expensive orders in the sample."
   ]
  },
  {
   "cell_type": "markdown",
   "metadata": {},
   "source": [
    "**Plotting average purchase size by group and dividing cumulative revenue by the cumulative number of orders:**"
   ]
  },
  {
   "cell_type": "code",
   "execution_count": 24,
   "metadata": {},
   "outputs": [
    {
     "data": {
      "image/png": "[encoded data removed]",
      "text/plain": [
       "<Figure size 432x288 with 1 Axes>"
      ]
     },
     "metadata": {
      "needs_background": "light"
     },
     "output_type": "display_data"
    }
   ],
   "source": [
    "plt.plot(cumulativeRevenueA['date'], cumulativeRevenueA['revenue']/cumulativeRevenueA['orders'], label='A')\n",
    "plt.plot(cumulativeRevenueB['date'], cumulativeRevenueB['revenue']/cumulativeRevenueB['orders'], label='B')\n",
    "plt.legend()\n",
    "plt.xticks(rotation=90, ha='right')\n",
    "plt.title('Average purchase size by group')\n",
    "plt.ylabel('average purchase size')\n",
    "plt.xlabel('date')\n",
    "plt.grid()\n",
    "plt.show()"
   ]
  },
  {
   "cell_type": "markdown",
   "metadata": {},
   "source": [
    "Average purchase size becomes steady by the end of the test. It stabilizes for group A and keeps on falling for group B. The surge in group B in the first two third of the test may have been due to the presence of large, expensive order."
   ]
  },
  {
   "cell_type": "markdown",
   "metadata": {},
   "source": [
    "**Relative difference between the cumulative average purchase size of group B compared with that of group A:**"
   ]
  },
  {
   "cell_type": "code",
   "execution_count": 25,
   "metadata": {},
   "outputs": [
    {
     "data": {
      "image/png": "[encoded data removed]",
      "text/plain": [
       "<Figure size 432x288 with 1 Axes>"
      ]
     },
     "metadata": {
      "needs_background": "light"
     },
     "output_type": "display_data"
    }
   ],
   "source": [
    "# gathering the data into one DataFrame\n",
    "mergedCumulativeRevenue = cumulativeRevenueA.merge(cumulativeRevenueB, left_on='date', right_on='date', how='left', suffixes=['A', 'B'])\n",
    "\n",
    "# plotting a relative difference graph for the average purchase sizes\n",
    "plt.plot(mergedCumulativeRevenue['date'], (mergedCumulativeRevenue['revenueB']/mergedCumulativeRevenue['ordersB'])/(mergedCumulativeRevenue['revenueA']/mergedCumulativeRevenue['ordersA'])-1)\n",
    "\n",
    "# adding the X axis\n",
    "plt.axhline(y=0, color='black', linestyle='--')\n",
    "plt.xticks(rotation=90, ha='right')\n",
    "plt.title('Relative difference between the cumulative average purchase size')\n",
    "plt.ylabel('relative difference')\n",
    "plt.xlabel('date')\n",
    "plt.grid()\n",
    "plt.show()"
   ]
  },
  {
   "cell_type": "markdown",
   "metadata": {},
   "source": [
    "At different points, the difference between the segments spikes. This means there must be some big orders and outliers."
   ]
  },
  {
   "cell_type": "markdown",
   "metadata": {},
   "source": [
    "**Analyzing the cumulative conversion graph:**"
   ]
  },
  {
   "cell_type": "code",
   "execution_count": 26,
   "metadata": {
    "scrolled": false
   },
   "outputs": [
    {
     "data": {
      "image/png": "[encoded data removed]",
      "text/plain": [
       "<Figure size 432x288 with 1 Axes>"
      ]
     },
     "metadata": {
      "needs_background": "light"
     },
     "output_type": "display_data"
    }
   ],
   "source": [
    "# calculating cumulative conversion\n",
    "cumulativeData['conversion'] = cumulativeData['orders']/cumulativeData['visitors']\n",
    "\n",
    "# selecting data on group A \n",
    "cumulativeDataA = cumulativeData[cumulativeData['group']=='A']\n",
    "\n",
    "# selecting data on group B\n",
    "cumulativeDataB = cumulativeData[cumulativeData['group']=='B']\n",
    "\n",
    "# plotting the graphs\n",
    "plt.plot(cumulativeDataA['date'], cumulativeDataA['conversion'], label='A')\n",
    "plt.plot(cumulativeDataB['date'], cumulativeDataB['conversion'], label='B')\n",
    "plt.legend()\n",
    "\n",
    "# setting the axes' scale\n",
    "# plt.axis([\"2019-08-01\", '2019-09-01', 0, 0.015]) \n",
    "plt.xticks(rotation=90, ha='right')\n",
    "plt.title('Analysing the cumulative conversion graph')\n",
    "plt.ylabel('cumulative conversion')\n",
    "plt.xlabel('date')\n",
    "plt.grid()\n",
    "plt.show()"
   ]
  },
  {
   "cell_type": "markdown",
   "metadata": {},
   "source": [
    "From the above graph, we can say that our data is not reliable."
   ]
  },
  {
   "cell_type": "markdown",
   "metadata": {},
   "source": [
    "**Plotting a relative difference graph for the cumulative conversion rates:**"
   ]
  },
  {
   "cell_type": "code",
   "execution_count": 27,
   "metadata": {},
   "outputs": [
    {
     "data": {
      "image/png": "[encoded data removed]",
      "text/plain": [
       "<Figure size 432x288 with 1 Axes>"
      ]
     },
     "metadata": {
      "needs_background": "light"
     },
     "output_type": "display_data"
    }
   ],
   "source": [
    "mergedCumulativeConversions = cumulativeDataA[['date','conversion']].merge(cumulativeDataB[['date','conversion']], left_on='date', right_on='date', how='left', suffixes=['A', 'B'])\n",
    "\n",
    "plt.plot(mergedCumulativeConversions['date'], mergedCumulativeConversions['conversionB']/mergedCumulativeConversions['conversionA']-1)\n",
    "# plt.legend()\n",
    "line = (mergedCumulativeConversions.query('date > \"2019-08-10\"')['conversionB']/mergedCumulativeConversions.query('date > \"2019-08-10\"')['conversionA']-1).mean()\n",
    "\n",
    "plt.axhline(y=line, color='red', linestyle='--');\n",
    "plt.axhline(y=0, color='black', linestyle='--')\n",
    "plt.axhline(y=-0.1, color='grey', linestyle='--')\n",
    "plt.axis([\"2019-08-01\", '2019-09-01', -0.6, 0.6])\n",
    "plt.title('A relative diffence graph for the cumulative conversion rates')\n",
    "plt.ylabel('relative difference')\n",
    "plt.xlabel('date')\n",
    "plt.xticks(rotation=90, ha='right')\n",
    "plt.grid()\n",
    "plt.show()"
   ]
  },
  {
   "cell_type": "markdown",
   "metadata": {},
   "source": [
    "At the beginning of the test, group B was unstable, but then it suddenly took the lead. Then its conversion was stable."
   ]
  },
  {
   "cell_type": "markdown",
   "metadata": {},
   "source": [
    "**Histogram of order price distribution:**"
   ]
  },
  {
   "cell_type": "code",
   "execution_count": 28,
   "metadata": {},
   "outputs": [
    {
     "data": {
      "image/png": "[encoded data removed]",
      "text/plain": [
       "<Figure size 432x288 with 1 Axes>"
      ]
     },
     "metadata": {
      "needs_background": "light"
     },
     "output_type": "display_data"
    }
   ],
   "source": [
    "plt.hist(orders['revenue'])\n",
    "plt.title('Histogram of order price distribution')\n",
    "plt.ylabel('count')\n",
    "plt.xlabel('revenue')\n",
    "plt.grid()\n",
    "plt.show()"
   ]
  },
  {
   "cell_type": "markdown",
   "metadata": {},
   "source": [
    "Majority of the revenues are less than 2500 dollars."
   ]
  },
  {
   "cell_type": "markdown",
   "metadata": {},
   "source": [
    "**Plotting a scatter chart of order prices:**"
   ]
  },
  {
   "cell_type": "code",
   "execution_count": 29,
   "metadata": {},
   "outputs": [
    {
     "data": {
      "image/png": "[encoded data removed]",
      "text/plain": [
       "<Figure size 432x288 with 1 Axes>"
      ]
     },
     "metadata": {
      "needs_background": "light"
     },
     "output_type": "display_data"
    }
   ],
   "source": [
    "a_x_values = pd.Series(range(0, len(orders['revenue'][orders.group == \"A\"])))\n",
    "b_x_values = pd.Series(range(0, len(orders['revenue'][orders.group == \"B\"])))\n",
    "plt.scatter(a_x_values, orders['revenue'][orders.group == \"A\"])\n",
    "plt.scatter(b_x_values, orders['revenue'][orders.group == \"B\"])\n",
    "plt.title('Scatter chart of order prices')\n",
    "plt.xlabel('count')\n",
    "plt.ylabel('revenue')\n",
    "plt.show()"
   ]
  },
  {
   "cell_type": "markdown",
   "metadata": {},
   "source": [
    "Based on the scatter plot, we can set the limit for abnormal orders above 2000 dollars. However, the most extreme 1-5% of observed values are filtered out."
   ]
  },
  {
   "cell_type": "markdown",
   "metadata": {},
   "source": [
    "**Calculation of the 95th and 99th percentiles of order prices:**"
   ]
  },
  {
   "cell_type": "code",
   "execution_count": 30,
   "metadata": {},
   "outputs": [
    {
     "name": "stdout",
     "output_type": "stream",
     "text": [
      "[435.54  900.904]\n"
     ]
    }
   ],
   "source": [
    "print(np.percentile(orders['revenue'], [95, 99]))"
   ]
  },
  {
   "cell_type": "markdown",
   "metadata": {},
   "source": [
    "No more than 5% of orders cost more than 435.54 dollars, and no more than 1% cost more than 900.904 dollars."
   ]
  },
  {
   "cell_type": "markdown",
   "metadata": {},
   "source": [
    "**Finding the number of orders per user:**"
   ]
  },
  {
   "cell_type": "code",
   "execution_count": 31,
   "metadata": {},
   "outputs": [
    {
     "name": "stdout",
     "output_type": "stream",
     "text": [
      "       visitorId  orders\n",
      "1023  4256040402      11\n",
      "591   2458001652      11\n",
      "569   2378935119       9\n",
      "487   2038680547       8\n",
      "44     199603092       5\n"
     ]
    }
   ],
   "source": [
    "ordersByUsers = (\n",
    "    orders.drop(['group', 'revenue', 'date'], axis=1)\n",
    "    .groupby('visitorId', as_index=False)\n",
    "    .agg({'transactionId': pd.Series.nunique})\n",
    ")\n",
    "\n",
    "ordersByUsers.columns = ['visitorId', 'orders']\n",
    "\n",
    "print(ordersByUsers.sort_values(by='orders', ascending=False).head())"
   ]
  },
  {
   "cell_type": "markdown",
   "metadata": {},
   "source": [
    "There are users with 5, 8, 9 and 11 orders. "
   ]
  },
  {
   "cell_type": "markdown",
   "metadata": {},
   "source": [
    "**Plotting a distribution histogram with the number of orders per user:**"
   ]
  },
  {
   "cell_type": "code",
   "execution_count": 32,
   "metadata": {},
   "outputs": [
    {
     "data": {
      "image/png": "[encoded data removed]",
      "text/plain": [
       "<Figure size 432x288 with 1 Axes>"
      ]
     },
     "metadata": {
      "needs_background": "light"
     },
     "output_type": "display_data"
    }
   ],
   "source": [
    "plt.hist(ordersByUsers['orders'])\n",
    "plt.title('Histogram with the number of orders per user ')\n",
    "plt.ylabel('count')\n",
    "plt.xlabel('order')\n",
    "plt.grid()\n",
    "plt.show()"
   ]
  },
  {
   "cell_type": "markdown",
   "metadata": {},
   "source": [
    "Most of the customers placed only one order. However, a significant share placed two orders."
   ]
  },
  {
   "cell_type": "markdown",
   "metadata": {},
   "source": [
    "**Plotting a scatter chart with the number of orders per user:**"
   ]
  },
  {
   "cell_type": "code",
   "execution_count": 33,
   "metadata": {},
   "outputs": [
    {
     "data": {
      "image/png": "[encoded data removed]",
      "text/plain": [
       "<Figure size 432x288 with 1 Axes>"
      ]
     },
     "metadata": {
      "needs_background": "light"
     },
     "output_type": "display_data"
    }
   ],
   "source": [
    "x_values = pd.Series(range(0,len(ordersByUsers)))\n",
    "plt.scatter(x_values, ordersByUsers['orders'])\n",
    "plt.title('Scatter chart with the number of orders per user')\n",
    "plt.xlabel('count')\n",
    "plt.ylabel('order')\n",
    "plt.show()"
   ]
  },
  {
   "cell_type": "markdown",
   "metadata": {},
   "source": [
    "There are indeed a lot of users with two to four orders. The exact share remains unknown, since it's not clear whether we should consider them anomalies or not."
   ]
  },
  {
   "cell_type": "markdown",
   "metadata": {},
   "source": [
    "**Calculation of 95th and 99th percentiles for the number of orders per user:**"
   ]
  },
  {
   "cell_type": "code",
   "execution_count": 34,
   "metadata": {},
   "outputs": [
    {
     "name": "stdout",
     "output_type": "stream",
     "text": [
      "[2. 4.]\n"
     ]
    }
   ],
   "source": [
    "print(np.percentile(ordersByUsers['orders'], [95, 99])) "
   ]
  },
  {
   "cell_type": "markdown",
   "metadata": {},
   "source": [
    "Not more than 5% of users placed more than 2 orders.Thus, it would be reasonable to set 2 orders per user as the lower limit for the number of orders and to filter anomalies on that basis."
   ]
  },
  {
   "cell_type": "markdown",
   "metadata": {},
   "source": [
    "**Finding the statistical significance of differences in conversion rate and order size between the groups, using the \"raw\" data:**"
   ]
  },
  {
   "cell_type": "markdown",
   "metadata": {},
   "source": [
    "**Hypothsis formulation:**\n",
    "\n",
    "- Null Hypothesis (H_0) : Based on raw data, there is not a statistically significance difference in conversion between groups A and B.\n",
    "\n",
    "\n",
    "- Alternative hypothesis (H_1) : Based on raw data, there is a statistically significance difference in conversion between groups A and B."
   ]
  },
  {
   "cell_type": "markdown",
   "metadata": {},
   "source": [
    "**Why are we using the mannwhitneyu method:**\n",
    "When our data contains big (compared to the normal distribution) outliers, algebraic metrics don't work very well. We look at a test based on a structural approach, or a nonparametric test.\n",
    "\n",
    "This test was originally designed by Frank Wilcoxon for small dependent samples in 1945. In 1947 Henry Mann and Donald Whitney adjusted it for independent samples. The method that we will use for A/B testing is called st.mannwhitneyu() (the Mann-Whitney U test).\n",
    "\n",
    "The key idea behind the test is to rank two samples in ascending order and compare the ranks of values that appear in both samples. If the differences between their ranks are the same from sample to sample, this means the shift is typical. That means some values were simply added, causing the rest to shift.\n",
    "\n",
    "Nontypical shifts mean that a real change occurred. The sum of such shifts in rank is the value of the criterion. The higher it is, the higher the probability that the distributions of the two samples differ.\n",
    "\n",
    "The probabilities of getting various values from a Mann-Whitney test have been calculated theoretically, which makes it possible for us to conclude there is or isn't a difference for whatever significance level was set.\n",
    "\n",
    "Nonparametric methods are useful because they do not make assumptions about how the data is distributed (so we don't have to estimate the distribution's parameters). Such methods are often used when it's difficult (or even impossible) to estimate parameters because of a large number of outliers."
   ]
  },
  {
   "cell_type": "code",
   "execution_count": 35,
   "metadata": {},
   "outputs": [
    {
     "name": "stdout",
     "output_type": "stream",
     "text": [
      "0.008\n",
      "0.138\n"
     ]
    }
   ],
   "source": [
    "ordersByUsersA = orders[orders['group']=='A'].groupby('visitorId', as_index=False).agg({'transactionId' : pd.Series.nunique})\n",
    "ordersByUsersA.columns = ['visitorId', 'orders']\n",
    "\n",
    "ordersByUsersB = orders[orders['group']=='B'].groupby('visitorId', as_index=False).agg({'transactionId' : pd.Series.nunique})\n",
    "ordersByUsersB.columns = ['visitorId', 'orders']\n",
    "\n",
    "sampleA = pd.concat([ordersByUsersA['orders'],pd.Series(0, index=np.arange(visits[visits['group']=='A']['visits'].sum() - len(ordersByUsersA['orders'])), name='orders')],axis=0)\n",
    "\n",
    "sampleB = pd.concat([ordersByUsersB['orders'],pd.Series(0, index=np.arange(visits[visits['group']=='B']['visits'].sum() - len(ordersByUsersB['orders'])), name='orders')],axis=0)\n",
    "\n",
    "print(\"{0:.3f}\".format(stats.mannwhitneyu(sampleA, sampleB)[1]))\n",
    "\n",
    "print(\"{0:.3f}\".format(sampleB.mean()/sampleA.mean()-1))"
   ]
  },
  {
   "cell_type": "markdown",
   "metadata": {},
   "source": [
    "The first row of the output gives us the p-value, 0.008, which is smaller than 0.05. So we reject the null hypothesis that there's a statistically significant difference in conversion between the groups. But the relative gain of group B is 13.8%."
   ]
  },
  {
   "cell_type": "markdown",
   "metadata": {},
   "source": [
    "**Finding the relative difference in average order size between the groups:**"
   ]
  },
  {
   "cell_type": "markdown",
   "metadata": {},
   "source": [
    "**Hypothsis formulation:**\n",
    "\n",
    "- Null Hypothesis (H_0) : Based on raw data, average order size differs between the groups.\n",
    "\n",
    "\n",
    "- Alternative hypothesis (H_1) : Based on raw data, average order size does not differ between the groups."
   ]
  },
  {
   "cell_type": "code",
   "execution_count": 36,
   "metadata": {},
   "outputs": [
    {
     "name": "stdout",
     "output_type": "stream",
     "text": [
      "0.346\n",
      "0.252\n"
     ]
    }
   ],
   "source": [
    "print('{0:.3f}'.format(stats.mannwhitneyu(orders[orders['group']=='A']['revenue'], orders[orders['group']=='B']['revenue'])[1]))\n",
    "print('{0:.3f}'.format(orders[orders['group']=='B']['revenue'].mean()/orders[orders['group']=='A']['revenue'].mean()-1))"
   ]
  },
  {
   "cell_type": "markdown",
   "metadata": {},
   "source": [
    "The p-value is considerably higher than 0.05, so there's no reason to reject the null hypothesis and conclude that average order size differs between the groups. The average order size for group B is much bigger than it is for group A."
   ]
  },
  {
   "cell_type": "markdown",
   "metadata": {},
   "source": [
    "**Finding the total number of anomalous users using the shape() method:**"
   ]
  },
  {
   "cell_type": "code",
   "execution_count": 37,
   "metadata": {},
   "outputs": [
    {
     "name": "stdout",
     "output_type": "stream",
     "text": [
      "18    199603092\n",
      "23    237748145\n",
      "37    249864742\n",
      "68    457167155\n",
      "68    611059232\n",
      "Name: visitorId, dtype: int64\n",
      "(22,)\n"
     ]
    }
   ],
   "source": [
    "usersWithManyOrders = pd.concat([ordersByUsersA[ordersByUsersA['orders'] > 2]['visitorId'], ordersByUsersB[ordersByUsersB['orders'] > 2]['visitorId']], axis = 0)\n",
    "usersWithExpensiveOrders = orders[orders['revenue'] > 2000]['visitorId']\n",
    "abnormalUsers = pd.concat([usersWithManyOrders, usersWithExpensiveOrders], axis = 0).drop_duplicates().sort_values()\n",
    "print(abnormalUsers.head())\n",
    "print(abnormalUsers.shape)"
   ]
  },
  {
   "cell_type": "markdown",
   "metadata": {},
   "source": [
    "We have 22 anomalous users in total."
   ]
  },
  {
   "cell_type": "markdown",
   "metadata": {},
   "source": [
    "**Calculating the statistical significance of the differences in conversion between the groups, using filtered data:**"
   ]
  },
  {
   "cell_type": "markdown",
   "metadata": {},
   "source": [
    "**Hypothsis formulation:**\n",
    "\n",
    "- Null Hypothesis (H_0) : Based on filtered data, there is not a statistically significance difference in conversion between groups A and B.\n",
    "\n",
    "\n",
    "- Alternative hypothesis (H_1) : Based on filtered data, there is a statistically significance difference in conversion between groups A and B."
   ]
  },
  {
   "cell_type": "code",
   "execution_count": 38,
   "metadata": {},
   "outputs": [
    {
     "name": "stdout",
     "output_type": "stream",
     "text": [
      "0.007\n",
      "0.166\n"
     ]
    }
   ],
   "source": [
    "sampleAFiltered = pd.concat([ordersByUsersA[np.logical_not(ordersByUsersA['visitorId'].isin(abnormalUsers))]['orders'],pd.Series(0, index=np.arange(visits[visits['group']=='A']['visits'].sum() - len(ordersByUsersA['orders'])),name='orders')],axis=0)\n",
    "sampleBFiltered = pd.concat([ordersByUsersB[np.logical_not(ordersByUsersB['visitorId'].isin(abnormalUsers))]['orders'],pd.Series(0, index=np.arange(visits[visits['group']=='B']['visits'].sum() - len(ordersByUsersB['orders'])),name='orders')],axis=0)\n",
    "print(\"{0:.3f}\".format(stats.mannwhitneyu(sampleAFiltered, sampleBFiltered)[1]))\n",
    "print(\"{0:.3f}\".format(sampleBFiltered.mean()/sampleAFiltered.mean()-1))"
   ]
  },
  {
   "cell_type": "markdown",
   "metadata": {},
   "source": [
    "The results for conversion almost didn't change."
   ]
  },
  {
   "cell_type": "markdown",
   "metadata": {},
   "source": [
    "**Statistical significance of the difference in average order size between the groups using the filtered data:**"
   ]
  },
  {
   "cell_type": "markdown",
   "metadata": {},
   "source": [
    "**Hypothsis formulation:**\n",
    "\n",
    "- Null Hypothesis (H_0) : Based on filtered data, average order size differs between the groups.\n",
    "\n",
    "\n",
    "- Alternative hypothesis (H_1) : Based on filtered data, average order size does not differ between the groups."
   ]
  },
  {
   "cell_type": "code",
   "execution_count": 39,
   "metadata": {},
   "outputs": [
    {
     "name": "stdout",
     "output_type": "stream",
     "text": [
      "0.317\n",
      "-0.098\n"
     ]
    }
   ],
   "source": [
    "print('{0:.3f}'.format(stats.mannwhitneyu(\n",
    "    orders[np.logical_and(\n",
    "        orders['group']=='A',\n",
    "        np.logical_not(orders['visitorId'].isin(abnormalUsers)))]['revenue'],\n",
    "    orders[np.logical_and(\n",
    "        orders['group']=='B',\n",
    "        np.logical_not(orders['visitorId'].isin(abnormalUsers)))]['revenue'])[1]))\n",
    "\n",
    "print('{0:.3f}'.format(\n",
    "    orders[np.logical_and(orders['group']=='B',np.logical_not(orders['visitorId'].isin(abnormalUsers)))]['revenue'].mean()/\n",
    "    orders[np.logical_and(\n",
    "        orders['group']=='A',\n",
    "        np.logical_not(orders['visitorId'].isin(abnormalUsers)))]['revenue'].mean() - 1))"
   ]
  },
  {
   "cell_type": "markdown",
   "metadata": {},
   "source": [
    "The p-value slightly reduced, but now the difference between the segments is 9% loss instead of 25.2%."
   ]
  },
  {
   "cell_type": "markdown",
   "metadata": {},
   "source": [
    "Our general conclusions from the test didn't change, this problem demonstrates clearly how anomalies can affect A/B test results.Here are the facts:\n",
    "-  Neither raw nor filtered data did not reveal any statistically significant differences in conversion between the groups.\n",
    "-  Neither raw nor filtered data did not reveal any statistically significant differences in average order size between the groups.\n",
    "-  Based on these facts, we can conclude that the test is unsuccessful and should be stopped."
   ]
  },
  {
   "cell_type": "markdown",
   "metadata": {},
   "source": [
    "<a id='the_destination4'></a>\n",
    "# Step 3. Overall Conclusion:"
   ]
  },
  {
   "cell_type": "markdown",
   "metadata": {},
   "source": [
    "Overall we can conclude that\n",
    "-  In the \"hypotheses\" dataset, there are 9 entries and one columns. There are no missing values and duplicate values in the \"hypotheses\" dataset.\n",
    "-  In the \"orders\" dataset, there are 1197 entries and five columns. Columns name are transactionId, visitorId, date, revenue and group.There are no missing values and duplicate values in the \"orders\" dataset.\n",
    "-  In the \"visits\" dataset, there are 62 entries and three columns named date, group, visits. There are no missing values and duplicate values in the \"visits\" dataset.\n",
    "-  In the \"orders\" and \"visits\" dataset, \"date\" column was object type. I converted both from object to datetime.strptime datatype.\n",
    "-  RICE gives the more promising hypotheses are \"Add a subscription form to all the main pages. This will help you compile a mailing list\", \"Add product recommendation blocks to the store's site. This will increase conversion and average purchase size\", \"Add two new channels for attracting traffic. This will bring 30% more users\" and \"Show banners with current offers and sales on the main page. This will boost conversion\".\n",
    "-  We calculated for the RICE and ICE for prioritizing hypotheses. We see after calculating RICE the hpothesis \"Add a subscription form to all the main pages. This will help you compile a mailing list\" is in the first place. That's because of the Reach parameter is 10 while the other hypotheses have lower values.\n",
    "-  Revenue is rising steadily throughout the whole test. That's a good sign.The both groups see spikes in revenue at certain points. This may imply either a surge in the number of orders or the presence of very expensive orders in the sample.\n",
    "-  Average purchase size becomes steady by the end of the test. It stabilizes for group A and keeps on falling for group B. The surge in group B in the first two third of the test may have been due to the presence of large, expensive order.\n",
    "-  At different points, the difference between the segments spikes. This means there must be some big orders and outliers.\n",
    "-  Majority of the revenues are less than 2500 dollars.\n",
    "-  Based on the scatter plot, we can set the limit for abnormal orders above 2000 dollars. However, the most extreme 1-5% of observed values are filtered out.\n",
    "-  No more than 5% of orders cost more than 435.54 dollars, and no more than 1% cost more than 900.904 dollars.\n",
    "-  There are users with 5, 8, 9 and 11 orders. \n",
    "-  Most of the customers placed only one order. However, a significant share placed two orders.\n",
    "-  Not more than 5% of users placed more than 2 orders.Thus, it would be reasonable to set 2 orders per user as the lower limit for the number of orders and to filter anomalies on that basis.\n",
    "-  The first row of the output gives us the p-value, 0.008, which is smaller than 0.05. So we reject the null hypothesis that there's a statistically significant difference in conversion between the groups. But the relative gain of group B is 13.8%.\n",
    "-  The p-value is considerably higher than 0.05, so there's no reason to reject the null hypothesis and conclude that average order size differs between the groups. The average order size for group B is much bigger than it is for group A.\n",
    "-  We have 22 anomalous users in total.\n",
    "-  Neither raw nor filtered data did not reveal any statistically significant differences in conversion and average order size between the groups. So we can stop and move on to the next hypothesis."
   ]
  },
  {
   "cell_type": "code",
   "execution_count": null,
   "metadata": {},
   "outputs": [],
   "source": []
  }
 ],
 "metadata": {
  "ExecuteTimeLog": [
   {
    "duration": 915,
    "start_time": "2021-08-11T07:38:46.488Z"
   },
   {
    "duration": 33,
    "start_time": "2021-08-11T07:40:46.452Z"
   },
   {
    "duration": 7,
    "start_time": "2021-08-11T07:42:31.152Z"
   },
   {
    "duration": 6,
    "start_time": "2021-08-11T07:47:36.060Z"
   },
   {
    "duration": 7,
    "start_time": "2021-08-11T07:47:36.977Z"
   },
   {
    "duration": 452,
    "start_time": "2021-08-11T07:48:44.359Z"
   },
   {
    "duration": 6,
    "start_time": "2021-08-11T07:49:29.337Z"
   },
   {
    "duration": 7,
    "start_time": "2021-08-11T07:50:41.619Z"
   },
   {
    "duration": 641,
    "start_time": "2021-08-12T07:56:08.747Z"
   },
   {
    "duration": 24,
    "start_time": "2021-08-12T07:56:09.390Z"
   },
   {
    "duration": 5,
    "start_time": "2021-08-12T07:56:09.416Z"
   },
   {
    "duration": 12,
    "start_time": "2021-08-12T07:56:09.423Z"
   },
   {
    "duration": 13,
    "start_time": "2021-08-12T07:56:09.436Z"
   },
   {
    "duration": 48,
    "start_time": "2021-08-12T08:01:06.799Z"
   },
   {
    "duration": 43,
    "start_time": "2021-08-12T08:01:33.946Z"
   },
   {
    "duration": 322,
    "start_time": "2021-08-12T08:03:35.757Z"
   },
   {
    "duration": 4,
    "start_time": "2021-08-12T08:03:39.695Z"
   },
   {
    "duration": 1196,
    "start_time": "2021-08-12T08:12:11.338Z"
   },
   {
    "duration": 631,
    "start_time": "2021-08-12T08:13:18.753Z"
   },
   {
    "duration": 24,
    "start_time": "2021-08-12T08:13:19.386Z"
   },
   {
    "duration": 5,
    "start_time": "2021-08-12T08:13:19.412Z"
   },
   {
    "duration": 6,
    "start_time": "2021-08-12T08:13:19.419Z"
   },
   {
    "duration": 101,
    "start_time": "2021-08-12T08:13:19.427Z"
   },
   {
    "duration": -547,
    "start_time": "2021-08-12T08:13:20.077Z"
   },
   {
    "duration": -553,
    "start_time": "2021-08-12T08:13:20.084Z"
   },
   {
    "duration": -556,
    "start_time": "2021-08-12T08:13:20.088Z"
   },
   {
    "duration": -575,
    "start_time": "2021-08-12T08:13:20.107Z"
   },
   {
    "duration": -579,
    "start_time": "2021-08-12T08:13:20.112Z"
   },
   {
    "duration": 347,
    "start_time": "2021-08-12T08:13:33.704Z"
   },
   {
    "duration": 260,
    "start_time": "2021-08-12T08:13:47.090Z"
   },
   {
    "duration": 638,
    "start_time": "2021-08-12T08:14:24.335Z"
   },
   {
    "duration": 24,
    "start_time": "2021-08-12T08:14:24.974Z"
   },
   {
    "duration": 6,
    "start_time": "2021-08-12T08:14:25.000Z"
   },
   {
    "duration": 7,
    "start_time": "2021-08-12T08:14:25.007Z"
   },
   {
    "duration": 99,
    "start_time": "2021-08-12T08:14:25.015Z"
   },
   {
    "duration": -547,
    "start_time": "2021-08-12T08:14:25.663Z"
   },
   {
    "duration": -553,
    "start_time": "2021-08-12T08:14:25.670Z"
   },
   {
    "duration": -560,
    "start_time": "2021-08-12T08:14:25.677Z"
   },
   {
    "duration": -565,
    "start_time": "2021-08-12T08:14:25.683Z"
   },
   {
    "duration": -570,
    "start_time": "2021-08-12T08:14:25.689Z"
   },
   {
    "duration": 93,
    "start_time": "2021-08-12T08:15:38.182Z"
   },
   {
    "duration": 337,
    "start_time": "2021-08-12T08:16:48.890Z"
   },
   {
    "duration": 623,
    "start_time": "2021-08-12T08:17:09.561Z"
   },
   {
    "duration": 24,
    "start_time": "2021-08-12T08:17:10.186Z"
   },
   {
    "duration": 7,
    "start_time": "2021-08-12T08:17:10.212Z"
   },
   {
    "duration": 21,
    "start_time": "2021-08-12T08:17:10.220Z"
   },
   {
    "duration": 19,
    "start_time": "2021-08-12T08:17:10.242Z"
   },
   {
    "duration": 110,
    "start_time": "2021-08-12T08:17:10.262Z"
   },
   {
    "duration": -499,
    "start_time": "2021-08-12T08:17:10.872Z"
   },
   {
    "duration": -501,
    "start_time": "2021-08-12T08:17:10.875Z"
   },
   {
    "duration": -503,
    "start_time": "2021-08-12T08:17:10.878Z"
   },
   {
    "duration": -505,
    "start_time": "2021-08-12T08:17:10.881Z"
   },
   {
    "duration": 44,
    "start_time": "2021-08-12T08:17:36.751Z"
   },
   {
    "duration": 13,
    "start_time": "2021-08-12T08:17:37.587Z"
   },
   {
    "duration": 42,
    "start_time": "2021-08-12T08:17:43.186Z"
   },
   {
    "duration": 14,
    "start_time": "2021-08-12T08:17:44.063Z"
   },
   {
    "duration": 45,
    "start_time": "2021-08-12T08:17:44.868Z"
   },
   {
    "duration": 13,
    "start_time": "2021-08-12T08:17:45.571Z"
   },
   {
    "duration": 43,
    "start_time": "2021-08-12T08:17:46.944Z"
   },
   {
    "duration": 5,
    "start_time": "2021-08-12T08:17:55.104Z"
   },
   {
    "duration": 12,
    "start_time": "2021-08-12T08:18:22.374Z"
   },
   {
    "duration": 6,
    "start_time": "2021-08-12T08:18:25.746Z"
   },
   {
    "duration": 6,
    "start_time": "2021-08-12T08:19:54.617Z"
   },
   {
    "duration": 90,
    "start_time": "2021-08-12T08:21:40.649Z"
   },
   {
    "duration": 22,
    "start_time": "2021-08-12T08:21:48.452Z"
   },
   {
    "duration": 5,
    "start_time": "2021-08-12T08:23:11.870Z"
   },
   {
    "duration": 24,
    "start_time": "2021-08-12T08:24:25.166Z"
   },
   {
    "duration": 22,
    "start_time": "2021-08-12T08:24:26.231Z"
   },
   {
    "duration": 4,
    "start_time": "2021-08-12T08:25:51.572Z"
   },
   {
    "duration": 4,
    "start_time": "2021-08-12T08:27:17.221Z"
   },
   {
    "duration": 668,
    "start_time": "2021-08-12T08:27:59.621Z"
   },
   {
    "duration": 24,
    "start_time": "2021-08-12T08:28:00.291Z"
   },
   {
    "duration": 12,
    "start_time": "2021-08-12T08:28:00.317Z"
   },
   {
    "duration": 7,
    "start_time": "2021-08-12T08:28:00.331Z"
   },
   {
    "duration": 8,
    "start_time": "2021-08-12T08:28:00.340Z"
   },
   {
    "duration": 103,
    "start_time": "2021-08-12T08:28:00.350Z"
   },
   {
    "duration": -508,
    "start_time": "2021-08-12T08:28:00.963Z"
   },
   {
    "duration": -513,
    "start_time": "2021-08-12T08:28:00.969Z"
   },
   {
    "duration": -517,
    "start_time": "2021-08-12T08:28:00.974Z"
   },
   {
    "duration": -521,
    "start_time": "2021-08-12T08:28:00.979Z"
   },
   {
    "duration": -524,
    "start_time": "2021-08-12T08:28:00.982Z"
   },
   {
    "duration": -526,
    "start_time": "2021-08-12T08:28:00.985Z"
   },
   {
    "duration": -543,
    "start_time": "2021-08-12T08:28:01.003Z"
   },
   {
    "duration": -545,
    "start_time": "2021-08-12T08:28:01.006Z"
   },
   {
    "duration": 44,
    "start_time": "2021-08-12T08:28:40.747Z"
   },
   {
    "duration": 647,
    "start_time": "2021-08-12T08:29:43.313Z"
   },
   {
    "duration": 24,
    "start_time": "2021-08-12T08:29:43.965Z"
   },
   {
    "duration": 4,
    "start_time": "2021-08-12T08:29:43.991Z"
   },
   {
    "duration": 5,
    "start_time": "2021-08-12T08:29:43.996Z"
   },
   {
    "duration": 6,
    "start_time": "2021-08-12T08:29:44.002Z"
   },
   {
    "duration": 45,
    "start_time": "2021-08-12T08:29:44.009Z"
   },
   {
    "duration": 4,
    "start_time": "2021-08-12T08:29:44.056Z"
   },
   {
    "duration": 13,
    "start_time": "2021-08-12T08:29:44.062Z"
   },
   {
    "duration": 8,
    "start_time": "2021-08-12T08:29:44.076Z"
   },
   {
    "duration": 6,
    "start_time": "2021-08-12T08:29:44.085Z"
   },
   {
    "duration": 24,
    "start_time": "2021-08-12T08:29:44.092Z"
   },
   {
    "duration": 8,
    "start_time": "2021-08-12T08:29:44.117Z"
   },
   {
    "duration": 15,
    "start_time": "2021-08-12T08:29:44.127Z"
   },
   {
    "duration": 6,
    "start_time": "2021-08-12T08:29:44.144Z"
   },
   {
    "duration": 11,
    "start_time": "2021-08-12T08:29:44.151Z"
   },
   {
    "duration": 606,
    "start_time": "2021-08-12T08:31:54.668Z"
   },
   {
    "duration": 25,
    "start_time": "2021-08-12T08:31:55.275Z"
   },
   {
    "duration": 9,
    "start_time": "2021-08-12T08:31:55.302Z"
   },
   {
    "duration": 6,
    "start_time": "2021-08-12T08:31:55.313Z"
   },
   {
    "duration": 7,
    "start_time": "2021-08-12T08:31:55.321Z"
   },
   {
    "duration": 46,
    "start_time": "2021-08-12T08:31:55.330Z"
   },
   {
    "duration": 5,
    "start_time": "2021-08-12T08:31:55.377Z"
   },
   {
    "duration": 13,
    "start_time": "2021-08-12T08:31:55.384Z"
   },
   {
    "duration": 8,
    "start_time": "2021-08-12T08:31:55.399Z"
   },
   {
    "duration": 6,
    "start_time": "2021-08-12T08:31:55.408Z"
   },
   {
    "duration": 24,
    "start_time": "2021-08-12T08:31:55.416Z"
   },
   {
    "duration": 5,
    "start_time": "2021-08-12T08:31:55.442Z"
   },
   {
    "duration": 7,
    "start_time": "2021-08-12T08:31:55.448Z"
   },
   {
    "duration": 9,
    "start_time": "2021-08-12T08:31:55.456Z"
   },
   {
    "duration": 8,
    "start_time": "2021-08-12T08:31:55.466Z"
   },
   {
    "duration": 638,
    "start_time": "2021-08-12T08:35:14.334Z"
   },
   {
    "duration": 24,
    "start_time": "2021-08-12T08:35:14.974Z"
   },
   {
    "duration": 7,
    "start_time": "2021-08-12T08:35:14.999Z"
   },
   {
    "duration": 30,
    "start_time": "2021-08-12T08:35:15.008Z"
   },
   {
    "duration": 16,
    "start_time": "2021-08-12T08:35:15.039Z"
   },
   {
    "duration": 47,
    "start_time": "2021-08-12T08:35:15.056Z"
   },
   {
    "duration": 4,
    "start_time": "2021-08-12T08:35:15.105Z"
   },
   {
    "duration": 12,
    "start_time": "2021-08-12T08:35:15.111Z"
   },
   {
    "duration": 10,
    "start_time": "2021-08-12T08:35:15.125Z"
   },
   {
    "duration": 5,
    "start_time": "2021-08-12T08:35:15.137Z"
   },
   {
    "duration": 23,
    "start_time": "2021-08-12T08:35:15.143Z"
   },
   {
    "duration": 8,
    "start_time": "2021-08-12T08:35:15.167Z"
   },
   {
    "duration": 6,
    "start_time": "2021-08-12T08:35:15.176Z"
   },
   {
    "duration": 6,
    "start_time": "2021-08-12T08:35:15.184Z"
   },
   {
    "duration": 7,
    "start_time": "2021-08-12T08:35:15.192Z"
   },
   {
    "duration": 96,
    "start_time": "2021-08-12T08:36:59.801Z"
   },
   {
    "duration": -576,
    "start_time": "2021-08-12T08:37:00.475Z"
   },
   {
    "duration": -582,
    "start_time": "2021-08-12T08:37:00.482Z"
   },
   {
    "duration": -584,
    "start_time": "2021-08-12T08:37:00.485Z"
   },
   {
    "duration": -585,
    "start_time": "2021-08-12T08:37:00.487Z"
   },
   {
    "duration": -587,
    "start_time": "2021-08-12T08:37:00.490Z"
   },
   {
    "duration": -589,
    "start_time": "2021-08-12T08:37:00.493Z"
   },
   {
    "duration": -591,
    "start_time": "2021-08-12T08:37:00.496Z"
   },
   {
    "duration": -598,
    "start_time": "2021-08-12T08:37:00.503Z"
   },
   {
    "duration": -600,
    "start_time": "2021-08-12T08:37:00.507Z"
   },
   {
    "duration": -603,
    "start_time": "2021-08-12T08:37:00.510Z"
   },
   {
    "duration": -605,
    "start_time": "2021-08-12T08:37:00.513Z"
   },
   {
    "duration": 593,
    "start_time": "2021-08-12T08:36:59.909Z"
   },
   {
    "duration": -494,
    "start_time": "2021-08-12T08:37:00.997Z"
   },
   {
    "duration": -502,
    "start_time": "2021-08-12T08:37:01.006Z"
   },
   {
    "duration": -515,
    "start_time": "2021-08-12T08:37:01.020Z"
   },
   {
    "duration": 93,
    "start_time": "2021-08-12T08:38:30.183Z"
   },
   {
    "duration": 86,
    "start_time": "2021-08-12T08:38:37.360Z"
   },
   {
    "duration": 81,
    "start_time": "2021-08-12T08:39:06.534Z"
   },
   {
    "duration": 632,
    "start_time": "2021-08-12T08:39:48.942Z"
   },
   {
    "duration": 25,
    "start_time": "2021-08-12T08:39:49.576Z"
   },
   {
    "duration": 5,
    "start_time": "2021-08-12T08:39:49.603Z"
   },
   {
    "duration": 4,
    "start_time": "2021-08-12T08:39:49.610Z"
   },
   {
    "duration": 6,
    "start_time": "2021-08-12T08:39:49.616Z"
   },
   {
    "duration": 50,
    "start_time": "2021-08-12T08:39:49.623Z"
   },
   {
    "duration": 5,
    "start_time": "2021-08-12T08:39:49.675Z"
   },
   {
    "duration": 13,
    "start_time": "2021-08-12T08:39:49.683Z"
   },
   {
    "duration": 7,
    "start_time": "2021-08-12T08:39:49.698Z"
   },
   {
    "duration": 6,
    "start_time": "2021-08-12T08:39:49.707Z"
   },
   {
    "duration": 23,
    "start_time": "2021-08-12T08:39:49.714Z"
   },
   {
    "duration": 5,
    "start_time": "2021-08-12T08:39:49.739Z"
   },
   {
    "duration": 5,
    "start_time": "2021-08-12T08:39:49.746Z"
   },
   {
    "duration": 6,
    "start_time": "2021-08-12T08:39:49.753Z"
   },
   {
    "duration": 7,
    "start_time": "2021-08-12T08:39:49.760Z"
   },
   {
    "duration": 94,
    "start_time": "2021-08-12T08:43:02.870Z"
   },
   {
    "duration": 634,
    "start_time": "2021-08-12T08:43:17.390Z"
   },
   {
    "duration": 25,
    "start_time": "2021-08-12T08:43:18.025Z"
   },
   {
    "duration": 26,
    "start_time": "2021-08-12T08:43:18.052Z"
   },
   {
    "duration": 20,
    "start_time": "2021-08-12T08:43:18.080Z"
   },
   {
    "duration": 25,
    "start_time": "2021-08-12T08:43:18.101Z"
   },
   {
    "duration": 53,
    "start_time": "2021-08-12T08:43:18.127Z"
   },
   {
    "duration": 10,
    "start_time": "2021-08-12T08:43:18.182Z"
   },
   {
    "duration": 24,
    "start_time": "2021-08-12T08:43:18.194Z"
   },
   {
    "duration": 24,
    "start_time": "2021-08-12T08:43:18.220Z"
   },
   {
    "duration": 16,
    "start_time": "2021-08-12T08:43:18.246Z"
   },
   {
    "duration": 39,
    "start_time": "2021-08-12T08:43:18.263Z"
   },
   {
    "duration": 13,
    "start_time": "2021-08-12T08:43:18.304Z"
   },
   {
    "duration": 7,
    "start_time": "2021-08-12T08:43:18.319Z"
   },
   {
    "duration": 17,
    "start_time": "2021-08-12T08:43:18.327Z"
   },
   {
    "duration": 17,
    "start_time": "2021-08-12T08:43:18.345Z"
   },
   {
    "duration": 400,
    "start_time": "2021-08-12T10:45:39.867Z"
   },
   {
    "duration": 862,
    "start_time": "2021-08-12T10:45:49.288Z"
   },
   {
    "duration": 35,
    "start_time": "2021-08-12T10:45:50.156Z"
   },
   {
    "duration": 17,
    "start_time": "2021-08-12T10:45:50.195Z"
   },
   {
    "duration": 11,
    "start_time": "2021-08-12T10:45:50.216Z"
   },
   {
    "duration": 34,
    "start_time": "2021-08-12T10:45:50.230Z"
   },
   {
    "duration": 75,
    "start_time": "2021-08-12T10:45:50.266Z"
   },
   {
    "duration": 7,
    "start_time": "2021-08-12T10:45:50.343Z"
   },
   {
    "duration": 25,
    "start_time": "2021-08-12T10:45:50.353Z"
   },
   {
    "duration": 13,
    "start_time": "2021-08-12T10:45:50.381Z"
   },
   {
    "duration": 11,
    "start_time": "2021-08-12T10:45:50.397Z"
   },
   {
    "duration": 31,
    "start_time": "2021-08-12T10:45:50.410Z"
   },
   {
    "duration": 18,
    "start_time": "2021-08-12T10:45:50.444Z"
   },
   {
    "duration": 20,
    "start_time": "2021-08-12T10:45:50.464Z"
   },
   {
    "duration": 12,
    "start_time": "2021-08-12T10:45:50.487Z"
   },
   {
    "duration": 17,
    "start_time": "2021-08-12T10:45:50.501Z"
   },
   {
    "duration": 9962,
    "start_time": "2021-08-12T10:45:50.520Z"
   },
   {
    "duration": 10076,
    "start_time": "2021-08-12T10:46:42.567Z"
   },
   {
    "duration": 856,
    "start_time": "2021-08-12T10:49:43.469Z"
   },
   {
    "duration": 32,
    "start_time": "2021-08-12T10:49:44.327Z"
   },
   {
    "duration": 10,
    "start_time": "2021-08-12T10:49:44.361Z"
   },
   {
    "duration": 8,
    "start_time": "2021-08-12T10:49:44.374Z"
   },
   {
    "duration": 12,
    "start_time": "2021-08-12T10:49:44.385Z"
   },
   {
    "duration": 60,
    "start_time": "2021-08-12T10:49:44.399Z"
   },
   {
    "duration": 6,
    "start_time": "2021-08-12T10:49:44.462Z"
   },
   {
    "duration": 20,
    "start_time": "2021-08-12T10:49:44.472Z"
   },
   {
    "duration": 8,
    "start_time": "2021-08-12T10:49:44.495Z"
   },
   {
    "duration": 7,
    "start_time": "2021-08-12T10:49:44.506Z"
   },
   {
    "duration": 33,
    "start_time": "2021-08-12T10:49:44.555Z"
   },
   {
    "duration": 8,
    "start_time": "2021-08-12T10:49:44.591Z"
   },
   {
    "duration": 11,
    "start_time": "2021-08-12T10:49:44.602Z"
   },
   {
    "duration": 12,
    "start_time": "2021-08-12T10:49:44.616Z"
   },
   {
    "duration": 10,
    "start_time": "2021-08-12T10:49:44.657Z"
   },
   {
    "duration": 9336,
    "start_time": "2021-08-12T10:49:44.670Z"
   },
   {
    "duration": 26,
    "start_time": "2021-08-12T10:51:06.874Z"
   },
   {
    "duration": 26,
    "start_time": "2021-08-12T10:51:50.164Z"
   },
   {
    "duration": 847,
    "start_time": "2021-08-12T10:52:03.994Z"
   },
   {
    "duration": 31,
    "start_time": "2021-08-12T10:52:04.844Z"
   },
   {
    "duration": 13,
    "start_time": "2021-08-12T10:52:04.879Z"
   },
   {
    "duration": 15,
    "start_time": "2021-08-12T10:52:04.894Z"
   },
   {
    "duration": 18,
    "start_time": "2021-08-12T10:52:04.911Z"
   },
   {
    "duration": 67,
    "start_time": "2021-08-12T10:52:04.931Z"
   },
   {
    "duration": 7,
    "start_time": "2021-08-12T10:52:05.001Z"
   },
   {
    "duration": 28,
    "start_time": "2021-08-12T10:52:05.013Z"
   },
   {
    "duration": 20,
    "start_time": "2021-08-12T10:52:05.044Z"
   },
   {
    "duration": 14,
    "start_time": "2021-08-12T10:52:05.066Z"
   },
   {
    "duration": 38,
    "start_time": "2021-08-12T10:52:05.083Z"
   },
   {
    "duration": 27,
    "start_time": "2021-08-12T10:52:05.123Z"
   },
   {
    "duration": 13,
    "start_time": "2021-08-12T10:52:05.152Z"
   },
   {
    "duration": 19,
    "start_time": "2021-08-12T10:52:05.168Z"
   },
   {
    "duration": 11,
    "start_time": "2021-08-12T10:52:05.190Z"
   },
   {
    "duration": 8980,
    "start_time": "2021-08-12T10:52:05.203Z"
   },
   {
    "duration": 27,
    "start_time": "2021-08-12T10:52:36.597Z"
   },
   {
    "duration": 879,
    "start_time": "2021-08-12T10:52:57.497Z"
   },
   {
    "duration": 31,
    "start_time": "2021-08-12T10:52:58.378Z"
   },
   {
    "duration": 17,
    "start_time": "2021-08-12T10:52:58.412Z"
   },
   {
    "duration": 9,
    "start_time": "2021-08-12T10:52:58.431Z"
   },
   {
    "duration": 15,
    "start_time": "2021-08-12T10:52:58.442Z"
   },
   {
    "duration": 53,
    "start_time": "2021-08-12T10:52:58.459Z"
   },
   {
    "duration": 6,
    "start_time": "2021-08-12T10:52:58.515Z"
   },
   {
    "duration": 24,
    "start_time": "2021-08-12T10:52:58.525Z"
   },
   {
    "duration": 15,
    "start_time": "2021-08-12T10:52:58.552Z"
   },
   {
    "duration": 11,
    "start_time": "2021-08-12T10:52:58.570Z"
   },
   {
    "duration": 34,
    "start_time": "2021-08-12T10:52:58.583Z"
   },
   {
    "duration": 38,
    "start_time": "2021-08-12T10:52:58.620Z"
   },
   {
    "duration": 8,
    "start_time": "2021-08-12T10:52:58.661Z"
   },
   {
    "duration": 10,
    "start_time": "2021-08-12T10:52:58.672Z"
   },
   {
    "duration": 10,
    "start_time": "2021-08-12T10:52:58.684Z"
   },
   {
    "duration": 9850,
    "start_time": "2021-08-12T10:52:58.697Z"
   },
   {
    "duration": 835,
    "start_time": "2021-08-12T12:40:02.914Z"
   },
   {
    "duration": 32,
    "start_time": "2021-08-12T12:40:03.752Z"
   },
   {
    "duration": 13,
    "start_time": "2021-08-12T12:40:03.788Z"
   },
   {
    "duration": 9,
    "start_time": "2021-08-12T12:40:03.804Z"
   },
   {
    "duration": 12,
    "start_time": "2021-08-12T12:40:03.816Z"
   },
   {
    "duration": 84,
    "start_time": "2021-08-12T12:40:03.830Z"
   },
   {
    "duration": 6,
    "start_time": "2021-08-12T12:40:03.917Z"
   },
   {
    "duration": 33,
    "start_time": "2021-08-12T12:40:03.926Z"
   },
   {
    "duration": 14,
    "start_time": "2021-08-12T12:40:03.962Z"
   },
   {
    "duration": 14,
    "start_time": "2021-08-12T12:40:03.979Z"
   },
   {
    "duration": 30,
    "start_time": "2021-08-12T12:40:03.996Z"
   },
   {
    "duration": 9,
    "start_time": "2021-08-12T12:40:04.028Z"
   },
   {
    "duration": 19,
    "start_time": "2021-08-12T12:40:04.039Z"
   },
   {
    "duration": 13,
    "start_time": "2021-08-12T12:40:04.060Z"
   },
   {
    "duration": 15,
    "start_time": "2021-08-12T12:40:04.075Z"
   },
   {
    "duration": 9496,
    "start_time": "2021-08-12T12:40:04.093Z"
   },
   {
    "duration": 8691,
    "start_time": "2021-08-12T13:03:09.523Z"
   },
   {
    "duration": 8630,
    "start_time": "2021-08-12T13:04:19.913Z"
   },
   {
    "duration": 376,
    "start_time": "2021-08-12T13:08:41.291Z"
   },
   {
    "duration": 348,
    "start_time": "2021-08-12T13:09:18.347Z"
   },
   {
    "duration": 9687,
    "start_time": "2021-08-12T13:10:12.464Z"
   },
   {
    "duration": 9802,
    "start_time": "2021-08-12T13:11:08.480Z"
   },
   {
    "duration": 10132,
    "start_time": "2021-08-12T13:11:23.328Z"
   },
   {
    "duration": 590,
    "start_time": "2021-08-13T08:27:20.625Z"
   },
   {
    "duration": 27,
    "start_time": "2021-08-13T08:27:21.217Z"
   },
   {
    "duration": 4,
    "start_time": "2021-08-13T08:27:21.246Z"
   },
   {
    "duration": 6,
    "start_time": "2021-08-13T08:27:21.252Z"
   },
   {
    "duration": 7,
    "start_time": "2021-08-13T08:27:21.260Z"
   },
   {
    "duration": 58,
    "start_time": "2021-08-13T08:27:21.269Z"
   },
   {
    "duration": 4,
    "start_time": "2021-08-13T08:27:21.329Z"
   },
   {
    "duration": 15,
    "start_time": "2021-08-13T08:27:21.335Z"
   },
   {
    "duration": 7,
    "start_time": "2021-08-13T08:27:21.352Z"
   },
   {
    "duration": 5,
    "start_time": "2021-08-13T08:27:21.361Z"
   },
   {
    "duration": 24,
    "start_time": "2021-08-13T08:27:21.367Z"
   },
   {
    "duration": 5,
    "start_time": "2021-08-13T08:27:21.392Z"
   },
   {
    "duration": 4,
    "start_time": "2021-08-13T08:27:21.398Z"
   },
   {
    "duration": 8,
    "start_time": "2021-08-13T08:27:21.404Z"
   },
   {
    "duration": 8,
    "start_time": "2021-08-13T08:27:21.414Z"
   },
   {
    "duration": 5253,
    "start_time": "2021-08-13T08:27:21.424Z"
   },
   {
    "duration": 4,
    "start_time": "2021-08-13T08:30:06.906Z"
   },
   {
    "duration": 187,
    "start_time": "2021-08-13T08:30:58.473Z"
   },
   {
    "duration": 3,
    "start_time": "2021-08-13T08:31:10.423Z"
   },
   {
    "duration": 5,
    "start_time": "2021-08-13T08:31:32.194Z"
   },
   {
    "duration": 4,
    "start_time": "2021-08-13T08:31:43.006Z"
   },
   {
    "duration": 5,
    "start_time": "2021-08-13T08:32:01.962Z"
   },
   {
    "duration": 27,
    "start_time": "2021-08-13T08:33:20.267Z"
   },
   {
    "duration": 5124,
    "start_time": "2021-08-13T08:33:41.010Z"
   },
   {
    "duration": 637,
    "start_time": "2021-08-13T08:33:56.364Z"
   },
   {
    "duration": 29,
    "start_time": "2021-08-13T08:33:57.003Z"
   },
   {
    "duration": 6,
    "start_time": "2021-08-13T08:33:57.034Z"
   },
   {
    "duration": 5,
    "start_time": "2021-08-13T08:33:57.042Z"
   },
   {
    "duration": 7,
    "start_time": "2021-08-13T08:33:57.048Z"
   },
   {
    "duration": 59,
    "start_time": "2021-08-13T08:33:57.056Z"
   },
   {
    "duration": 4,
    "start_time": "2021-08-13T08:33:57.116Z"
   },
   {
    "duration": 13,
    "start_time": "2021-08-13T08:33:57.123Z"
   },
   {
    "duration": 7,
    "start_time": "2021-08-13T08:33:57.137Z"
   },
   {
    "duration": 5,
    "start_time": "2021-08-13T08:33:57.146Z"
   },
   {
    "duration": 24,
    "start_time": "2021-08-13T08:33:57.152Z"
   },
   {
    "duration": 9,
    "start_time": "2021-08-13T08:33:57.178Z"
   },
   {
    "duration": 9,
    "start_time": "2021-08-13T08:33:57.189Z"
   },
   {
    "duration": 8,
    "start_time": "2021-08-13T08:33:57.200Z"
   },
   {
    "duration": 8,
    "start_time": "2021-08-13T08:33:57.209Z"
   },
   {
    "duration": 4612,
    "start_time": "2021-08-13T08:33:57.218Z"
   },
   {
    "duration": 181,
    "start_time": "2021-08-13T08:34:19.852Z"
   },
   {
    "duration": 7,
    "start_time": "2021-08-13T08:34:44.128Z"
   },
   {
    "duration": 1129,
    "start_time": "2021-08-13T11:53:33.932Z"
   },
   {
    "duration": 53,
    "start_time": "2021-08-13T11:53:35.065Z"
   },
   {
    "duration": 8,
    "start_time": "2021-08-13T11:53:35.121Z"
   },
   {
    "duration": 15,
    "start_time": "2021-08-13T11:53:35.133Z"
   },
   {
    "duration": 36,
    "start_time": "2021-08-13T11:53:35.152Z"
   },
   {
    "duration": 53,
    "start_time": "2021-08-13T11:53:35.191Z"
   },
   {
    "duration": 9,
    "start_time": "2021-08-13T11:53:35.247Z"
   },
   {
    "duration": 48,
    "start_time": "2021-08-13T11:53:35.261Z"
   },
   {
    "duration": 11,
    "start_time": "2021-08-13T11:53:35.313Z"
   },
   {
    "duration": 17,
    "start_time": "2021-08-13T11:53:35.327Z"
   },
   {
    "duration": 61,
    "start_time": "2021-08-13T11:53:35.347Z"
   },
   {
    "duration": 7,
    "start_time": "2021-08-13T11:53:35.411Z"
   },
   {
    "duration": 11,
    "start_time": "2021-08-13T11:53:35.420Z"
   },
   {
    "duration": 8,
    "start_time": "2021-08-13T11:53:35.433Z"
   },
   {
    "duration": 47,
    "start_time": "2021-08-13T11:53:35.444Z"
   },
   {
    "duration": 21,
    "start_time": "2021-08-13T11:53:35.496Z"
   },
   {
    "duration": 14,
    "start_time": "2021-08-13T12:03:52.493Z"
   },
   {
    "duration": 965,
    "start_time": "2021-08-13T12:09:54.537Z"
   },
   {
    "duration": 47,
    "start_time": "2021-08-13T12:09:55.506Z"
   },
   {
    "duration": 25,
    "start_time": "2021-08-13T12:09:55.557Z"
   },
   {
    "duration": 12,
    "start_time": "2021-08-13T12:09:55.586Z"
   },
   {
    "duration": 12,
    "start_time": "2021-08-13T12:09:55.600Z"
   },
   {
    "duration": 46,
    "start_time": "2021-08-13T12:09:55.615Z"
   },
   {
    "duration": 31,
    "start_time": "2021-08-13T12:09:55.663Z"
   },
   {
    "duration": 28,
    "start_time": "2021-08-13T12:09:55.699Z"
   },
   {
    "duration": 11,
    "start_time": "2021-08-13T12:09:55.730Z"
   },
   {
    "duration": 8,
    "start_time": "2021-08-13T12:09:55.744Z"
   },
   {
    "duration": 50,
    "start_time": "2021-08-13T12:09:55.755Z"
   },
   {
    "duration": 8,
    "start_time": "2021-08-13T12:09:55.808Z"
   },
   {
    "duration": 8,
    "start_time": "2021-08-13T12:09:55.819Z"
   },
   {
    "duration": 9,
    "start_time": "2021-08-13T12:09:55.830Z"
   },
   {
    "duration": 17,
    "start_time": "2021-08-13T12:09:55.882Z"
   },
   {
    "duration": 22,
    "start_time": "2021-08-13T12:09:55.902Z"
   },
   {
    "duration": 18,
    "start_time": "2021-08-13T12:09:55.928Z"
   },
   {
    "duration": 872,
    "start_time": "2021-08-13T12:12:46.234Z"
   },
   {
    "duration": 34,
    "start_time": "2021-08-13T12:12:47.109Z"
   },
   {
    "duration": 8,
    "start_time": "2021-08-13T12:12:47.146Z"
   },
   {
    "duration": 7,
    "start_time": "2021-08-13T12:12:47.157Z"
   },
   {
    "duration": 16,
    "start_time": "2021-08-13T12:12:47.190Z"
   },
   {
    "duration": 46,
    "start_time": "2021-08-13T12:12:47.208Z"
   },
   {
    "duration": 9,
    "start_time": "2021-08-13T12:12:47.257Z"
   },
   {
    "duration": 39,
    "start_time": "2021-08-13T12:12:47.270Z"
   },
   {
    "duration": 8,
    "start_time": "2021-08-13T12:12:47.313Z"
   },
   {
    "duration": 7,
    "start_time": "2021-08-13T12:12:47.324Z"
   },
   {
    "duration": 65,
    "start_time": "2021-08-13T12:12:47.334Z"
   },
   {
    "duration": 7,
    "start_time": "2021-08-13T12:12:47.403Z"
   },
   {
    "duration": 6,
    "start_time": "2021-08-13T12:12:47.412Z"
   },
   {
    "duration": 11,
    "start_time": "2021-08-13T12:12:47.421Z"
   },
   {
    "duration": 11,
    "start_time": "2021-08-13T12:12:47.434Z"
   },
   {
    "duration": 57,
    "start_time": "2021-08-13T12:12:47.447Z"
   },
   {
    "duration": 17,
    "start_time": "2021-08-13T12:12:47.507Z"
   },
   {
    "duration": 809,
    "start_time": "2021-08-14T09:00:58.995Z"
   },
   {
    "duration": 35,
    "start_time": "2021-08-14T09:00:59.806Z"
   },
   {
    "duration": 6,
    "start_time": "2021-08-14T09:00:59.844Z"
   },
   {
    "duration": 6,
    "start_time": "2021-08-14T09:00:59.863Z"
   },
   {
    "duration": 11,
    "start_time": "2021-08-14T09:00:59.871Z"
   },
   {
    "duration": 64,
    "start_time": "2021-08-14T09:00:59.885Z"
   },
   {
    "duration": 6,
    "start_time": "2021-08-14T09:00:59.952Z"
   },
   {
    "duration": 20,
    "start_time": "2021-08-14T09:00:59.962Z"
   },
   {
    "duration": 10,
    "start_time": "2021-08-14T09:00:59.985Z"
   },
   {
    "duration": 9,
    "start_time": "2021-08-14T09:00:59.998Z"
   },
   {
    "duration": 55,
    "start_time": "2021-08-14T09:01:00.009Z"
   },
   {
    "duration": 7,
    "start_time": "2021-08-14T09:01:00.066Z"
   },
   {
    "duration": 16,
    "start_time": "2021-08-14T09:01:00.076Z"
   },
   {
    "duration": 17,
    "start_time": "2021-08-14T09:01:00.095Z"
   },
   {
    "duration": 15,
    "start_time": "2021-08-14T09:01:00.115Z"
   },
   {
    "duration": 45,
    "start_time": "2021-08-14T09:01:00.132Z"
   },
   {
    "duration": 18,
    "start_time": "2021-08-14T09:01:00.179Z"
   },
   {
    "duration": 469,
    "start_time": "2021-08-14T09:19:10.552Z"
   },
   {
    "duration": 8,
    "start_time": "2021-08-14T09:28:04.101Z"
   },
   {
    "duration": 9070,
    "start_time": "2021-08-14T09:28:45.867Z"
   },
   {
    "duration": 7163,
    "start_time": "2021-08-14T09:30:54.585Z"
   },
   {
    "duration": 785,
    "start_time": "2021-08-14T09:31:43.502Z"
   },
   {
    "duration": 8,
    "start_time": "2021-08-14T09:32:24.114Z"
   },
   {
    "duration": 348,
    "start_time": "2021-08-14T09:33:16.620Z"
   },
   {
    "duration": 779,
    "start_time": "2021-08-14T09:34:16.768Z"
   },
   {
    "duration": 573,
    "start_time": "2021-08-14T09:35:14.452Z"
   },
   {
    "duration": 1321,
    "start_time": "2021-08-14T09:36:46.549Z"
   },
   {
    "duration": 576,
    "start_time": "2021-08-14T09:37:02.895Z"
   },
   {
    "duration": 18,
    "start_time": "2021-08-14T09:38:25.925Z"
   },
   {
    "duration": 369,
    "start_time": "2021-08-14T09:46:47.393Z"
   },
   {
    "duration": 369,
    "start_time": "2021-08-14T09:46:59.832Z"
   },
   {
    "duration": 374,
    "start_time": "2021-08-14T09:47:23.335Z"
   },
   {
    "duration": 368,
    "start_time": "2021-08-14T09:47:41.974Z"
   },
   {
    "duration": 360,
    "start_time": "2021-08-14T09:48:13.186Z"
   },
   {
    "duration": 8332,
    "start_time": "2021-08-14T09:50:07.286Z"
   },
   {
    "duration": 374,
    "start_time": "2021-08-14T09:50:24.989Z"
   },
   {
    "duration": 601,
    "start_time": "2021-08-14T09:51:51.951Z"
   },
   {
    "duration": 578,
    "start_time": "2021-08-14T09:52:34.049Z"
   },
   {
    "duration": 587,
    "start_time": "2021-08-14T09:55:14.839Z"
   },
   {
    "duration": 636,
    "start_time": "2021-08-14T09:55:41.004Z"
   },
   {
    "duration": 310,
    "start_time": "2021-08-14T10:07:35.105Z"
   },
   {
    "duration": 303,
    "start_time": "2021-08-14T10:07:48.945Z"
   },
   {
    "duration": 302,
    "start_time": "2021-08-14T10:11:13.648Z"
   },
   {
    "duration": 286,
    "start_time": "2021-08-14T10:11:21.469Z"
   },
   {
    "duration": 405,
    "start_time": "2021-08-14T10:18:57.878Z"
   },
   {
    "duration": 423,
    "start_time": "2021-08-14T10:19:09.556Z"
   },
   {
    "duration": 362,
    "start_time": "2021-08-14T10:23:34.441Z"
   },
   {
    "duration": 280,
    "start_time": "2021-08-14T10:23:51.827Z"
   },
   {
    "duration": 317,
    "start_time": "2021-08-14T10:25:41.553Z"
   },
   {
    "duration": 287,
    "start_time": "2021-08-14T10:41:24.119Z"
   },
   {
    "duration": 517,
    "start_time": "2021-08-14T10:46:13.435Z"
   },
   {
    "duration": 748,
    "start_time": "2021-08-14T10:46:34.363Z"
   },
   {
    "duration": -918,
    "start_time": "2021-08-14T10:46:36.034Z"
   },
   {
    "duration": -969,
    "start_time": "2021-08-14T10:46:36.086Z"
   },
   {
    "duration": -972,
    "start_time": "2021-08-14T10:46:36.091Z"
   },
   {
    "duration": -979,
    "start_time": "2021-08-14T10:46:36.099Z"
   },
   {
    "duration": -980,
    "start_time": "2021-08-14T10:46:36.102Z"
   },
   {
    "duration": -981,
    "start_time": "2021-08-14T10:46:36.105Z"
   },
   {
    "duration": -983,
    "start_time": "2021-08-14T10:46:36.108Z"
   },
   {
    "duration": -984,
    "start_time": "2021-08-14T10:46:36.111Z"
   },
   {
    "duration": -988,
    "start_time": "2021-08-14T10:46:36.116Z"
   },
   {
    "duration": -989,
    "start_time": "2021-08-14T10:46:36.119Z"
   },
   {
    "duration": -991,
    "start_time": "2021-08-14T10:46:36.122Z"
   },
   {
    "duration": -991,
    "start_time": "2021-08-14T10:46:36.124Z"
   },
   {
    "duration": -993,
    "start_time": "2021-08-14T10:46:36.127Z"
   },
   {
    "duration": -993,
    "start_time": "2021-08-14T10:46:36.129Z"
   },
   {
    "duration": -994,
    "start_time": "2021-08-14T10:46:36.132Z"
   },
   {
    "duration": -996,
    "start_time": "2021-08-14T10:46:36.135Z"
   },
   {
    "duration": -997,
    "start_time": "2021-08-14T10:46:36.138Z"
   },
   {
    "duration": -1000,
    "start_time": "2021-08-14T10:46:36.142Z"
   },
   {
    "duration": -1005,
    "start_time": "2021-08-14T10:46:36.149Z"
   },
   {
    "duration": -1007,
    "start_time": "2021-08-14T10:46:36.152Z"
   },
   {
    "duration": 1510,
    "start_time": "2021-08-14T10:47:37.005Z"
   },
   {
    "duration": 35,
    "start_time": "2021-08-14T10:47:38.518Z"
   },
   {
    "duration": 11,
    "start_time": "2021-08-14T10:47:38.556Z"
   },
   {
    "duration": 7,
    "start_time": "2021-08-14T10:47:38.570Z"
   },
   {
    "duration": 10,
    "start_time": "2021-08-14T10:47:38.580Z"
   },
   {
    "duration": 47,
    "start_time": "2021-08-14T10:47:38.592Z"
   },
   {
    "duration": 23,
    "start_time": "2021-08-14T10:47:38.642Z"
   },
   {
    "duration": 24,
    "start_time": "2021-08-14T10:47:38.668Z"
   },
   {
    "duration": 9,
    "start_time": "2021-08-14T10:47:38.696Z"
   },
   {
    "duration": 9,
    "start_time": "2021-08-14T10:47:38.708Z"
   },
   {
    "duration": 50,
    "start_time": "2021-08-14T10:47:38.720Z"
   },
   {
    "duration": 8,
    "start_time": "2021-08-14T10:47:38.773Z"
   },
   {
    "duration": 7,
    "start_time": "2021-08-14T10:47:38.783Z"
   },
   {
    "duration": 8,
    "start_time": "2021-08-14T10:47:38.792Z"
   },
   {
    "duration": 9,
    "start_time": "2021-08-14T10:47:38.803Z"
   },
   {
    "duration": 54,
    "start_time": "2021-08-14T10:47:38.815Z"
   },
   {
    "duration": 13,
    "start_time": "2021-08-14T10:47:38.871Z"
   },
   {
    "duration": 616,
    "start_time": "2021-08-14T10:47:38.886Z"
   },
   {
    "duration": 451,
    "start_time": "2021-08-14T10:47:39.505Z"
   },
   {
    "duration": 436,
    "start_time": "2021-08-14T10:47:39.959Z"
   },
   {
    "duration": 575,
    "start_time": "2021-08-14T10:47:40.399Z"
   },
   {
    "duration": 456,
    "start_time": "2021-08-14T10:47:40.977Z"
   },
   {
    "duration": 305,
    "start_time": "2021-08-14T10:48:10.497Z"
   },
   {
    "duration": 1057,
    "start_time": "2021-08-15T08:51:10.048Z"
   },
   {
    "duration": 29,
    "start_time": "2021-08-15T08:51:11.106Z"
   },
   {
    "duration": 5,
    "start_time": "2021-08-15T08:51:11.137Z"
   },
   {
    "duration": 7,
    "start_time": "2021-08-15T08:51:11.143Z"
   },
   {
    "duration": 7,
    "start_time": "2021-08-15T08:51:11.151Z"
   },
   {
    "duration": 45,
    "start_time": "2021-08-15T08:51:11.160Z"
   },
   {
    "duration": 4,
    "start_time": "2021-08-15T08:51:11.207Z"
   },
   {
    "duration": 13,
    "start_time": "2021-08-15T08:51:11.213Z"
   },
   {
    "duration": 7,
    "start_time": "2021-08-15T08:51:11.228Z"
   },
   {
    "duration": 6,
    "start_time": "2021-08-15T08:51:11.236Z"
   },
   {
    "duration": 23,
    "start_time": "2021-08-15T08:51:11.243Z"
   },
   {
    "duration": 7,
    "start_time": "2021-08-15T08:51:11.268Z"
   },
   {
    "duration": 9,
    "start_time": "2021-08-15T08:51:11.277Z"
   },
   {
    "duration": 7,
    "start_time": "2021-08-15T08:51:11.287Z"
   },
   {
    "duration": 6,
    "start_time": "2021-08-15T08:51:11.296Z"
   },
   {
    "duration": 13,
    "start_time": "2021-08-15T08:51:11.304Z"
   },
   {
    "duration": 27,
    "start_time": "2021-08-15T08:51:11.318Z"
   },
   {
    "duration": 347,
    "start_time": "2021-08-15T08:51:11.346Z"
   },
   {
    "duration": 245,
    "start_time": "2021-08-15T08:51:11.695Z"
   },
   {
    "duration": 229,
    "start_time": "2021-08-15T08:51:11.942Z"
   },
   {
    "duration": 311,
    "start_time": "2021-08-15T08:51:12.173Z"
   },
   {
    "duration": 237,
    "start_time": "2021-08-15T08:51:12.486Z"
   },
   {
    "duration": 172,
    "start_time": "2021-08-15T08:51:36.836Z"
   },
   {
    "duration": 322,
    "start_time": "2021-08-15T08:53:34.207Z"
   },
   {
    "duration": 6421,
    "start_time": "2021-08-15T09:41:30.276Z"
   },
   {
    "duration": 160,
    "start_time": "2021-08-15T09:42:28.068Z"
   },
   {
    "duration": 256,
    "start_time": "2021-08-15T09:42:55.528Z"
   },
   {
    "duration": 291,
    "start_time": "2021-08-15T09:43:10.817Z"
   },
   {
    "duration": 246,
    "start_time": "2021-08-15T09:43:24.500Z"
   },
   {
    "duration": 4,
    "start_time": "2021-08-15T09:44:22.771Z"
   },
   {
    "duration": 4,
    "start_time": "2021-08-15T09:44:37.085Z"
   },
   {
    "duration": 5,
    "start_time": "2021-08-15T10:08:18.967Z"
   },
   {
    "duration": 5,
    "start_time": "2021-08-15T10:08:32.046Z"
   },
   {
    "duration": 4,
    "start_time": "2021-08-15T10:09:34.879Z"
   },
   {
    "duration": 128,
    "start_time": "2021-08-15T10:27:44.028Z"
   },
   {
    "duration": 101,
    "start_time": "2021-08-15T10:28:05.305Z"
   },
   {
    "duration": 102,
    "start_time": "2021-08-15T10:28:19.084Z"
   },
   {
    "duration": 168,
    "start_time": "2021-08-15T10:29:44.962Z"
   },
   {
    "duration": 965,
    "start_time": "2021-08-15T10:31:24.688Z"
   },
   {
    "duration": 27,
    "start_time": "2021-08-15T10:31:25.655Z"
   },
   {
    "duration": 24,
    "start_time": "2021-08-15T10:31:25.684Z"
   },
   {
    "duration": 16,
    "start_time": "2021-08-15T10:31:25.709Z"
   },
   {
    "duration": 20,
    "start_time": "2021-08-15T10:31:25.726Z"
   },
   {
    "duration": 61,
    "start_time": "2021-08-15T10:31:25.747Z"
   },
   {
    "duration": 15,
    "start_time": "2021-08-15T10:31:25.809Z"
   },
   {
    "duration": 28,
    "start_time": "2021-08-15T10:31:25.827Z"
   },
   {
    "duration": 33,
    "start_time": "2021-08-15T10:31:25.857Z"
   },
   {
    "duration": 12,
    "start_time": "2021-08-15T10:31:25.892Z"
   },
   {
    "duration": 41,
    "start_time": "2021-08-15T10:31:25.905Z"
   },
   {
    "duration": 18,
    "start_time": "2021-08-15T10:31:25.947Z"
   },
   {
    "duration": 32,
    "start_time": "2021-08-15T10:31:25.966Z"
   },
   {
    "duration": 19,
    "start_time": "2021-08-15T10:31:25.999Z"
   },
   {
    "duration": 18,
    "start_time": "2021-08-15T10:31:26.020Z"
   },
   {
    "duration": 25,
    "start_time": "2021-08-15T10:31:26.040Z"
   },
   {
    "duration": 15,
    "start_time": "2021-08-15T10:31:26.066Z"
   },
   {
    "duration": 358,
    "start_time": "2021-08-15T10:31:26.082Z"
   },
   {
    "duration": 201,
    "start_time": "2021-08-15T10:31:26.442Z"
   },
   {
    "duration": 178,
    "start_time": "2021-08-15T10:31:26.644Z"
   },
   {
    "duration": 319,
    "start_time": "2021-08-15T10:31:26.823Z"
   },
   {
    "duration": 179,
    "start_time": "2021-08-15T10:31:27.144Z"
   },
   {
    "duration": 338,
    "start_time": "2021-08-15T10:31:27.325Z"
   },
   {
    "duration": 168,
    "start_time": "2021-08-15T10:31:27.665Z"
   },
   {
    "duration": 307,
    "start_time": "2021-08-15T10:31:27.835Z"
   },
   {
    "duration": 4,
    "start_time": "2021-08-15T10:31:28.144Z"
   },
   {
    "duration": 109,
    "start_time": "2021-08-15T10:31:28.150Z"
   },
   {
    "duration": 143,
    "start_time": "2021-08-15T10:33:31.003Z"
   },
   {
    "duration": 142,
    "start_time": "2021-08-15T10:33:40.401Z"
   },
   {
    "duration": 309,
    "start_time": "2021-08-15T10:36:49.699Z"
   },
   {
    "duration": 4,
    "start_time": "2021-08-15T11:14:13.581Z"
   },
   {
    "duration": 4,
    "start_time": "2021-08-15T11:16:01.259Z"
   },
   {
    "duration": 4,
    "start_time": "2021-08-15T11:18:15.198Z"
   },
   {
    "duration": 4,
    "start_time": "2021-08-15T11:18:32.559Z"
   },
   {
    "duration": 4,
    "start_time": "2021-08-15T11:18:43.700Z"
   },
   {
    "duration": 424,
    "start_time": "2021-08-15T11:24:12.968Z"
   },
   {
    "duration": 360,
    "start_time": "2021-08-15T11:24:52.563Z"
   },
   {
    "duration": 3,
    "start_time": "2021-08-15T11:25:56.125Z"
   },
   {
    "duration": 1054,
    "start_time": "2021-08-15T11:26:01.389Z"
   },
   {
    "duration": 33,
    "start_time": "2021-08-15T11:26:02.445Z"
   },
   {
    "duration": 5,
    "start_time": "2021-08-15T11:26:02.480Z"
   },
   {
    "duration": 8,
    "start_time": "2021-08-15T11:26:02.487Z"
   },
   {
    "duration": 9,
    "start_time": "2021-08-15T11:26:02.497Z"
   },
   {
    "duration": 48,
    "start_time": "2021-08-15T11:26:02.508Z"
   },
   {
    "duration": 5,
    "start_time": "2021-08-15T11:26:02.557Z"
   },
   {
    "duration": 14,
    "start_time": "2021-08-15T11:26:02.565Z"
   },
   {
    "duration": 7,
    "start_time": "2021-08-15T11:26:02.581Z"
   },
   {
    "duration": 6,
    "start_time": "2021-08-15T11:26:02.590Z"
   },
   {
    "duration": 25,
    "start_time": "2021-08-15T11:26:02.597Z"
   },
   {
    "duration": 19,
    "start_time": "2021-08-15T11:26:02.624Z"
   },
   {
    "duration": 7,
    "start_time": "2021-08-15T11:26:02.644Z"
   },
   {
    "duration": 9,
    "start_time": "2021-08-15T11:26:02.652Z"
   },
   {
    "duration": 10,
    "start_time": "2021-08-15T11:26:02.663Z"
   },
   {
    "duration": 17,
    "start_time": "2021-08-15T11:26:02.675Z"
   },
   {
    "duration": 8,
    "start_time": "2021-08-15T11:26:02.694Z"
   },
   {
    "duration": 378,
    "start_time": "2021-08-15T11:26:02.704Z"
   },
   {
    "duration": 200,
    "start_time": "2021-08-15T11:26:03.084Z"
   },
   {
    "duration": 186,
    "start_time": "2021-08-15T11:26:03.285Z"
   },
   {
    "duration": 287,
    "start_time": "2021-08-15T11:26:03.473Z"
   },
   {
    "duration": 196,
    "start_time": "2021-08-15T11:26:03.762Z"
   },
   {
    "duration": 294,
    "start_time": "2021-08-15T11:26:03.961Z"
   },
   {
    "duration": 194,
    "start_time": "2021-08-15T11:26:04.257Z"
   },
   {
    "duration": 295,
    "start_time": "2021-08-15T11:26:04.453Z"
   },
   {
    "duration": 5,
    "start_time": "2021-08-15T11:26:04.749Z"
   },
   {
    "duration": 173,
    "start_time": "2021-08-15T11:26:04.756Z"
   },
   {
    "duration": 169,
    "start_time": "2021-08-15T11:26:04.941Z"
   },
   {
    "duration": 295,
    "start_time": "2021-08-15T11:26:05.112Z"
   },
   {
    "duration": 4,
    "start_time": "2021-08-15T11:26:05.409Z"
   },
   {
    "duration": 208,
    "start_time": "2021-08-15T11:26:05.414Z"
   },
   {
    "duration": 10,
    "start_time": "2021-08-15T11:29:48.863Z"
   },
   {
    "duration": -650,
    "start_time": "2021-08-15T11:36:13.076Z"
   },
   {
    "duration": 1050,
    "start_time": "2021-08-15T11:36:26.662Z"
   },
   {
    "duration": 29,
    "start_time": "2021-08-15T11:36:27.714Z"
   },
   {
    "duration": 5,
    "start_time": "2021-08-15T11:36:27.745Z"
   },
   {
    "duration": 6,
    "start_time": "2021-08-15T11:36:27.752Z"
   },
   {
    "duration": 7,
    "start_time": "2021-08-15T11:36:27.760Z"
   },
   {
    "duration": 45,
    "start_time": "2021-08-15T11:36:27.768Z"
   },
   {
    "duration": 4,
    "start_time": "2021-08-15T11:36:27.815Z"
   },
   {
    "duration": 19,
    "start_time": "2021-08-15T11:36:27.821Z"
   },
   {
    "duration": 6,
    "start_time": "2021-08-15T11:36:27.843Z"
   },
   {
    "duration": 7,
    "start_time": "2021-08-15T11:36:27.851Z"
   },
   {
    "duration": 24,
    "start_time": "2021-08-15T11:36:27.860Z"
   },
   {
    "duration": 6,
    "start_time": "2021-08-15T11:36:27.886Z"
   },
   {
    "duration": 5,
    "start_time": "2021-08-15T11:36:27.894Z"
   },
   {
    "duration": 7,
    "start_time": "2021-08-15T11:36:27.901Z"
   },
   {
    "duration": 33,
    "start_time": "2021-08-15T11:36:27.910Z"
   },
   {
    "duration": 14,
    "start_time": "2021-08-15T11:36:27.945Z"
   },
   {
    "duration": 7,
    "start_time": "2021-08-15T11:36:27.961Z"
   },
   {
    "duration": 364,
    "start_time": "2021-08-15T11:36:27.970Z"
   },
   {
    "duration": 183,
    "start_time": "2021-08-15T11:36:28.335Z"
   },
   {
    "duration": 181,
    "start_time": "2021-08-15T11:36:28.519Z"
   },
   {
    "duration": 334,
    "start_time": "2021-08-15T11:36:28.702Z"
   },
   {
    "duration": 190,
    "start_time": "2021-08-15T11:36:29.038Z"
   },
   {
    "duration": 304,
    "start_time": "2021-08-15T11:36:29.231Z"
   },
   {
    "duration": 181,
    "start_time": "2021-08-15T11:36:29.536Z"
   },
   {
    "duration": 304,
    "start_time": "2021-08-15T11:36:29.719Z"
   },
   {
    "duration": 5,
    "start_time": "2021-08-15T11:36:30.025Z"
   },
   {
    "duration": 122,
    "start_time": "2021-08-15T11:36:30.041Z"
   },
   {
    "duration": 158,
    "start_time": "2021-08-15T11:36:30.165Z"
   },
   {
    "duration": 286,
    "start_time": "2021-08-15T11:36:30.325Z"
   },
   {
    "duration": 3,
    "start_time": "2021-08-15T11:36:30.613Z"
   },
   {
    "duration": 192,
    "start_time": "2021-08-15T11:36:30.618Z"
   },
   {
    "duration": 10,
    "start_time": "2021-08-15T11:36:30.812Z"
   },
   {
    "duration": 6820,
    "start_time": "2021-08-15T11:36:30.823Z"
   },
   {
    "duration": 9,
    "start_time": "2021-08-15T11:37:10.330Z"
   },
   {
    "duration": 89,
    "start_time": "2021-08-15T11:37:31.427Z"
   },
   {
    "duration": 298,
    "start_time": "2021-08-15T11:39:04.070Z"
   },
   {
    "duration": 9,
    "start_time": "2021-08-15T11:39:36.401Z"
   },
   {
    "duration": 13,
    "start_time": "2021-08-15T11:40:06.533Z"
   },
   {
    "duration": 13,
    "start_time": "2021-08-15T11:42:57.524Z"
   },
   {
    "duration": 1354,
    "start_time": "2021-08-15T22:38:38.979Z"
   },
   {
    "duration": 1387,
    "start_time": "2021-08-15T22:38:49.543Z"
   },
   {
    "duration": 34,
    "start_time": "2021-08-15T22:38:50.932Z"
   },
   {
    "duration": 15,
    "start_time": "2021-08-15T22:38:50.969Z"
   },
   {
    "duration": 6,
    "start_time": "2021-08-15T22:38:50.986Z"
   },
   {
    "duration": 8,
    "start_time": "2021-08-15T22:38:50.995Z"
   },
   {
    "duration": 45,
    "start_time": "2021-08-15T22:38:51.006Z"
   },
   {
    "duration": 7,
    "start_time": "2021-08-15T22:38:51.053Z"
   },
   {
    "duration": 39,
    "start_time": "2021-08-15T22:38:51.063Z"
   },
   {
    "duration": 8,
    "start_time": "2021-08-15T22:38:51.105Z"
   },
   {
    "duration": 8,
    "start_time": "2021-08-15T22:38:51.115Z"
   },
   {
    "duration": 57,
    "start_time": "2021-08-15T22:38:51.125Z"
   },
   {
    "duration": 6,
    "start_time": "2021-08-15T22:38:51.185Z"
   },
   {
    "duration": 8,
    "start_time": "2021-08-15T22:38:51.194Z"
   },
   {
    "duration": 9,
    "start_time": "2021-08-15T22:38:51.204Z"
   },
   {
    "duration": 9,
    "start_time": "2021-08-15T22:38:51.215Z"
   },
   {
    "duration": 16,
    "start_time": "2021-08-15T22:38:51.226Z"
   },
   {
    "duration": 50,
    "start_time": "2021-08-15T22:38:51.245Z"
   },
   {
    "duration": 594,
    "start_time": "2021-08-15T22:38:51.297Z"
   },
   {
    "duration": 321,
    "start_time": "2021-08-15T22:38:51.894Z"
   },
   {
    "duration": 299,
    "start_time": "2021-08-15T22:38:52.217Z"
   },
   {
    "duration": 446,
    "start_time": "2021-08-15T22:38:52.519Z"
   },
   {
    "duration": 303,
    "start_time": "2021-08-15T22:38:52.967Z"
   },
   {
    "duration": 430,
    "start_time": "2021-08-15T22:38:53.275Z"
   },
   {
    "duration": 298,
    "start_time": "2021-08-15T22:38:53.707Z"
   },
   {
    "duration": 499,
    "start_time": "2021-08-15T22:38:54.008Z"
   },
   {
    "duration": 6,
    "start_time": "2021-08-15T22:38:54.510Z"
   },
   {
    "duration": 195,
    "start_time": "2021-08-15T22:38:54.518Z"
   },
   {
    "duration": 246,
    "start_time": "2021-08-15T22:38:54.716Z"
   },
   {
    "duration": 389,
    "start_time": "2021-08-15T22:38:54.965Z"
   },
   {
    "duration": 5,
    "start_time": "2021-08-15T22:38:55.356Z"
   },
   {
    "duration": 236,
    "start_time": "2021-08-15T22:38:55.363Z"
   },
   {
    "duration": 13,
    "start_time": "2021-08-15T22:38:55.601Z"
   },
   {
    "duration": 13,
    "start_time": "2021-08-15T22:38:55.617Z"
   },
   {
    "duration": 50,
    "start_time": "2021-08-15T22:38:55.632Z"
   },
   {
    "duration": 20,
    "start_time": "2021-08-15T22:38:55.684Z"
   },
   {
    "duration": 1063,
    "start_time": "2021-08-15T22:41:01.064Z"
   },
   {
    "duration": 916,
    "start_time": "2021-08-15T22:42:07.317Z"
   },
   {
    "duration": 302,
    "start_time": "2021-08-15T22:42:39.616Z"
   },
   {
    "duration": 343,
    "start_time": "2021-08-15T22:43:39.298Z"
   },
   {
    "duration": 4346,
    "start_time": "2021-08-15T22:43:49.677Z"
   },
   {
    "duration": 310,
    "start_time": "2021-08-15T22:44:06.749Z"
   },
   {
    "duration": 418,
    "start_time": "2021-08-15T22:44:36.275Z"
   },
   {
    "duration": 990,
    "start_time": "2021-08-15T22:48:09.438Z"
   },
   {
    "duration": 349,
    "start_time": "2021-08-15T22:51:22.837Z"
   },
   {
    "duration": 296,
    "start_time": "2021-08-15T22:52:44.331Z"
   },
   {
    "duration": 173,
    "start_time": "2021-08-15T22:53:54.434Z"
   },
   {
    "duration": 184,
    "start_time": "2021-08-15T22:54:41.610Z"
   },
   {
    "duration": 179,
    "start_time": "2021-08-15T22:57:02.803Z"
   },
   {
    "duration": 648,
    "start_time": "2021-08-15T22:57:48.111Z"
   },
   {
    "duration": 97,
    "start_time": "2021-08-15T22:58:00.335Z"
   },
   {
    "duration": 455,
    "start_time": "2021-08-15T22:58:06.462Z"
   },
   {
    "duration": 418,
    "start_time": "2021-08-15T22:58:32.555Z"
   },
   {
    "duration": 461,
    "start_time": "2021-08-15T22:58:39.750Z"
   },
   {
    "duration": 73,
    "start_time": "2021-08-15T22:59:54.160Z"
   },
   {
    "duration": 1375,
    "start_time": "2021-08-15T23:00:48.048Z"
   },
   {
    "duration": 33,
    "start_time": "2021-08-15T23:00:49.426Z"
   },
   {
    "duration": 6,
    "start_time": "2021-08-15T23:00:49.461Z"
   },
   {
    "duration": 16,
    "start_time": "2021-08-15T23:00:49.470Z"
   },
   {
    "duration": 8,
    "start_time": "2021-08-15T23:00:49.488Z"
   },
   {
    "duration": 43,
    "start_time": "2021-08-15T23:00:49.498Z"
   },
   {
    "duration": 6,
    "start_time": "2021-08-15T23:00:49.543Z"
   },
   {
    "duration": 42,
    "start_time": "2021-08-15T23:00:49.552Z"
   },
   {
    "duration": 8,
    "start_time": "2021-08-15T23:00:49.597Z"
   },
   {
    "duration": 10,
    "start_time": "2021-08-15T23:00:49.607Z"
   },
   {
    "duration": 26,
    "start_time": "2021-08-15T23:00:49.620Z"
   },
   {
    "duration": 8,
    "start_time": "2021-08-15T23:00:49.649Z"
   },
   {
    "duration": 6,
    "start_time": "2021-08-15T23:00:49.683Z"
   },
   {
    "duration": 8,
    "start_time": "2021-08-15T23:00:49.691Z"
   },
   {
    "duration": 9,
    "start_time": "2021-08-15T23:00:49.701Z"
   },
   {
    "duration": 14,
    "start_time": "2021-08-15T23:00:49.712Z"
   },
   {
    "duration": 11,
    "start_time": "2021-08-15T23:00:49.728Z"
   },
   {
    "duration": 566,
    "start_time": "2021-08-15T23:00:49.782Z"
   },
   {
    "duration": 404,
    "start_time": "2021-08-15T23:00:50.351Z"
   },
   {
    "duration": 328,
    "start_time": "2021-08-15T23:00:50.757Z"
   },
   {
    "duration": 1096,
    "start_time": "2021-08-15T23:00:51.088Z"
   },
   {
    "duration": -816,
    "start_time": "2021-08-15T23:00:53.003Z"
   },
   {
    "duration": -901,
    "start_time": "2021-08-15T23:00:53.089Z"
   },
   {
    "duration": -940,
    "start_time": "2021-08-15T23:00:53.130Z"
   },
   {
    "duration": -968,
    "start_time": "2021-08-15T23:00:53.159Z"
   },
   {
    "duration": -993,
    "start_time": "2021-08-15T23:00:53.185Z"
   },
   {
    "duration": -1014,
    "start_time": "2021-08-15T23:00:53.208Z"
   },
   {
    "duration": -1024,
    "start_time": "2021-08-15T23:00:53.219Z"
   },
   {
    "duration": -1037,
    "start_time": "2021-08-15T23:00:53.233Z"
   },
   {
    "duration": -1044,
    "start_time": "2021-08-15T23:00:53.241Z"
   },
   {
    "duration": -1055,
    "start_time": "2021-08-15T23:00:53.254Z"
   },
   {
    "duration": -1064,
    "start_time": "2021-08-15T23:00:53.264Z"
   },
   {
    "duration": -1071,
    "start_time": "2021-08-15T23:00:53.272Z"
   },
   {
    "duration": -1090,
    "start_time": "2021-08-15T23:00:53.292Z"
   },
   {
    "duration": -1108,
    "start_time": "2021-08-15T23:00:53.311Z"
   },
   {
    "duration": -1129,
    "start_time": "2021-08-15T23:00:53.333Z"
   },
   {
    "duration": -1133,
    "start_time": "2021-08-15T23:00:53.339Z"
   },
   {
    "duration": 352,
    "start_time": "2021-08-15T23:01:01.536Z"
   },
   {
    "duration": 193,
    "start_time": "2021-08-15T23:02:01.446Z"
   },
   {
    "duration": 1586,
    "start_time": "2021-08-16T15:30:31.468Z"
   },
   {
    "duration": 34,
    "start_time": "2021-08-16T15:30:33.057Z"
   },
   {
    "duration": 6,
    "start_time": "2021-08-16T15:30:33.095Z"
   },
   {
    "duration": 8,
    "start_time": "2021-08-16T15:30:33.105Z"
   },
   {
    "duration": 9,
    "start_time": "2021-08-16T15:30:33.116Z"
   },
   {
    "duration": 72,
    "start_time": "2021-08-16T15:30:33.128Z"
   },
   {
    "duration": 7,
    "start_time": "2021-08-16T15:30:33.203Z"
   },
   {
    "duration": 19,
    "start_time": "2021-08-16T15:30:33.216Z"
   },
   {
    "duration": 48,
    "start_time": "2021-08-16T15:30:33.239Z"
   },
   {
    "duration": 9,
    "start_time": "2021-08-16T15:30:33.290Z"
   },
   {
    "duration": 28,
    "start_time": "2021-08-16T15:30:33.302Z"
   },
   {
    "duration": 7,
    "start_time": "2021-08-16T15:30:33.334Z"
   },
   {
    "duration": 6,
    "start_time": "2021-08-16T15:30:33.382Z"
   },
   {
    "duration": 12,
    "start_time": "2021-08-16T15:30:33.390Z"
   },
   {
    "duration": 13,
    "start_time": "2021-08-16T15:30:33.404Z"
   },
   {
    "duration": 21,
    "start_time": "2021-08-16T15:30:33.419Z"
   },
   {
    "duration": 39,
    "start_time": "2021-08-16T15:30:33.443Z"
   },
   {
    "duration": 578,
    "start_time": "2021-08-16T15:30:33.485Z"
   },
   {
    "duration": 426,
    "start_time": "2021-08-16T15:30:34.066Z"
   },
   {
    "duration": 348,
    "start_time": "2021-08-16T15:30:34.494Z"
   },
   {
    "duration": 755,
    "start_time": "2021-08-16T15:30:34.844Z"
   },
   {
    "duration": 472,
    "start_time": "2021-08-16T15:30:35.602Z"
   },
   {
    "duration": 497,
    "start_time": "2021-08-16T15:30:36.080Z"
   },
   {
    "duration": 320,
    "start_time": "2021-08-16T15:30:36.583Z"
   },
   {
    "duration": 393,
    "start_time": "2021-08-16T15:30:36.906Z"
   },
   {
    "duration": 291,
    "start_time": "2021-08-16T15:30:37.303Z"
   },
   {
    "duration": 381,
    "start_time": "2021-08-16T15:30:37.597Z"
   },
   {
    "duration": 6,
    "start_time": "2021-08-16T15:30:37.981Z"
   },
   {
    "duration": 214,
    "start_time": "2021-08-16T15:30:37.990Z"
   },
   {
    "duration": 259,
    "start_time": "2021-08-16T15:30:38.207Z"
   },
   {
    "duration": 364,
    "start_time": "2021-08-16T15:30:38.469Z"
   },
   {
    "duration": 6,
    "start_time": "2021-08-16T15:30:38.835Z"
   },
   {
    "duration": 225,
    "start_time": "2021-08-16T15:30:38.843Z"
   },
   {
    "duration": 22,
    "start_time": "2021-08-16T15:30:39.071Z"
   },
   {
    "duration": 15,
    "start_time": "2021-08-16T15:30:39.095Z"
   },
   {
    "duration": 19,
    "start_time": "2021-08-16T15:30:39.112Z"
   },
   {
    "duration": 59,
    "start_time": "2021-08-16T15:30:39.134Z"
   },
   {
    "duration": 1291,
    "start_time": "2021-08-16T15:44:33.328Z"
   },
   {
    "duration": 32,
    "start_time": "2021-08-16T15:44:34.621Z"
   },
   {
    "duration": 6,
    "start_time": "2021-08-16T15:44:34.657Z"
   },
   {
    "duration": 17,
    "start_time": "2021-08-16T15:44:34.666Z"
   },
   {
    "duration": 10,
    "start_time": "2021-08-16T15:44:34.686Z"
   },
   {
    "duration": 44,
    "start_time": "2021-08-16T15:44:34.698Z"
   },
   {
    "duration": 6,
    "start_time": "2021-08-16T15:44:34.744Z"
   },
   {
    "duration": 35,
    "start_time": "2021-08-16T15:44:34.753Z"
   },
   {
    "duration": 9,
    "start_time": "2021-08-16T15:44:34.791Z"
   },
   {
    "duration": 9,
    "start_time": "2021-08-16T15:44:34.802Z"
   },
   {
    "duration": 31,
    "start_time": "2021-08-16T15:44:34.814Z"
   },
   {
    "duration": 7,
    "start_time": "2021-08-16T15:44:34.847Z"
   },
   {
    "duration": 30,
    "start_time": "2021-08-16T15:44:34.856Z"
   },
   {
    "duration": 9,
    "start_time": "2021-08-16T15:44:34.888Z"
   },
   {
    "duration": 8,
    "start_time": "2021-08-16T15:44:34.899Z"
   },
   {
    "duration": 14,
    "start_time": "2021-08-16T15:44:34.910Z"
   },
   {
    "duration": 11,
    "start_time": "2021-08-16T15:44:34.927Z"
   },
   {
    "duration": 594,
    "start_time": "2021-08-16T15:44:34.941Z"
   },
   {
    "duration": 304,
    "start_time": "2021-08-16T15:44:35.537Z"
   },
   {
    "duration": 1077,
    "start_time": "2021-08-16T15:44:35.844Z"
   },
   {
    "duration": 413,
    "start_time": "2021-08-16T15:44:36.924Z"
   },
   {
    "duration": 517,
    "start_time": "2021-08-16T15:44:37.339Z"
   },
   {
    "duration": 312,
    "start_time": "2021-08-16T15:44:37.861Z"
   },
   {
    "duration": 405,
    "start_time": "2021-08-16T15:44:38.175Z"
   },
   {
    "duration": 295,
    "start_time": "2021-08-16T15:44:38.583Z"
   },
   {
    "duration": 381,
    "start_time": "2021-08-16T15:44:38.883Z"
   },
   {
    "duration": 5,
    "start_time": "2021-08-16T15:44:39.266Z"
   },
   {
    "duration": 203,
    "start_time": "2021-08-16T15:44:39.274Z"
   },
   {
    "duration": 245,
    "start_time": "2021-08-16T15:44:39.482Z"
   },
   {
    "duration": 358,
    "start_time": "2021-08-16T15:44:39.729Z"
   },
   {
    "duration": 6,
    "start_time": "2021-08-16T15:44:40.089Z"
   },
   {
    "duration": 255,
    "start_time": "2021-08-16T15:44:40.097Z"
   },
   {
    "duration": 28,
    "start_time": "2021-08-16T15:44:40.355Z"
   },
   {
    "duration": 12,
    "start_time": "2021-08-16T15:44:40.386Z"
   },
   {
    "duration": 19,
    "start_time": "2021-08-16T15:44:40.401Z"
   },
   {
    "duration": 19,
    "start_time": "2021-08-16T15:44:40.422Z"
   },
   {
    "duration": 282,
    "start_time": "2021-08-16T15:44:48.205Z"
   },
   {
    "duration": 5,
    "start_time": "2021-08-16T15:45:23.143Z"
   },
   {
    "duration": 1933,
    "start_time": "2021-08-16T15:45:30.162Z"
   },
   {
    "duration": 34,
    "start_time": "2021-08-16T15:45:32.097Z"
   },
   {
    "duration": 8,
    "start_time": "2021-08-16T15:45:32.135Z"
   },
   {
    "duration": 10,
    "start_time": "2021-08-16T15:45:32.147Z"
   },
   {
    "duration": 27,
    "start_time": "2021-08-16T15:45:32.160Z"
   },
   {
    "duration": 46,
    "start_time": "2021-08-16T15:45:32.189Z"
   },
   {
    "duration": 8,
    "start_time": "2021-08-16T15:45:32.238Z"
   },
   {
    "duration": 41,
    "start_time": "2021-08-16T15:45:32.251Z"
   },
   {
    "duration": 9,
    "start_time": "2021-08-16T15:45:32.296Z"
   },
   {
    "duration": 9,
    "start_time": "2021-08-16T15:45:32.308Z"
   },
   {
    "duration": 27,
    "start_time": "2021-08-16T15:45:32.320Z"
   },
   {
    "duration": 7,
    "start_time": "2021-08-16T15:45:32.382Z"
   },
   {
    "duration": 9,
    "start_time": "2021-08-16T15:45:32.392Z"
   },
   {
    "duration": 10,
    "start_time": "2021-08-16T15:45:32.403Z"
   },
   {
    "duration": 19,
    "start_time": "2021-08-16T15:45:32.416Z"
   },
   {
    "duration": 50,
    "start_time": "2021-08-16T15:45:32.438Z"
   },
   {
    "duration": 12,
    "start_time": "2021-08-16T15:45:32.491Z"
   },
   {
    "duration": 617,
    "start_time": "2021-08-16T15:45:32.506Z"
   },
   {
    "duration": 309,
    "start_time": "2021-08-16T15:45:33.126Z"
   },
   {
    "duration": 688,
    "start_time": "2021-08-16T15:45:33.438Z"
   },
   {
    "duration": 514,
    "start_time": "2021-08-16T15:45:34.129Z"
   },
   {
    "duration": 515,
    "start_time": "2021-08-16T15:45:34.645Z"
   },
   {
    "duration": 303,
    "start_time": "2021-08-16T15:45:35.164Z"
   },
   {
    "duration": 416,
    "start_time": "2021-08-16T15:45:35.469Z"
   },
   {
    "duration": 386,
    "start_time": "2021-08-16T15:45:35.887Z"
   },
   {
    "duration": 391,
    "start_time": "2021-08-16T15:45:36.275Z"
   },
   {
    "duration": 6,
    "start_time": "2021-08-16T15:45:36.668Z"
   },
   {
    "duration": 236,
    "start_time": "2021-08-16T15:45:36.683Z"
   },
   {
    "duration": 258,
    "start_time": "2021-08-16T15:45:36.921Z"
   },
   {
    "duration": 346,
    "start_time": "2021-08-16T15:45:37.183Z"
   },
   {
    "duration": 5,
    "start_time": "2021-08-16T15:45:37.531Z"
   },
   {
    "duration": 229,
    "start_time": "2021-08-16T15:45:37.539Z"
   },
   {
    "duration": 19,
    "start_time": "2021-08-16T15:45:37.771Z"
   },
   {
    "duration": 13,
    "start_time": "2021-08-16T15:45:37.793Z"
   },
   {
    "duration": 25,
    "start_time": "2021-08-16T15:45:37.808Z"
   },
   {
    "duration": 51,
    "start_time": "2021-08-16T15:45:37.835Z"
   },
   {
    "duration": 289,
    "start_time": "2021-08-16T15:45:51.023Z"
   },
   {
    "duration": 198,
    "start_time": "2021-08-16T15:46:45.013Z"
   },
   {
    "duration": 290,
    "start_time": "2021-08-16T15:47:10.907Z"
   },
   {
    "duration": 192,
    "start_time": "2021-08-16T15:51:58.775Z"
   },
   {
    "duration": 342,
    "start_time": "2021-08-16T15:58:06.923Z"
   },
   {
    "duration": 2028,
    "start_time": "2021-08-16T15:59:01.875Z"
   },
   {
    "duration": 36,
    "start_time": "2021-08-16T15:59:03.906Z"
   },
   {
    "duration": 7,
    "start_time": "2021-08-16T15:59:03.945Z"
   },
   {
    "duration": 8,
    "start_time": "2021-08-16T15:59:03.955Z"
   },
   {
    "duration": 22,
    "start_time": "2021-08-16T15:59:03.966Z"
   },
   {
    "duration": 58,
    "start_time": "2021-08-16T15:59:03.991Z"
   },
   {
    "duration": 8,
    "start_time": "2021-08-16T15:59:04.052Z"
   },
   {
    "duration": 44,
    "start_time": "2021-08-16T15:59:04.063Z"
   },
   {
    "duration": 8,
    "start_time": "2021-08-16T15:59:04.112Z"
   },
   {
    "duration": 9,
    "start_time": "2021-08-16T15:59:04.123Z"
   },
   {
    "duration": 50,
    "start_time": "2021-08-16T15:59:04.134Z"
   },
   {
    "duration": 10,
    "start_time": "2021-08-16T15:59:04.187Z"
   },
   {
    "duration": 8,
    "start_time": "2021-08-16T15:59:04.200Z"
   },
   {
    "duration": 16,
    "start_time": "2021-08-16T15:59:04.211Z"
   },
   {
    "duration": 13,
    "start_time": "2021-08-16T15:59:04.229Z"
   },
   {
    "duration": 43,
    "start_time": "2021-08-16T15:59:04.244Z"
   },
   {
    "duration": 16,
    "start_time": "2021-08-16T15:59:04.291Z"
   },
   {
    "duration": 632,
    "start_time": "2021-08-16T15:59:04.309Z"
   },
   {
    "duration": 341,
    "start_time": "2021-08-16T15:59:04.944Z"
   },
   {
    "duration": 472,
    "start_time": "2021-08-16T15:59:05.288Z"
   },
   {
    "duration": 1409,
    "start_time": "2021-08-16T15:59:05.763Z"
   },
   {
    "duration": 320,
    "start_time": "2021-08-16T15:59:07.182Z"
   },
   {
    "duration": 432,
    "start_time": "2021-08-16T15:59:07.505Z"
   },
   {
    "duration": 313,
    "start_time": "2021-08-16T15:59:07.940Z"
   },
   {
    "duration": 417,
    "start_time": "2021-08-16T15:59:08.256Z"
   },
   {
    "duration": 9,
    "start_time": "2021-08-16T15:59:08.675Z"
   },
   {
    "duration": 220,
    "start_time": "2021-08-16T15:59:08.691Z"
   },
   {
    "duration": 359,
    "start_time": "2021-08-16T15:59:08.914Z"
   },
   {
    "duration": 429,
    "start_time": "2021-08-16T15:59:09.275Z"
   },
   {
    "duration": 7,
    "start_time": "2021-08-16T15:59:09.707Z"
   },
   {
    "duration": 284,
    "start_time": "2021-08-16T15:59:09.717Z"
   },
   {
    "duration": 20,
    "start_time": "2021-08-16T15:59:10.004Z"
   },
   {
    "duration": 15,
    "start_time": "2021-08-16T15:59:10.028Z"
   },
   {
    "duration": 52,
    "start_time": "2021-08-16T15:59:10.045Z"
   },
   {
    "duration": 23,
    "start_time": "2021-08-16T15:59:10.100Z"
   },
   {
    "duration": 282,
    "start_time": "2021-08-16T15:59:35.399Z"
   },
   {
    "duration": 461,
    "start_time": "2021-08-16T16:19:23.032Z"
   },
   {
    "duration": 1820,
    "start_time": "2021-08-16T16:19:29.819Z"
   },
   {
    "duration": 35,
    "start_time": "2021-08-16T16:19:31.642Z"
   },
   {
    "duration": 8,
    "start_time": "2021-08-16T16:19:31.680Z"
   },
   {
    "duration": 8,
    "start_time": "2021-08-16T16:19:31.691Z"
   },
   {
    "duration": 10,
    "start_time": "2021-08-16T16:19:31.701Z"
   },
   {
    "duration": 47,
    "start_time": "2021-08-16T16:19:31.713Z"
   },
   {
    "duration": 6,
    "start_time": "2021-08-16T16:19:31.762Z"
   },
   {
    "duration": 19,
    "start_time": "2021-08-16T16:19:31.783Z"
   },
   {
    "duration": 9,
    "start_time": "2021-08-16T16:19:31.805Z"
   },
   {
    "duration": 8,
    "start_time": "2021-08-16T16:19:31.817Z"
   },
   {
    "duration": 55,
    "start_time": "2021-08-16T16:19:31.827Z"
   },
   {
    "duration": 6,
    "start_time": "2021-08-16T16:19:31.885Z"
   },
   {
    "duration": 7,
    "start_time": "2021-08-16T16:19:31.893Z"
   },
   {
    "duration": 10,
    "start_time": "2021-08-16T16:19:31.903Z"
   },
   {
    "duration": 12,
    "start_time": "2021-08-16T16:19:31.915Z"
   },
   {
    "duration": 53,
    "start_time": "2021-08-16T16:19:31.929Z"
   },
   {
    "duration": 12,
    "start_time": "2021-08-16T16:19:31.984Z"
   },
   {
    "duration": 575,
    "start_time": "2021-08-16T16:19:31.999Z"
   },
   {
    "duration": 322,
    "start_time": "2021-08-16T16:19:32.582Z"
   },
   {
    "duration": 301,
    "start_time": "2021-08-16T16:19:32.907Z"
   },
   {
    "duration": 366,
    "start_time": "2021-08-16T16:19:33.211Z"
   },
   {
    "duration": 302,
    "start_time": "2021-08-16T16:19:33.583Z"
   },
   {
    "duration": 407,
    "start_time": "2021-08-16T16:19:33.889Z"
   },
   {
    "duration": 286,
    "start_time": "2021-08-16T16:19:34.299Z"
   },
   {
    "duration": 397,
    "start_time": "2021-08-16T16:19:34.587Z"
   },
   {
    "duration": 5,
    "start_time": "2021-08-16T16:19:34.987Z"
   },
   {
    "duration": 203,
    "start_time": "2021-08-16T16:19:34.994Z"
   },
   {
    "duration": 352,
    "start_time": "2021-08-16T16:19:35.200Z"
   },
   {
    "duration": 380,
    "start_time": "2021-08-16T16:19:35.554Z"
   },
   {
    "duration": 6,
    "start_time": "2021-08-16T16:19:35.938Z"
   },
   {
    "duration": 242,
    "start_time": "2021-08-16T16:19:35.947Z"
   },
   {
    "duration": 14,
    "start_time": "2021-08-16T16:19:36.192Z"
   },
   {
    "duration": 13,
    "start_time": "2021-08-16T16:19:36.209Z"
   },
   {
    "duration": 22,
    "start_time": "2021-08-16T16:19:36.224Z"
   },
   {
    "duration": 53,
    "start_time": "2021-08-16T16:19:36.248Z"
   },
   {
    "duration": 1940,
    "start_time": "2021-08-16T16:34:10.719Z"
   },
   {
    "duration": 35,
    "start_time": "2021-08-16T16:34:12.661Z"
   },
   {
    "duration": 17,
    "start_time": "2021-08-16T16:34:12.700Z"
   },
   {
    "duration": 11,
    "start_time": "2021-08-16T16:34:12.720Z"
   },
   {
    "duration": 14,
    "start_time": "2021-08-16T16:34:12.733Z"
   },
   {
    "duration": 48,
    "start_time": "2021-08-16T16:34:12.750Z"
   },
   {
    "duration": 6,
    "start_time": "2021-08-16T16:34:12.800Z"
   },
   {
    "duration": 18,
    "start_time": "2021-08-16T16:34:12.810Z"
   },
   {
    "duration": 9,
    "start_time": "2021-08-16T16:34:12.831Z"
   },
   {
    "duration": 42,
    "start_time": "2021-08-16T16:34:12.843Z"
   },
   {
    "duration": 28,
    "start_time": "2021-08-16T16:34:12.887Z"
   },
   {
    "duration": 7,
    "start_time": "2021-08-16T16:34:12.918Z"
   },
   {
    "duration": 7,
    "start_time": "2021-08-16T16:34:12.927Z"
   },
   {
    "duration": 10,
    "start_time": "2021-08-16T16:34:12.936Z"
   },
   {
    "duration": 8,
    "start_time": "2021-08-16T16:34:12.983Z"
   },
   {
    "duration": 24,
    "start_time": "2021-08-16T16:34:12.994Z"
   },
   {
    "duration": 13,
    "start_time": "2021-08-16T16:34:13.021Z"
   },
   {
    "duration": 573,
    "start_time": "2021-08-16T16:34:13.036Z"
   },
   {
    "duration": 321,
    "start_time": "2021-08-16T16:34:13.611Z"
   },
   {
    "duration": 291,
    "start_time": "2021-08-16T16:34:13.935Z"
   },
   {
    "duration": 376,
    "start_time": "2021-08-16T16:34:14.228Z"
   },
   {
    "duration": 310,
    "start_time": "2021-08-16T16:34:14.607Z"
   },
   {
    "duration": 468,
    "start_time": "2021-08-16T16:34:14.924Z"
   },
   {
    "duration": 305,
    "start_time": "2021-08-16T16:34:15.395Z"
   },
   {
    "duration": 366,
    "start_time": "2021-08-16T16:34:15.703Z"
   },
   {
    "duration": 11,
    "start_time": "2021-08-16T16:34:16.072Z"
   },
   {
    "duration": 198,
    "start_time": "2021-08-16T16:34:16.085Z"
   },
   {
    "duration": 335,
    "start_time": "2021-08-16T16:34:16.285Z"
   },
   {
    "duration": 344,
    "start_time": "2021-08-16T16:34:16.622Z"
   },
   {
    "duration": 5,
    "start_time": "2021-08-16T16:34:16.968Z"
   },
   {
    "duration": 244,
    "start_time": "2021-08-16T16:34:16.983Z"
   },
   {
    "duration": 13,
    "start_time": "2021-08-16T16:34:17.230Z"
   },
   {
    "duration": 12,
    "start_time": "2021-08-16T16:34:17.246Z"
   },
   {
    "duration": 20,
    "start_time": "2021-08-16T16:34:17.283Z"
   },
   {
    "duration": 19,
    "start_time": "2021-08-16T16:34:17.305Z"
   },
   {
    "duration": 1493,
    "start_time": "2021-08-18T06:58:14.976Z"
   },
   {
    "duration": 29,
    "start_time": "2021-08-18T06:58:16.472Z"
   },
   {
    "duration": 8,
    "start_time": "2021-08-18T06:58:16.503Z"
   },
   {
    "duration": 10,
    "start_time": "2021-08-18T06:58:16.513Z"
   },
   {
    "duration": 8,
    "start_time": "2021-08-18T06:58:16.525Z"
   },
   {
    "duration": 47,
    "start_time": "2021-08-18T06:58:16.535Z"
   },
   {
    "duration": 5,
    "start_time": "2021-08-18T06:58:16.584Z"
   },
   {
    "duration": 13,
    "start_time": "2021-08-18T06:58:16.592Z"
   },
   {
    "duration": 13,
    "start_time": "2021-08-18T06:58:16.607Z"
   },
   {
    "duration": 10,
    "start_time": "2021-08-18T06:58:16.621Z"
   },
   {
    "duration": 28,
    "start_time": "2021-08-18T06:58:16.633Z"
   },
   {
    "duration": 12,
    "start_time": "2021-08-18T06:58:16.663Z"
   },
   {
    "duration": 6,
    "start_time": "2021-08-18T06:58:16.677Z"
   },
   {
    "duration": 14,
    "start_time": "2021-08-18T06:58:16.685Z"
   },
   {
    "duration": 11,
    "start_time": "2021-08-18T06:58:16.701Z"
   },
   {
    "duration": 11,
    "start_time": "2021-08-18T06:58:16.714Z"
   },
   {
    "duration": 21,
    "start_time": "2021-08-18T06:58:16.727Z"
   },
   {
    "duration": 394,
    "start_time": "2021-08-18T06:58:16.750Z"
   },
   {
    "duration": 218,
    "start_time": "2021-08-18T06:58:17.146Z"
   },
   {
    "duration": 223,
    "start_time": "2021-08-18T06:58:17.367Z"
   },
   {
    "duration": 309,
    "start_time": "2021-08-18T06:58:17.592Z"
   },
   {
    "duration": 223,
    "start_time": "2021-08-18T06:58:17.903Z"
   },
   {
    "duration": 337,
    "start_time": "2021-08-18T06:58:18.129Z"
   },
   {
    "duration": 197,
    "start_time": "2021-08-18T06:58:18.469Z"
   },
   {
    "duration": 285,
    "start_time": "2021-08-18T06:58:18.669Z"
   },
   {
    "duration": 5,
    "start_time": "2021-08-18T06:58:18.956Z"
   },
   {
    "duration": 127,
    "start_time": "2021-08-18T06:58:18.964Z"
   },
   {
    "duration": 263,
    "start_time": "2021-08-18T06:58:19.093Z"
   },
   {
    "duration": 293,
    "start_time": "2021-08-18T06:58:19.358Z"
   },
   {
    "duration": 4,
    "start_time": "2021-08-18T06:58:19.653Z"
   },
   {
    "duration": 164,
    "start_time": "2021-08-18T06:58:19.659Z"
   },
   {
    "duration": 22,
    "start_time": "2021-08-18T06:58:19.825Z"
   },
   {
    "duration": 9,
    "start_time": "2021-08-18T06:58:19.849Z"
   },
   {
    "duration": 18,
    "start_time": "2021-08-18T06:58:19.860Z"
   },
   {
    "duration": 14,
    "start_time": "2021-08-18T06:58:19.880Z"
   },
   {
    "duration": 212,
    "start_time": "2021-08-18T06:58:45.314Z"
   },
   {
    "duration": 1472,
    "start_time": "2021-08-18T07:01:01.491Z"
   },
   {
    "duration": 32,
    "start_time": "2021-08-18T07:01:02.964Z"
   },
   {
    "duration": 11,
    "start_time": "2021-08-18T07:01:02.998Z"
   },
   {
    "duration": 11,
    "start_time": "2021-08-18T07:01:03.011Z"
   },
   {
    "duration": 9,
    "start_time": "2021-08-18T07:01:03.023Z"
   },
   {
    "duration": 51,
    "start_time": "2021-08-18T07:01:03.033Z"
   },
   {
    "duration": 4,
    "start_time": "2021-08-18T07:01:03.086Z"
   },
   {
    "duration": 28,
    "start_time": "2021-08-18T07:01:03.092Z"
   },
   {
    "duration": 14,
    "start_time": "2021-08-18T07:01:03.123Z"
   },
   {
    "duration": 15,
    "start_time": "2021-08-18T07:01:03.139Z"
   },
   {
    "duration": 28,
    "start_time": "2021-08-18T07:01:03.156Z"
   },
   {
    "duration": 11,
    "start_time": "2021-08-18T07:01:03.187Z"
   },
   {
    "duration": 7,
    "start_time": "2021-08-18T07:01:03.200Z"
   },
   {
    "duration": 22,
    "start_time": "2021-08-18T07:01:03.209Z"
   },
   {
    "duration": 18,
    "start_time": "2021-08-18T07:01:03.233Z"
   },
   {
    "duration": 22,
    "start_time": "2021-08-18T07:01:03.252Z"
   },
   {
    "duration": 9,
    "start_time": "2021-08-18T07:01:03.276Z"
   },
   {
    "duration": 370,
    "start_time": "2021-08-18T07:01:03.287Z"
   },
   {
    "duration": 230,
    "start_time": "2021-08-18T07:01:03.659Z"
   },
   {
    "duration": 264,
    "start_time": "2021-08-18T07:01:03.892Z"
   },
   {
    "duration": 323,
    "start_time": "2021-08-18T07:01:04.158Z"
   },
   {
    "duration": 220,
    "start_time": "2021-08-18T07:01:04.484Z"
   },
   {
    "duration": 346,
    "start_time": "2021-08-18T07:01:04.705Z"
   },
   {
    "duration": 183,
    "start_time": "2021-08-18T07:01:05.052Z"
   },
   {
    "duration": 306,
    "start_time": "2021-08-18T07:01:05.237Z"
   },
   {
    "duration": 4,
    "start_time": "2021-08-18T07:01:05.545Z"
   },
   {
    "duration": 128,
    "start_time": "2021-08-18T07:01:05.552Z"
   },
   {
    "duration": 259,
    "start_time": "2021-08-18T07:01:05.682Z"
   },
   {
    "duration": 286,
    "start_time": "2021-08-18T07:01:05.944Z"
   },
   {
    "duration": 12,
    "start_time": "2021-08-18T07:01:06.231Z"
   },
   {
    "duration": 136,
    "start_time": "2021-08-18T07:01:06.245Z"
   },
   {
    "duration": 10,
    "start_time": "2021-08-18T07:01:06.383Z"
   },
   {
    "duration": 11,
    "start_time": "2021-08-18T07:01:06.395Z"
   },
   {
    "duration": 37,
    "start_time": "2021-08-18T07:01:06.408Z"
   },
   {
    "duration": 15,
    "start_time": "2021-08-18T07:01:06.448Z"
   },
   {
    "duration": 373,
    "start_time": "2021-08-18T07:02:53.421Z"
   },
   {
    "duration": 404,
    "start_time": "2021-08-18T07:03:09.701Z"
   },
   {
    "duration": 398,
    "start_time": "2021-08-18T07:03:55.406Z"
   },
   {
    "duration": 398,
    "start_time": "2021-08-18T07:04:34.898Z"
   },
   {
    "duration": 378,
    "start_time": "2021-08-18T07:07:36.417Z"
   },
   {
    "duration": 196,
    "start_time": "2021-08-18T07:09:54.884Z"
   },
   {
    "duration": 187,
    "start_time": "2021-08-18T07:21:25.075Z"
   },
   {
    "duration": 187,
    "start_time": "2021-08-18T07:21:33.885Z"
   },
   {
    "duration": 210,
    "start_time": "2021-08-18T07:21:44.571Z"
   },
   {
    "duration": 209,
    "start_time": "2021-08-18T07:21:54.533Z"
   },
   {
    "duration": 193,
    "start_time": "2021-08-18T07:22:57.279Z"
   },
   {
    "duration": 200,
    "start_time": "2021-08-18T07:24:45.622Z"
   },
   {
    "duration": 314,
    "start_time": "2021-08-18T07:28:13.998Z"
   },
   {
    "duration": 299,
    "start_time": "2021-08-18T07:29:24.659Z"
   },
   {
    "duration": 172,
    "start_time": "2021-08-18T07:43:10.380Z"
   },
   {
    "duration": 10,
    "start_time": "2021-08-18T08:17:14.713Z"
   },
   {
    "duration": 10,
    "start_time": "2021-08-18T08:18:14.181Z"
   },
   {
    "duration": 16,
    "start_time": "2021-08-18T08:19:09.672Z"
   },
   {
    "duration": 1091,
    "start_time": "2021-08-18T08:35:44.544Z"
   },
   {
    "duration": 29,
    "start_time": "2021-08-18T08:35:45.638Z"
   },
   {
    "duration": 5,
    "start_time": "2021-08-18T08:35:45.669Z"
   },
   {
    "duration": 9,
    "start_time": "2021-08-18T08:35:45.676Z"
   },
   {
    "duration": 7,
    "start_time": "2021-08-18T08:35:45.687Z"
   },
   {
    "duration": 56,
    "start_time": "2021-08-18T08:35:45.696Z"
   },
   {
    "duration": 5,
    "start_time": "2021-08-18T08:35:45.754Z"
   },
   {
    "duration": 14,
    "start_time": "2021-08-18T08:35:45.761Z"
   },
   {
    "duration": 13,
    "start_time": "2021-08-18T08:35:45.777Z"
   },
   {
    "duration": 6,
    "start_time": "2021-08-18T08:35:45.792Z"
   },
   {
    "duration": 34,
    "start_time": "2021-08-18T08:35:45.799Z"
   },
   {
    "duration": 5,
    "start_time": "2021-08-18T08:35:45.841Z"
   },
   {
    "duration": 21,
    "start_time": "2021-08-18T08:35:45.847Z"
   },
   {
    "duration": 17,
    "start_time": "2021-08-18T08:35:45.869Z"
   },
   {
    "duration": 8,
    "start_time": "2021-08-18T08:35:45.888Z"
   },
   {
    "duration": 16,
    "start_time": "2021-08-18T08:35:45.897Z"
   },
   {
    "duration": 9,
    "start_time": "2021-08-18T08:35:45.914Z"
   },
   {
    "duration": 473,
    "start_time": "2021-08-18T08:35:45.925Z"
   },
   {
    "duration": 210,
    "start_time": "2021-08-18T08:35:46.400Z"
   },
   {
    "duration": 195,
    "start_time": "2021-08-18T08:35:46.611Z"
   },
   {
    "duration": 333,
    "start_time": "2021-08-18T08:35:46.808Z"
   },
   {
    "duration": 208,
    "start_time": "2021-08-18T08:35:47.142Z"
   },
   {
    "duration": 317,
    "start_time": "2021-08-18T08:35:47.354Z"
   },
   {
    "duration": 182,
    "start_time": "2021-08-18T08:35:47.673Z"
   },
   {
    "duration": 288,
    "start_time": "2021-08-18T08:35:47.857Z"
   },
   {
    "duration": 6,
    "start_time": "2021-08-18T08:35:48.147Z"
   },
   {
    "duration": 133,
    "start_time": "2021-08-18T08:35:48.155Z"
   },
   {
    "duration": 178,
    "start_time": "2021-08-18T08:35:48.290Z"
   },
   {
    "duration": 276,
    "start_time": "2021-08-18T08:35:48.471Z"
   },
   {
    "duration": 5,
    "start_time": "2021-08-18T08:35:48.749Z"
   },
   {
    "duration": 216,
    "start_time": "2021-08-18T08:35:48.756Z"
   },
   {
    "duration": 12,
    "start_time": "2021-08-18T08:35:48.974Z"
   },
   {
    "duration": 16,
    "start_time": "2021-08-18T08:35:48.988Z"
   },
   {
    "duration": 37,
    "start_time": "2021-08-18T08:35:49.006Z"
   },
   {
    "duration": 16,
    "start_time": "2021-08-18T08:35:49.045Z"
   },
   {
    "duration": 11,
    "start_time": "2021-08-18T09:21:08.672Z"
   },
   {
    "duration": 15,
    "start_time": "2021-08-18T09:21:20.157Z"
   },
   {
    "duration": 14,
    "start_time": "2021-08-18T09:21:21.569Z"
   },
   {
    "duration": 14,
    "start_time": "2021-08-18T09:21:22.070Z"
   },
   {
    "duration": 14,
    "start_time": "2021-08-18T09:21:25.230Z"
   },
   {
    "duration": 302,
    "start_time": "2021-08-18T09:27:17.755Z"
   },
   {
    "duration": 1135,
    "start_time": "2021-08-18T09:30:02.203Z"
   },
   {
    "duration": 32,
    "start_time": "2021-08-18T09:30:03.341Z"
   },
   {
    "duration": 12,
    "start_time": "2021-08-18T09:30:03.376Z"
   },
   {
    "duration": 15,
    "start_time": "2021-08-18T09:30:03.390Z"
   },
   {
    "duration": 11,
    "start_time": "2021-08-18T09:30:03.407Z"
   },
   {
    "duration": 56,
    "start_time": "2021-08-18T09:30:03.420Z"
   },
   {
    "duration": 6,
    "start_time": "2021-08-18T09:30:03.478Z"
   },
   {
    "duration": 21,
    "start_time": "2021-08-18T09:30:03.487Z"
   },
   {
    "duration": 24,
    "start_time": "2021-08-18T09:30:03.511Z"
   },
   {
    "duration": 15,
    "start_time": "2021-08-18T09:30:03.538Z"
   },
   {
    "duration": 36,
    "start_time": "2021-08-18T09:30:03.555Z"
   },
   {
    "duration": 10,
    "start_time": "2021-08-18T09:30:03.594Z"
   },
   {
    "duration": 15,
    "start_time": "2021-08-18T09:30:03.606Z"
   },
   {
    "duration": 7,
    "start_time": "2021-08-18T09:30:03.623Z"
   },
   {
    "duration": 9,
    "start_time": "2021-08-18T09:30:03.633Z"
   },
   {
    "duration": 19,
    "start_time": "2021-08-18T09:30:03.645Z"
   },
   {
    "duration": 10,
    "start_time": "2021-08-18T09:30:03.666Z"
   },
   {
    "duration": 416,
    "start_time": "2021-08-18T09:30:03.678Z"
   },
   {
    "duration": 227,
    "start_time": "2021-08-18T09:30:04.097Z"
   },
   {
    "duration": 285,
    "start_time": "2021-08-18T09:30:04.326Z"
   },
   {
    "duration": 357,
    "start_time": "2021-08-18T09:30:04.613Z"
   },
   {
    "duration": 216,
    "start_time": "2021-08-18T09:30:04.972Z"
   },
   {
    "duration": 342,
    "start_time": "2021-08-18T09:30:05.191Z"
   },
   {
    "duration": 190,
    "start_time": "2021-08-18T09:30:05.535Z"
   },
   {
    "duration": 341,
    "start_time": "2021-08-18T09:30:05.727Z"
   },
   {
    "duration": 5,
    "start_time": "2021-08-18T09:30:06.070Z"
   },
   {
    "duration": 122,
    "start_time": "2021-08-18T09:30:06.076Z"
   },
   {
    "duration": 175,
    "start_time": "2021-08-18T09:30:06.201Z"
   },
   {
    "duration": 265,
    "start_time": "2021-08-18T09:30:06.378Z"
   },
   {
    "duration": 5,
    "start_time": "2021-08-18T09:30:06.645Z"
   },
   {
    "duration": 268,
    "start_time": "2021-08-18T09:30:06.652Z"
   },
   {
    "duration": 27,
    "start_time": "2021-08-18T09:30:06.922Z"
   },
   {
    "duration": 10,
    "start_time": "2021-08-18T09:30:06.951Z"
   },
   {
    "duration": 21,
    "start_time": "2021-08-18T09:30:06.963Z"
   },
   {
    "duration": 18,
    "start_time": "2021-08-18T09:30:06.986Z"
   },
   {
    "duration": 1043,
    "start_time": "2021-08-18T09:30:22.093Z"
   },
   {
    "duration": 30,
    "start_time": "2021-08-18T09:30:23.138Z"
   },
   {
    "duration": 6,
    "start_time": "2021-08-18T09:30:23.170Z"
   },
   {
    "duration": 7,
    "start_time": "2021-08-18T09:30:23.178Z"
   },
   {
    "duration": 9,
    "start_time": "2021-08-18T09:30:23.187Z"
   },
   {
    "duration": 45,
    "start_time": "2021-08-18T09:30:23.198Z"
   },
   {
    "duration": 6,
    "start_time": "2021-08-18T09:30:23.245Z"
   },
   {
    "duration": 18,
    "start_time": "2021-08-18T09:30:23.254Z"
   },
   {
    "duration": 8,
    "start_time": "2021-08-18T09:30:23.274Z"
   },
   {
    "duration": 7,
    "start_time": "2021-08-18T09:30:23.284Z"
   },
   {
    "duration": 28,
    "start_time": "2021-08-18T09:30:23.293Z"
   },
   {
    "duration": 19,
    "start_time": "2021-08-18T09:30:23.323Z"
   },
   {
    "duration": 7,
    "start_time": "2021-08-18T09:30:23.344Z"
   },
   {
    "duration": 8,
    "start_time": "2021-08-18T09:30:23.353Z"
   },
   {
    "duration": 15,
    "start_time": "2021-08-18T09:30:23.362Z"
   },
   {
    "duration": 14,
    "start_time": "2021-08-18T09:30:23.378Z"
   },
   {
    "duration": 9,
    "start_time": "2021-08-18T09:30:23.393Z"
   },
   {
    "duration": 383,
    "start_time": "2021-08-18T09:30:23.403Z"
   },
   {
    "duration": 208,
    "start_time": "2021-08-18T09:30:23.788Z"
   },
   {
    "duration": 203,
    "start_time": "2021-08-18T09:30:23.998Z"
   },
   {
    "duration": 351,
    "start_time": "2021-08-18T09:30:24.203Z"
   },
   {
    "duration": 214,
    "start_time": "2021-08-18T09:30:24.555Z"
   },
   {
    "duration": 300,
    "start_time": "2021-08-18T09:30:24.772Z"
   },
   {
    "duration": 220,
    "start_time": "2021-08-18T09:30:25.074Z"
   },
   {
    "duration": 299,
    "start_time": "2021-08-18T09:30:25.296Z"
   },
   {
    "duration": 5,
    "start_time": "2021-08-18T09:30:25.597Z"
   },
   {
    "duration": 119,
    "start_time": "2021-08-18T09:30:25.603Z"
   },
   {
    "duration": 181,
    "start_time": "2021-08-18T09:30:25.724Z"
   },
   {
    "duration": 314,
    "start_time": "2021-08-18T09:30:25.907Z"
   },
   {
    "duration": 4,
    "start_time": "2021-08-18T09:30:26.223Z"
   },
   {
    "duration": 213,
    "start_time": "2021-08-18T09:30:26.229Z"
   },
   {
    "duration": 10,
    "start_time": "2021-08-18T09:30:26.444Z"
   },
   {
    "duration": 9,
    "start_time": "2021-08-18T09:30:26.455Z"
   },
   {
    "duration": 21,
    "start_time": "2021-08-18T09:30:26.466Z"
   },
   {
    "duration": 29,
    "start_time": "2021-08-18T09:30:26.489Z"
   },
   {
    "duration": 1117,
    "start_time": "2021-08-18T09:40:15.816Z"
   },
   {
    "duration": 30,
    "start_time": "2021-08-18T09:40:16.935Z"
   },
   {
    "duration": 16,
    "start_time": "2021-08-18T09:40:16.967Z"
   },
   {
    "duration": 17,
    "start_time": "2021-08-18T09:40:16.985Z"
   },
   {
    "duration": 12,
    "start_time": "2021-08-18T09:40:17.003Z"
   },
   {
    "duration": 50,
    "start_time": "2021-08-18T09:40:17.017Z"
   },
   {
    "duration": 5,
    "start_time": "2021-08-18T09:40:17.069Z"
   },
   {
    "duration": 28,
    "start_time": "2021-08-18T09:40:17.076Z"
   },
   {
    "duration": 18,
    "start_time": "2021-08-18T09:40:17.106Z"
   },
   {
    "duration": 11,
    "start_time": "2021-08-18T09:40:17.125Z"
   },
   {
    "duration": 38,
    "start_time": "2021-08-18T09:40:17.138Z"
   },
   {
    "duration": 6,
    "start_time": "2021-08-18T09:40:17.178Z"
   },
   {
    "duration": 7,
    "start_time": "2021-08-18T09:40:17.186Z"
   },
   {
    "duration": 25,
    "start_time": "2021-08-18T09:40:17.195Z"
   },
   {
    "duration": 13,
    "start_time": "2021-08-18T09:40:17.222Z"
   },
   {
    "duration": 29,
    "start_time": "2021-08-18T09:40:17.237Z"
   },
   {
    "duration": 8,
    "start_time": "2021-08-18T09:40:17.268Z"
   },
   {
    "duration": 383,
    "start_time": "2021-08-18T09:40:17.278Z"
   },
   {
    "duration": 207,
    "start_time": "2021-08-18T09:40:17.663Z"
   },
   {
    "duration": 204,
    "start_time": "2021-08-18T09:40:17.872Z"
   },
   {
    "duration": 281,
    "start_time": "2021-08-18T09:40:18.078Z"
   },
   {
    "duration": 212,
    "start_time": "2021-08-18T09:40:18.361Z"
   },
   {
    "duration": 321,
    "start_time": "2021-08-18T09:40:18.576Z"
   },
   {
    "duration": 189,
    "start_time": "2021-08-18T09:40:18.900Z"
   },
   {
    "duration": 278,
    "start_time": "2021-08-18T09:40:19.091Z"
   },
   {
    "duration": 4,
    "start_time": "2021-08-18T09:40:19.371Z"
   },
   {
    "duration": 114,
    "start_time": "2021-08-18T09:40:19.377Z"
   },
   {
    "duration": 263,
    "start_time": "2021-08-18T09:40:19.493Z"
   },
   {
    "duration": 270,
    "start_time": "2021-08-18T09:40:19.758Z"
   },
   {
    "duration": 12,
    "start_time": "2021-08-18T09:40:20.030Z"
   },
   {
    "duration": 215,
    "start_time": "2021-08-18T09:40:20.044Z"
   },
   {
    "duration": 12,
    "start_time": "2021-08-18T09:40:20.261Z"
   },
   {
    "duration": 12,
    "start_time": "2021-08-18T09:40:20.274Z"
   },
   {
    "duration": 19,
    "start_time": "2021-08-18T09:40:20.288Z"
   },
   {
    "duration": 41,
    "start_time": "2021-08-18T09:40:20.309Z"
   },
   {
    "duration": 383,
    "start_time": "2021-08-18T11:35:37.859Z"
   },
   {
    "duration": 1340,
    "start_time": "2021-08-18T11:35:44.969Z"
   },
   {
    "duration": 37,
    "start_time": "2021-08-18T11:35:46.312Z"
   },
   {
    "duration": 7,
    "start_time": "2021-08-18T11:35:46.356Z"
   },
   {
    "duration": 9,
    "start_time": "2021-08-18T11:35:46.366Z"
   },
   {
    "duration": 8,
    "start_time": "2021-08-18T11:35:46.377Z"
   },
   {
    "duration": 76,
    "start_time": "2021-08-18T11:35:46.388Z"
   },
   {
    "duration": 6,
    "start_time": "2021-08-18T11:35:46.466Z"
   },
   {
    "duration": 33,
    "start_time": "2021-08-18T11:35:46.478Z"
   },
   {
    "duration": 22,
    "start_time": "2021-08-18T11:35:46.515Z"
   },
   {
    "duration": 10,
    "start_time": "2021-08-18T11:35:46.557Z"
   },
   {
    "duration": 31,
    "start_time": "2021-08-18T11:35:46.571Z"
   },
   {
    "duration": 16,
    "start_time": "2021-08-18T11:35:46.604Z"
   },
   {
    "duration": 36,
    "start_time": "2021-08-18T11:35:46.622Z"
   },
   {
    "duration": 12,
    "start_time": "2021-08-18T11:35:46.661Z"
   },
   {
    "duration": 18,
    "start_time": "2021-08-18T11:35:46.675Z"
   },
   {
    "duration": 16,
    "start_time": "2021-08-18T11:35:46.695Z"
   },
   {
    "duration": 13,
    "start_time": "2021-08-18T11:35:46.714Z"
   },
   {
    "duration": 860,
    "start_time": "2021-08-18T11:35:46.729Z"
   },
   {
    "duration": 336,
    "start_time": "2021-08-18T11:35:47.592Z"
   },
   {
    "duration": 309,
    "start_time": "2021-08-18T11:35:47.931Z"
   },
   {
    "duration": 417,
    "start_time": "2021-08-18T11:35:48.242Z"
   },
   {
    "duration": 325,
    "start_time": "2021-08-18T11:35:48.662Z"
   },
   {
    "duration": 469,
    "start_time": "2021-08-18T11:35:48.992Z"
   },
   {
    "duration": 295,
    "start_time": "2021-08-18T11:35:49.464Z"
   },
   {
    "duration": 394,
    "start_time": "2021-08-18T11:35:49.762Z"
   },
   {
    "duration": 7,
    "start_time": "2021-08-18T11:35:50.158Z"
   },
   {
    "duration": 218,
    "start_time": "2021-08-18T11:35:50.167Z"
   },
   {
    "duration": 276,
    "start_time": "2021-08-18T11:35:50.388Z"
   },
   {
    "duration": 368,
    "start_time": "2021-08-18T11:35:50.667Z"
   },
   {
    "duration": 6,
    "start_time": "2021-08-18T11:35:51.037Z"
   },
   {
    "duration": 313,
    "start_time": "2021-08-18T11:35:51.057Z"
   },
   {
    "duration": 13,
    "start_time": "2021-08-18T11:35:51.372Z"
   },
   {
    "duration": 23,
    "start_time": "2021-08-18T11:35:51.388Z"
   },
   {
    "duration": 35,
    "start_time": "2021-08-18T11:35:51.413Z"
   },
   {
    "duration": 39,
    "start_time": "2021-08-18T11:35:51.456Z"
   },
   {
    "duration": 429,
    "start_time": "2021-08-18T11:36:13.534Z"
   },
   {
    "duration": 8,
    "start_time": "2021-08-18T11:39:43.841Z"
   },
   {
    "duration": 7,
    "start_time": "2021-08-18T11:39:46.666Z"
   },
   {
    "duration": 6,
    "start_time": "2021-08-18T11:39:50.619Z"
   },
   {
    "duration": 6,
    "start_time": "2021-08-18T11:39:52.442Z"
   },
   {
    "duration": 1451,
    "start_time": "2021-08-18T11:51:38.965Z"
   },
   {
    "duration": 38,
    "start_time": "2021-08-18T11:51:40.419Z"
   },
   {
    "duration": 6,
    "start_time": "2021-08-18T11:51:40.460Z"
   },
   {
    "duration": 17,
    "start_time": "2021-08-18T11:51:40.469Z"
   },
   {
    "duration": 23,
    "start_time": "2021-08-18T11:51:40.489Z"
   },
   {
    "duration": 88,
    "start_time": "2021-08-18T11:51:40.514Z"
   },
   {
    "duration": 6,
    "start_time": "2021-08-18T11:51:40.605Z"
   },
   {
    "duration": 35,
    "start_time": "2021-08-18T11:51:40.614Z"
   },
   {
    "duration": 21,
    "start_time": "2021-08-18T11:51:40.652Z"
   },
   {
    "duration": 12,
    "start_time": "2021-08-18T11:51:40.676Z"
   },
   {
    "duration": 39,
    "start_time": "2021-08-18T11:51:40.691Z"
   },
   {
    "duration": 7,
    "start_time": "2021-08-18T11:51:40.732Z"
   },
   {
    "duration": 30,
    "start_time": "2021-08-18T11:51:40.741Z"
   },
   {
    "duration": 22,
    "start_time": "2021-08-18T11:51:40.773Z"
   },
   {
    "duration": 29,
    "start_time": "2021-08-18T11:51:40.798Z"
   },
   {
    "duration": 29,
    "start_time": "2021-08-18T11:51:40.830Z"
   },
   {
    "duration": 28,
    "start_time": "2021-08-18T11:51:40.863Z"
   },
   {
    "duration": 450,
    "start_time": "2021-08-18T11:51:40.894Z"
   },
   {
    "duration": 333,
    "start_time": "2021-08-18T11:51:41.346Z"
   },
   {
    "duration": 322,
    "start_time": "2021-08-18T11:51:41.682Z"
   },
   {
    "duration": 441,
    "start_time": "2021-08-18T11:51:42.007Z"
   },
   {
    "duration": 729,
    "start_time": "2021-08-18T11:51:42.450Z"
   },
   {
    "duration": 153,
    "start_time": "2021-08-18T11:51:43.030Z"
   },
   {
    "duration": 151,
    "start_time": "2021-08-18T11:51:43.033Z"
   },
   {
    "duration": 149,
    "start_time": "2021-08-18T11:51:43.036Z"
   },
   {
    "duration": 147,
    "start_time": "2021-08-18T11:51:43.039Z"
   },
   {
    "duration": 147,
    "start_time": "2021-08-18T11:51:43.041Z"
   },
   {
    "duration": 146,
    "start_time": "2021-08-18T11:51:43.043Z"
   },
   {
    "duration": 145,
    "start_time": "2021-08-18T11:51:43.045Z"
   },
   {
    "duration": 145,
    "start_time": "2021-08-18T11:51:43.047Z"
   },
   {
    "duration": 145,
    "start_time": "2021-08-18T11:51:43.048Z"
   },
   {
    "duration": 143,
    "start_time": "2021-08-18T11:51:43.051Z"
   },
   {
    "duration": 141,
    "start_time": "2021-08-18T11:51:43.054Z"
   },
   {
    "duration": 141,
    "start_time": "2021-08-18T11:51:43.055Z"
   },
   {
    "duration": 141,
    "start_time": "2021-08-18T11:51:43.057Z"
   },
   {
    "duration": 330,
    "start_time": "2021-08-18T11:53:01.797Z"
   },
   {
    "duration": 466,
    "start_time": "2021-08-18T11:53:07.339Z"
   },
   {
    "duration": 1463,
    "start_time": "2021-08-18T11:53:15.336Z"
   },
   {
    "duration": 39,
    "start_time": "2021-08-18T11:53:16.803Z"
   },
   {
    "duration": 12,
    "start_time": "2021-08-18T11:53:16.845Z"
   },
   {
    "duration": 14,
    "start_time": "2021-08-18T11:53:16.860Z"
   },
   {
    "duration": 11,
    "start_time": "2021-08-18T11:53:16.876Z"
   },
   {
    "duration": 72,
    "start_time": "2021-08-18T11:53:16.889Z"
   },
   {
    "duration": 8,
    "start_time": "2021-08-18T11:53:16.964Z"
   },
   {
    "duration": 21,
    "start_time": "2021-08-18T11:53:16.977Z"
   },
   {
    "duration": 10,
    "start_time": "2021-08-18T11:53:17.002Z"
   },
   {
    "duration": 46,
    "start_time": "2021-08-18T11:53:17.015Z"
   },
   {
    "duration": 33,
    "start_time": "2021-08-18T11:53:17.064Z"
   },
   {
    "duration": 8,
    "start_time": "2021-08-18T11:53:17.100Z"
   },
   {
    "duration": 11,
    "start_time": "2021-08-18T11:53:17.111Z"
   },
   {
    "duration": 7,
    "start_time": "2021-08-18T11:53:17.157Z"
   },
   {
    "duration": 16,
    "start_time": "2021-08-18T11:53:17.167Z"
   },
   {
    "duration": 14,
    "start_time": "2021-08-18T11:53:17.186Z"
   },
   {
    "duration": 14,
    "start_time": "2021-08-18T11:53:17.203Z"
   },
   {
    "duration": 491,
    "start_time": "2021-08-18T11:53:17.220Z"
   },
   {
    "duration": 321,
    "start_time": "2021-08-18T11:53:17.713Z"
   },
   {
    "duration": 323,
    "start_time": "2021-08-18T11:53:18.036Z"
   },
   {
    "duration": 423,
    "start_time": "2021-08-18T11:53:18.361Z"
   },
   {
    "duration": 354,
    "start_time": "2021-08-18T11:53:18.787Z"
   },
   {
    "duration": 490,
    "start_time": "2021-08-18T11:53:19.146Z"
   },
   {
    "duration": 317,
    "start_time": "2021-08-18T11:53:19.639Z"
   },
   {
    "duration": 400,
    "start_time": "2021-08-18T11:53:19.959Z"
   },
   {
    "duration": 6,
    "start_time": "2021-08-18T11:53:20.361Z"
   },
   {
    "duration": 121,
    "start_time": "2021-08-18T11:53:20.369Z"
   },
   {
    "duration": 352,
    "start_time": "2021-08-18T11:53:20.492Z"
   },
   {
    "duration": 375,
    "start_time": "2021-08-18T11:53:20.846Z"
   },
   {
    "duration": 5,
    "start_time": "2021-08-18T11:53:21.224Z"
   },
   {
    "duration": 133,
    "start_time": "2021-08-18T11:53:21.231Z"
   },
   {
    "duration": 13,
    "start_time": "2021-08-18T11:53:21.366Z"
   },
   {
    "duration": 13,
    "start_time": "2021-08-18T11:53:21.381Z"
   },
   {
    "duration": 23,
    "start_time": "2021-08-18T11:53:21.396Z"
   },
   {
    "duration": 51,
    "start_time": "2021-08-18T11:53:21.421Z"
   },
   {
    "duration": 489,
    "start_time": "2021-08-18T15:11:59.910Z"
   },
   {
    "duration": 1544,
    "start_time": "2021-08-18T15:12:09.397Z"
   },
   {
    "duration": 39,
    "start_time": "2021-08-18T15:12:10.944Z"
   },
   {
    "duration": 12,
    "start_time": "2021-08-18T15:12:10.987Z"
   },
   {
    "duration": 21,
    "start_time": "2021-08-18T15:12:11.002Z"
   },
   {
    "duration": 21,
    "start_time": "2021-08-18T15:12:11.026Z"
   },
   {
    "duration": 33,
    "start_time": "2021-08-18T15:12:11.050Z"
   },
   {
    "duration": 97,
    "start_time": "2021-08-18T15:12:11.086Z"
   },
   {
    "duration": 7,
    "start_time": "2021-08-18T15:12:11.189Z"
   },
   {
    "duration": 25,
    "start_time": "2021-08-18T15:12:11.200Z"
   },
   {
    "duration": 20,
    "start_time": "2021-08-18T15:12:11.228Z"
   },
   {
    "duration": 11,
    "start_time": "2021-08-18T15:12:11.251Z"
   },
   {
    "duration": 32,
    "start_time": "2021-08-18T15:12:11.285Z"
   },
   {
    "duration": 8,
    "start_time": "2021-08-18T15:12:11.319Z"
   },
   {
    "duration": 8,
    "start_time": "2021-08-18T15:12:11.330Z"
   },
   {
    "duration": 12,
    "start_time": "2021-08-18T15:12:11.341Z"
   },
   {
    "duration": 32,
    "start_time": "2021-08-18T15:12:11.355Z"
   },
   {
    "duration": 21,
    "start_time": "2021-08-18T15:12:11.389Z"
   },
   {
    "duration": 12,
    "start_time": "2021-08-18T15:12:11.412Z"
   },
   {
    "duration": 669,
    "start_time": "2021-08-18T15:12:11.427Z"
   },
   {
    "duration": 353,
    "start_time": "2021-08-18T15:12:12.098Z"
   },
   {
    "duration": 335,
    "start_time": "2021-08-18T15:12:12.453Z"
   },
   {
    "duration": 433,
    "start_time": "2021-08-18T15:12:12.791Z"
   },
   {
    "duration": 367,
    "start_time": "2021-08-18T15:12:13.229Z"
   },
   {
    "duration": 452,
    "start_time": "2021-08-18T15:12:13.600Z"
   },
   {
    "duration": 314,
    "start_time": "2021-08-18T15:12:14.055Z"
   },
   {
    "duration": 421,
    "start_time": "2021-08-18T15:12:14.371Z"
   },
   {
    "duration": 6,
    "start_time": "2021-08-18T15:12:14.794Z"
   },
   {
    "duration": 215,
    "start_time": "2021-08-18T15:12:14.802Z"
   },
   {
    "duration": 307,
    "start_time": "2021-08-18T15:12:15.020Z"
   },
   {
    "duration": 364,
    "start_time": "2021-08-18T15:12:15.330Z"
   },
   {
    "duration": 6,
    "start_time": "2021-08-18T15:12:15.697Z"
   },
   {
    "duration": 324,
    "start_time": "2021-08-18T15:12:15.705Z"
   },
   {
    "duration": 14,
    "start_time": "2021-08-18T15:12:16.032Z"
   },
   {
    "duration": 38,
    "start_time": "2021-08-18T15:12:16.049Z"
   },
   {
    "duration": 27,
    "start_time": "2021-08-18T15:12:16.090Z"
   },
   {
    "duration": 28,
    "start_time": "2021-08-18T15:12:16.120Z"
   },
   {
    "duration": 4,
    "start_time": "2021-08-18T15:12:59.519Z"
   },
   {
    "duration": 1449,
    "start_time": "2021-08-18T15:15:11.631Z"
   },
   {
    "duration": 39,
    "start_time": "2021-08-18T15:15:13.083Z"
   },
   {
    "duration": 13,
    "start_time": "2021-08-18T15:15:13.126Z"
   },
   {
    "duration": 28,
    "start_time": "2021-08-18T15:15:13.143Z"
   },
   {
    "duration": 19,
    "start_time": "2021-08-18T15:15:13.174Z"
   },
   {
    "duration": 92,
    "start_time": "2021-08-18T15:15:13.197Z"
   },
   {
    "duration": 6,
    "start_time": "2021-08-18T15:15:13.292Z"
   },
   {
    "duration": 44,
    "start_time": "2021-08-18T15:15:13.302Z"
   },
   {
    "duration": 15,
    "start_time": "2021-08-18T15:15:13.350Z"
   },
   {
    "duration": 35,
    "start_time": "2021-08-18T15:15:13.368Z"
   },
   {
    "duration": 45,
    "start_time": "2021-08-18T15:15:13.405Z"
   },
   {
    "duration": 22,
    "start_time": "2021-08-18T15:15:13.454Z"
   },
   {
    "duration": 16,
    "start_time": "2021-08-18T15:15:13.479Z"
   },
   {
    "duration": 24,
    "start_time": "2021-08-18T15:15:13.498Z"
   },
   {
    "duration": 22,
    "start_time": "2021-08-18T15:15:13.525Z"
   },
   {
    "duration": 55,
    "start_time": "2021-08-18T15:15:13.550Z"
   },
   {
    "duration": 14,
    "start_time": "2021-08-18T15:15:13.607Z"
   },
   {
    "duration": 646,
    "start_time": "2021-08-18T15:15:13.623Z"
   },
   {
    "duration": 361,
    "start_time": "2021-08-18T15:15:14.271Z"
   },
   {
    "duration": 339,
    "start_time": "2021-08-18T15:15:14.635Z"
   },
   {
    "duration": 432,
    "start_time": "2021-08-18T15:15:14.976Z"
   },
   {
    "duration": 358,
    "start_time": "2021-08-18T15:15:15.410Z"
   },
   {
    "duration": 448,
    "start_time": "2021-08-18T15:15:15.773Z"
   },
   {
    "duration": 308,
    "start_time": "2021-08-18T15:15:16.224Z"
   },
   {
    "duration": 392,
    "start_time": "2021-08-18T15:15:16.535Z"
   },
   {
    "duration": 6,
    "start_time": "2021-08-18T15:15:16.929Z"
   },
   {
    "duration": 249,
    "start_time": "2021-08-18T15:15:16.937Z"
   },
   {
    "duration": 279,
    "start_time": "2021-08-18T15:15:17.189Z"
   },
   {
    "duration": 389,
    "start_time": "2021-08-18T15:15:17.470Z"
   },
   {
    "duration": 6,
    "start_time": "2021-08-18T15:15:17.862Z"
   },
   {
    "duration": 324,
    "start_time": "2021-08-18T15:15:17.886Z"
   },
   {
    "duration": 18,
    "start_time": "2021-08-18T15:15:18.212Z"
   },
   {
    "duration": 36,
    "start_time": "2021-08-18T15:15:18.234Z"
   },
   {
    "duration": 46,
    "start_time": "2021-08-18T15:15:18.272Z"
   },
   {
    "duration": 28,
    "start_time": "2021-08-18T15:15:18.320Z"
   },
   {
    "duration": 32,
    "start_time": "2021-08-18T15:16:06.290Z"
   },
   {
    "duration": 1602,
    "start_time": "2021-08-18T15:16:18.754Z"
   },
   {
    "duration": 40,
    "start_time": "2021-08-18T15:16:20.359Z"
   },
   {
    "duration": 7,
    "start_time": "2021-08-18T15:16:20.403Z"
   },
   {
    "duration": 12,
    "start_time": "2021-08-18T15:16:20.413Z"
   },
   {
    "duration": 11,
    "start_time": "2021-08-18T15:16:20.427Z"
   },
   {
    "duration": 73,
    "start_time": "2021-08-18T15:16:20.442Z"
   },
   {
    "duration": 9,
    "start_time": "2021-08-18T15:16:20.518Z"
   },
   {
    "duration": 27,
    "start_time": "2021-08-18T15:16:20.532Z"
   },
   {
    "duration": 32,
    "start_time": "2021-08-18T15:16:20.562Z"
   },
   {
    "duration": 20,
    "start_time": "2021-08-18T15:16:20.597Z"
   },
   {
    "duration": 33,
    "start_time": "2021-08-18T15:16:20.620Z"
   },
   {
    "duration": 33,
    "start_time": "2021-08-18T15:16:20.657Z"
   },
   {
    "duration": 28,
    "start_time": "2021-08-18T15:16:20.693Z"
   },
   {
    "duration": 23,
    "start_time": "2021-08-18T15:16:20.724Z"
   },
   {
    "duration": 13,
    "start_time": "2021-08-18T15:16:20.750Z"
   },
   {
    "duration": 24,
    "start_time": "2021-08-18T15:16:20.767Z"
   },
   {
    "duration": 21,
    "start_time": "2021-08-18T15:16:20.794Z"
   },
   {
    "duration": 975,
    "start_time": "2021-08-18T15:16:20.818Z"
   },
   {
    "duration": 366,
    "start_time": "2021-08-18T15:16:21.795Z"
   },
   {
    "duration": 337,
    "start_time": "2021-08-18T15:16:22.163Z"
   },
   {
    "duration": 576,
    "start_time": "2021-08-18T15:16:22.504Z"
   },
   {
    "duration": 562,
    "start_time": "2021-08-18T15:16:23.087Z"
   },
   {
    "duration": 505,
    "start_time": "2021-08-18T15:16:23.656Z"
   },
   {
    "duration": 327,
    "start_time": "2021-08-18T15:16:24.164Z"
   },
   {
    "duration": 409,
    "start_time": "2021-08-18T15:16:24.493Z"
   },
   {
    "duration": 7,
    "start_time": "2021-08-18T15:16:24.905Z"
   },
   {
    "duration": 286,
    "start_time": "2021-08-18T15:16:24.915Z"
   },
   {
    "duration": 303,
    "start_time": "2021-08-18T15:16:25.204Z"
   },
   {
    "duration": 387,
    "start_time": "2021-08-18T15:16:25.510Z"
   },
   {
    "duration": 7,
    "start_time": "2021-08-18T15:16:25.900Z"
   },
   {
    "duration": 322,
    "start_time": "2021-08-18T15:16:25.910Z"
   },
   {
    "duration": 14,
    "start_time": "2021-08-18T15:16:26.235Z"
   },
   {
    "duration": 41,
    "start_time": "2021-08-18T15:16:26.252Z"
   },
   {
    "duration": 23,
    "start_time": "2021-08-18T15:16:26.296Z"
   },
   {
    "duration": 22,
    "start_time": "2021-08-18T15:16:26.321Z"
   },
   {
    "duration": 1458,
    "start_time": "2021-08-18T15:17:14.490Z"
   },
   {
    "duration": 40,
    "start_time": "2021-08-18T15:17:15.951Z"
   },
   {
    "duration": 8,
    "start_time": "2021-08-18T15:17:15.994Z"
   },
   {
    "duration": 14,
    "start_time": "2021-08-18T15:17:16.004Z"
   },
   {
    "duration": 16,
    "start_time": "2021-08-18T15:17:16.020Z"
   },
   {
    "duration": 61,
    "start_time": "2021-08-18T15:17:16.038Z"
   },
   {
    "duration": 6,
    "start_time": "2021-08-18T15:17:16.101Z"
   },
   {
    "duration": 26,
    "start_time": "2021-08-18T15:17:16.111Z"
   },
   {
    "duration": 11,
    "start_time": "2021-08-18T15:17:16.141Z"
   },
   {
    "duration": 9,
    "start_time": "2021-08-18T15:17:16.155Z"
   },
   {
    "duration": 46,
    "start_time": "2021-08-18T15:17:16.166Z"
   },
   {
    "duration": 7,
    "start_time": "2021-08-18T15:17:16.214Z"
   },
   {
    "duration": 11,
    "start_time": "2021-08-18T15:17:16.224Z"
   },
   {
    "duration": 21,
    "start_time": "2021-08-18T15:17:16.237Z"
   },
   {
    "duration": 25,
    "start_time": "2021-08-18T15:17:16.260Z"
   },
   {
    "duration": 13,
    "start_time": "2021-08-18T15:17:16.288Z"
   },
   {
    "duration": 13,
    "start_time": "2021-08-18T15:17:16.303Z"
   },
   {
    "duration": 775,
    "start_time": "2021-08-18T15:17:16.318Z"
   },
   {
    "duration": 357,
    "start_time": "2021-08-18T15:17:17.096Z"
   },
   {
    "duration": 342,
    "start_time": "2021-08-18T15:17:17.457Z"
   },
   {
    "duration": 401,
    "start_time": "2021-08-18T15:17:17.802Z"
   },
   {
    "duration": 450,
    "start_time": "2021-08-18T15:17:18.206Z"
   },
   {
    "duration": 450,
    "start_time": "2021-08-18T15:17:18.661Z"
   },
   {
    "duration": 308,
    "start_time": "2021-08-18T15:17:19.114Z"
   },
   {
    "duration": 377,
    "start_time": "2021-08-18T15:17:19.424Z"
   },
   {
    "duration": 6,
    "start_time": "2021-08-18T15:17:19.803Z"
   },
   {
    "duration": 208,
    "start_time": "2021-08-18T15:17:19.811Z"
   },
   {
    "duration": 272,
    "start_time": "2021-08-18T15:17:20.022Z"
   },
   {
    "duration": 368,
    "start_time": "2021-08-18T15:17:20.296Z"
   },
   {
    "duration": 6,
    "start_time": "2021-08-18T15:17:20.666Z"
   },
   {
    "duration": 309,
    "start_time": "2021-08-18T15:17:20.686Z"
   },
   {
    "duration": 19,
    "start_time": "2021-08-18T15:17:20.997Z"
   },
   {
    "duration": 21,
    "start_time": "2021-08-18T15:17:21.019Z"
   },
   {
    "duration": 56,
    "start_time": "2021-08-18T15:17:21.042Z"
   },
   {
    "duration": 22,
    "start_time": "2021-08-18T15:17:21.100Z"
   },
   {
    "duration": 404,
    "start_time": "2021-08-18T15:25:22.781Z"
   },
   {
    "duration": 316,
    "start_time": "2021-08-18T15:28:01.630Z"
   },
   {
    "duration": 333,
    "start_time": "2021-08-18T15:32:16.933Z"
   },
   {
    "duration": 567,
    "start_time": "2021-08-18T15:32:56.498Z"
   },
   {
    "duration": 337,
    "start_time": "2021-08-18T15:33:08.406Z"
   },
   {
    "duration": 332,
    "start_time": "2021-08-18T15:33:13.658Z"
   },
   {
    "duration": 692,
    "start_time": "2021-08-18T15:33:18.145Z"
   },
   {
    "duration": 244,
    "start_time": "2021-08-18T15:35:37.212Z"
   },
   {
    "duration": 346,
    "start_time": "2021-08-18T15:37:21.843Z"
   },
   {
    "duration": 347,
    "start_time": "2021-08-18T15:37:36.341Z"
   },
   {
    "duration": 394,
    "start_time": "2021-08-18T15:38:06.559Z"
   },
   {
    "duration": 340,
    "start_time": "2021-08-18T15:38:14.258Z"
   },
   {
    "duration": 336,
    "start_time": "2021-08-18T15:39:22.833Z"
   },
   {
    "duration": 351,
    "start_time": "2021-08-18T15:40:50.203Z"
   },
   {
    "duration": 331,
    "start_time": "2021-08-18T15:41:05.679Z"
   },
   {
    "duration": 315,
    "start_time": "2021-08-18T15:42:45.688Z"
   },
   {
    "duration": 318,
    "start_time": "2021-08-18T15:42:52.221Z"
   },
   {
    "duration": 346,
    "start_time": "2021-08-18T15:43:46.361Z"
   },
   {
    "duration": 325,
    "start_time": "2021-08-18T15:44:45.648Z"
   },
   {
    "duration": 450,
    "start_time": "2021-08-18T15:45:13.360Z"
   },
   {
    "duration": 460,
    "start_time": "2021-08-18T15:47:04.637Z"
   },
   {
    "duration": 575,
    "start_time": "2021-08-18T15:47:19.382Z"
   },
   {
    "duration": 451,
    "start_time": "2021-08-18T15:47:33.384Z"
   },
   {
    "duration": 380,
    "start_time": "2021-08-18T15:49:00.818Z"
   },
   {
    "duration": 372,
    "start_time": "2021-08-18T15:49:11.389Z"
   },
   {
    "duration": 359,
    "start_time": "2021-08-18T15:50:20.725Z"
   },
   {
    "duration": 365,
    "start_time": "2021-08-18T15:50:32.666Z"
   },
   {
    "duration": 137,
    "start_time": "2021-08-18T15:53:53.070Z"
   },
   {
    "duration": 358,
    "start_time": "2021-08-18T15:57:23.297Z"
   },
   {
    "duration": 372,
    "start_time": "2021-08-18T15:58:00.193Z"
   },
   {
    "duration": 378,
    "start_time": "2021-08-18T15:58:54.060Z"
   },
   {
    "duration": 351,
    "start_time": "2021-08-18T15:59:57.602Z"
   },
   {
    "duration": 346,
    "start_time": "2021-08-18T16:00:17.549Z"
   },
   {
    "duration": 463,
    "start_time": "2021-08-18T16:00:27.519Z"
   },
   {
    "duration": 468,
    "start_time": "2021-08-18T16:03:51.963Z"
   },
   {
    "duration": 440,
    "start_time": "2021-08-18T16:04:37.790Z"
   },
   {
    "duration": 430,
    "start_time": "2021-08-18T16:04:54.893Z"
   },
   {
    "duration": 419,
    "start_time": "2021-08-18T16:05:05.304Z"
   },
   {
    "duration": 403,
    "start_time": "2021-08-18T16:05:22.611Z"
   },
   {
    "duration": 439,
    "start_time": "2021-08-18T16:05:54.490Z"
   },
   {
    "duration": 452,
    "start_time": "2021-08-18T16:07:14.196Z"
   },
   {
    "duration": 312,
    "start_time": "2021-08-18T16:09:58.125Z"
   },
   {
    "duration": 327,
    "start_time": "2021-08-18T16:10:24.146Z"
   },
   {
    "duration": 434,
    "start_time": "2021-08-18T16:13:12.971Z"
   },
   {
    "duration": 490,
    "start_time": "2021-08-18T16:13:21.433Z"
   },
   {
    "duration": 471,
    "start_time": "2021-08-18T16:13:43.702Z"
   },
   {
    "duration": 818,
    "start_time": "2021-08-18T16:17:15.519Z"
   },
   {
    "duration": 691,
    "start_time": "2021-08-18T16:19:04.255Z"
   },
   {
    "duration": 790,
    "start_time": "2021-08-18T16:49:13.506Z"
   },
   {
    "duration": 1543,
    "start_time": "2021-08-18T19:24:49.248Z"
   },
   {
    "duration": 37,
    "start_time": "2021-08-18T19:24:50.794Z"
   },
   {
    "duration": 7,
    "start_time": "2021-08-18T19:24:50.834Z"
   },
   {
    "duration": 11,
    "start_time": "2021-08-18T19:24:50.845Z"
   },
   {
    "duration": 29,
    "start_time": "2021-08-18T19:24:50.859Z"
   },
   {
    "duration": 64,
    "start_time": "2021-08-18T19:24:50.891Z"
   },
   {
    "duration": 8,
    "start_time": "2021-08-18T19:24:50.957Z"
   },
   {
    "duration": 30,
    "start_time": "2021-08-18T19:24:50.968Z"
   },
   {
    "duration": 12,
    "start_time": "2021-08-18T19:24:51.002Z"
   },
   {
    "duration": 11,
    "start_time": "2021-08-18T19:24:51.018Z"
   },
   {
    "duration": 31,
    "start_time": "2021-08-18T19:24:51.032Z"
   },
   {
    "duration": 22,
    "start_time": "2021-08-18T19:24:51.066Z"
   },
   {
    "duration": 8,
    "start_time": "2021-08-18T19:24:51.090Z"
   },
   {
    "duration": 10,
    "start_time": "2021-08-18T19:24:51.101Z"
   },
   {
    "duration": 12,
    "start_time": "2021-08-18T19:24:51.113Z"
   },
   {
    "duration": 16,
    "start_time": "2021-08-18T19:24:51.128Z"
   },
   {
    "duration": 45,
    "start_time": "2021-08-18T19:24:51.146Z"
   },
   {
    "duration": 641,
    "start_time": "2021-08-18T19:24:51.194Z"
   },
   {
    "duration": 384,
    "start_time": "2021-08-18T19:24:51.837Z"
   },
   {
    "duration": 342,
    "start_time": "2021-08-18T19:24:52.223Z"
   },
   {
    "duration": 535,
    "start_time": "2021-08-18T19:24:52.568Z"
   },
   {
    "duration": 584,
    "start_time": "2021-08-18T19:24:53.107Z"
   },
   {
    "duration": 455,
    "start_time": "2021-08-18T19:24:53.693Z"
   },
   {
    "duration": 335,
    "start_time": "2021-08-18T19:24:54.151Z"
   },
   {
    "duration": 899,
    "start_time": "2021-08-18T19:24:54.489Z"
   },
   {
    "duration": -193,
    "start_time": "2021-08-18T19:24:55.584Z"
   },
   {
    "duration": -201,
    "start_time": "2021-08-18T19:24:55.593Z"
   },
   {
    "duration": -206,
    "start_time": "2021-08-18T19:24:55.600Z"
   },
   {
    "duration": -211,
    "start_time": "2021-08-18T19:24:55.606Z"
   },
   {
    "duration": -216,
    "start_time": "2021-08-18T19:24:55.613Z"
   },
   {
    "duration": -220,
    "start_time": "2021-08-18T19:24:55.618Z"
   },
   {
    "duration": -225,
    "start_time": "2021-08-18T19:24:55.624Z"
   },
   {
    "duration": -256,
    "start_time": "2021-08-18T19:24:55.656Z"
   },
   {
    "duration": -263,
    "start_time": "2021-08-18T19:24:55.665Z"
   },
   {
    "duration": -274,
    "start_time": "2021-08-18T19:24:55.677Z"
   },
   {
    "duration": 408,
    "start_time": "2021-08-18T19:25:22.240Z"
   },
   {
    "duration": 429,
    "start_time": "2021-08-18T19:25:53.603Z"
   },
   {
    "duration": 722,
    "start_time": "2021-08-18T19:28:42.279Z"
   },
   {
    "duration": 469,
    "start_time": "2021-08-18T19:29:39.143Z"
   },
   {
    "duration": 426,
    "start_time": "2021-08-18T19:30:43.960Z"
   },
   {
    "duration": 404,
    "start_time": "2021-08-18T19:30:49.296Z"
   },
   {
    "duration": 1397,
    "start_time": "2021-08-19T03:22:33.108Z"
   },
   {
    "duration": 40,
    "start_time": "2021-08-19T03:22:34.508Z"
   },
   {
    "duration": 11,
    "start_time": "2021-08-19T03:22:34.551Z"
   },
   {
    "duration": 7,
    "start_time": "2021-08-19T03:22:34.564Z"
   },
   {
    "duration": 11,
    "start_time": "2021-08-19T03:22:34.574Z"
   },
   {
    "duration": 55,
    "start_time": "2021-08-19T03:22:34.588Z"
   },
   {
    "duration": 6,
    "start_time": "2021-08-19T03:22:34.655Z"
   },
   {
    "duration": 27,
    "start_time": "2021-08-19T03:22:34.665Z"
   },
   {
    "duration": 11,
    "start_time": "2021-08-19T03:22:34.695Z"
   },
   {
    "duration": 8,
    "start_time": "2021-08-19T03:22:34.708Z"
   },
   {
    "duration": 52,
    "start_time": "2021-08-19T03:22:34.718Z"
   },
   {
    "duration": 8,
    "start_time": "2021-08-19T03:22:34.773Z"
   },
   {
    "duration": 22,
    "start_time": "2021-08-19T03:22:34.784Z"
   },
   {
    "duration": 19,
    "start_time": "2021-08-19T03:22:34.808Z"
   },
   {
    "duration": 31,
    "start_time": "2021-08-19T03:22:34.830Z"
   },
   {
    "duration": 14,
    "start_time": "2021-08-19T03:22:34.864Z"
   },
   {
    "duration": 13,
    "start_time": "2021-08-19T03:22:34.881Z"
   },
   {
    "duration": 632,
    "start_time": "2021-08-19T03:22:34.897Z"
   },
   {
    "duration": 370,
    "start_time": "2021-08-19T03:22:35.531Z"
   },
   {
    "duration": 352,
    "start_time": "2021-08-19T03:22:35.903Z"
   },
   {
    "duration": 446,
    "start_time": "2021-08-19T03:22:36.257Z"
   },
   {
    "duration": 399,
    "start_time": "2021-08-19T03:22:36.705Z"
   },
   {
    "duration": 352,
    "start_time": "2021-08-19T03:23:34.505Z"
   },
   {
    "duration": 425,
    "start_time": "2021-08-19T03:25:31.283Z"
   },
   {
    "duration": 309,
    "start_time": "2021-08-19T03:26:10.931Z"
   },
   {
    "duration": 328,
    "start_time": "2021-08-19T03:26:30.653Z"
   },
   {
    "duration": 399,
    "start_time": "2021-08-19T03:26:34.746Z"
   },
   {
    "duration": 509,
    "start_time": "2021-08-19T03:27:13.047Z"
   },
   {
    "duration": 86,
    "start_time": "2021-08-19T03:27:56.670Z"
   },
   {
    "duration": 6,
    "start_time": "2021-08-19T03:28:17.867Z"
   },
   {
    "duration": 201,
    "start_time": "2021-08-19T03:28:27.822Z"
   },
   {
    "duration": 245,
    "start_time": "2021-08-19T03:29:26.544Z"
   },
   {
    "duration": 398,
    "start_time": "2021-08-19T03:29:54.276Z"
   },
   {
    "duration": 283,
    "start_time": "2021-08-19T03:31:18.497Z"
   },
   {
    "duration": 380,
    "start_time": "2021-08-19T03:31:38.736Z"
   },
   {
    "duration": 382,
    "start_time": "2021-08-19T03:35:20.460Z"
   },
   {
    "duration": 7,
    "start_time": "2021-08-19T03:36:03.856Z"
   },
   {
    "duration": 256,
    "start_time": "2021-08-19T03:43:01.166Z"
   },
   {
    "duration": 556,
    "start_time": "2021-08-19T03:45:17.398Z"
   },
   {
    "duration": 284,
    "start_time": "2021-08-19T03:45:59.969Z"
   },
   {
    "duration": 377,
    "start_time": "2021-08-19T03:49:35.477Z"
   },
   {
    "duration": 373,
    "start_time": "2021-08-19T03:49:46.873Z"
   },
   {
    "duration": 364,
    "start_time": "2021-08-19T03:51:14.376Z"
   },
   {
    "duration": 1362,
    "start_time": "2021-08-19T15:53:07.050Z"
   },
   {
    "duration": 36,
    "start_time": "2021-08-19T15:53:08.415Z"
   },
   {
    "duration": 7,
    "start_time": "2021-08-19T15:53:08.456Z"
   },
   {
    "duration": 9,
    "start_time": "2021-08-19T15:53:08.465Z"
   },
   {
    "duration": 14,
    "start_time": "2021-08-19T15:53:08.476Z"
   },
   {
    "duration": 64,
    "start_time": "2021-08-19T15:53:08.492Z"
   },
   {
    "duration": 15,
    "start_time": "2021-08-19T15:53:08.558Z"
   },
   {
    "duration": 21,
    "start_time": "2021-08-19T15:53:08.576Z"
   },
   {
    "duration": 12,
    "start_time": "2021-08-19T15:53:08.600Z"
   },
   {
    "duration": 7,
    "start_time": "2021-08-19T15:53:08.615Z"
   },
   {
    "duration": 43,
    "start_time": "2021-08-19T15:53:08.624Z"
   },
   {
    "duration": 11,
    "start_time": "2021-08-19T15:53:08.670Z"
   },
   {
    "duration": 10,
    "start_time": "2021-08-19T15:53:08.684Z"
   },
   {
    "duration": 10,
    "start_time": "2021-08-19T15:53:08.696Z"
   },
   {
    "duration": 13,
    "start_time": "2021-08-19T15:53:08.708Z"
   },
   {
    "duration": 40,
    "start_time": "2021-08-19T15:53:08.723Z"
   },
   {
    "duration": 17,
    "start_time": "2021-08-19T15:53:08.765Z"
   },
   {
    "duration": 600,
    "start_time": "2021-08-19T15:53:08.785Z"
   },
   {
    "duration": 377,
    "start_time": "2021-08-19T15:53:09.387Z"
   },
   {
    "duration": 357,
    "start_time": "2021-08-19T15:53:09.767Z"
   },
   {
    "duration": 470,
    "start_time": "2021-08-19T15:53:10.127Z"
   },
   {
    "duration": 393,
    "start_time": "2021-08-19T15:53:10.600Z"
   },
   {
    "duration": 471,
    "start_time": "2021-08-19T15:53:10.998Z"
   },
   {
    "duration": 324,
    "start_time": "2021-08-19T15:53:11.472Z"
   },
   {
    "duration": 459,
    "start_time": "2021-08-19T15:53:11.799Z"
   },
   {
    "duration": 5,
    "start_time": "2021-08-19T15:53:12.261Z"
   },
   {
    "duration": 208,
    "start_time": "2021-08-19T15:53:12.268Z"
   },
   {
    "duration": 296,
    "start_time": "2021-08-19T15:53:12.479Z"
   },
   {
    "duration": 368,
    "start_time": "2021-08-19T15:53:12.778Z"
   },
   {
    "duration": 6,
    "start_time": "2021-08-19T15:53:13.156Z"
   },
   {
    "duration": 316,
    "start_time": "2021-08-19T15:53:13.165Z"
   },
   {
    "duration": 13,
    "start_time": "2021-08-19T15:53:13.483Z"
   },
   {
    "duration": 13,
    "start_time": "2021-08-19T15:53:13.498Z"
   },
   {
    "duration": 47,
    "start_time": "2021-08-19T15:53:13.513Z"
   },
   {
    "duration": 19,
    "start_time": "2021-08-19T15:53:13.562Z"
   },
   {
    "duration": 1399,
    "start_time": "2021-08-19T19:34:30.557Z"
   },
   {
    "duration": 38,
    "start_time": "2021-08-19T19:34:31.958Z"
   },
   {
    "duration": 8,
    "start_time": "2021-08-19T19:34:32.000Z"
   },
   {
    "duration": 32,
    "start_time": "2021-08-19T19:34:32.011Z"
   },
   {
    "duration": 23,
    "start_time": "2021-08-19T19:34:32.045Z"
   },
   {
    "duration": 56,
    "start_time": "2021-08-19T19:34:32.070Z"
   },
   {
    "duration": 14,
    "start_time": "2021-08-19T19:34:32.130Z"
   },
   {
    "duration": 50,
    "start_time": "2021-08-19T19:34:32.150Z"
   },
   {
    "duration": 11,
    "start_time": "2021-08-19T19:34:32.204Z"
   },
   {
    "duration": 9,
    "start_time": "2021-08-19T19:34:32.218Z"
   },
   {
    "duration": 37,
    "start_time": "2021-08-19T19:34:32.230Z"
   },
   {
    "duration": 11,
    "start_time": "2021-08-19T19:34:32.269Z"
   },
   {
    "duration": 10,
    "start_time": "2021-08-19T19:34:32.283Z"
   },
   {
    "duration": 11,
    "start_time": "2021-08-19T19:34:32.295Z"
   },
   {
    "duration": 20,
    "start_time": "2021-08-19T19:34:32.308Z"
   },
   {
    "duration": 41,
    "start_time": "2021-08-19T19:34:32.331Z"
   },
   {
    "duration": 12,
    "start_time": "2021-08-19T19:34:32.375Z"
   },
   {
    "duration": 609,
    "start_time": "2021-08-19T19:34:32.389Z"
   },
   {
    "duration": 483,
    "start_time": "2021-08-19T19:34:33.000Z"
   },
   {
    "duration": 340,
    "start_time": "2021-08-19T19:34:33.487Z"
   },
   {
    "duration": 461,
    "start_time": "2021-08-19T19:34:33.830Z"
   },
   {
    "duration": 373,
    "start_time": "2021-08-19T19:34:34.294Z"
   },
   {
    "duration": 437,
    "start_time": "2021-08-19T19:34:34.671Z"
   },
   {
    "duration": 326,
    "start_time": "2021-08-19T19:34:35.111Z"
   },
   {
    "duration": 432,
    "start_time": "2021-08-19T19:34:35.439Z"
   },
   {
    "duration": 6,
    "start_time": "2021-08-19T19:34:35.873Z"
   },
   {
    "duration": 203,
    "start_time": "2021-08-19T19:34:35.881Z"
   },
   {
    "duration": 286,
    "start_time": "2021-08-19T19:34:36.086Z"
   },
   {
    "duration": 392,
    "start_time": "2021-08-19T19:34:36.374Z"
   },
   {
    "duration": 6,
    "start_time": "2021-08-19T19:34:36.768Z"
   },
   {
    "duration": 355,
    "start_time": "2021-08-19T19:34:36.776Z"
   },
   {
    "duration": 32,
    "start_time": "2021-08-19T19:34:37.134Z"
   },
   {
    "duration": 19,
    "start_time": "2021-08-19T19:34:37.169Z"
   },
   {
    "duration": 21,
    "start_time": "2021-08-19T19:34:37.190Z"
   },
   {
    "duration": 56,
    "start_time": "2021-08-19T19:34:37.214Z"
   },
   {
    "duration": 362,
    "start_time": "2021-08-19T19:35:32.463Z"
   },
   {
    "duration": 1419,
    "start_time": "2021-08-19T19:48:27.327Z"
   },
   {
    "duration": 40,
    "start_time": "2021-08-19T19:48:28.748Z"
   },
   {
    "duration": 6,
    "start_time": "2021-08-19T19:48:28.791Z"
   },
   {
    "duration": 12,
    "start_time": "2021-08-19T19:48:28.801Z"
   },
   {
    "duration": 10,
    "start_time": "2021-08-19T19:48:28.816Z"
   },
   {
    "duration": 79,
    "start_time": "2021-08-19T19:48:28.829Z"
   },
   {
    "duration": 8,
    "start_time": "2021-08-19T19:48:28.911Z"
   },
   {
    "duration": 26,
    "start_time": "2021-08-19T19:48:28.923Z"
   },
   {
    "duration": 11,
    "start_time": "2021-08-19T19:48:28.952Z"
   },
   {
    "duration": 10,
    "start_time": "2021-08-19T19:48:28.965Z"
   },
   {
    "duration": 30,
    "start_time": "2021-08-19T19:48:28.978Z"
   },
   {
    "duration": 11,
    "start_time": "2021-08-19T19:48:29.011Z"
   },
   {
    "duration": 37,
    "start_time": "2021-08-19T19:48:29.024Z"
   },
   {
    "duration": 13,
    "start_time": "2021-08-19T19:48:29.063Z"
   },
   {
    "duration": 15,
    "start_time": "2021-08-19T19:48:29.079Z"
   },
   {
    "duration": 17,
    "start_time": "2021-08-19T19:48:29.096Z"
   },
   {
    "duration": 14,
    "start_time": "2021-08-19T19:48:29.115Z"
   },
   {
    "duration": 630,
    "start_time": "2021-08-19T19:48:29.131Z"
   },
   {
    "duration": 385,
    "start_time": "2021-08-19T19:48:29.763Z"
   },
   {
    "duration": 353,
    "start_time": "2021-08-19T19:48:30.150Z"
   },
   {
    "duration": 490,
    "start_time": "2021-08-19T19:48:30.505Z"
   },
   {
    "duration": 374,
    "start_time": "2021-08-19T19:48:30.997Z"
   },
   {
    "duration": 430,
    "start_time": "2021-08-19T19:48:31.375Z"
   },
   {
    "duration": 329,
    "start_time": "2021-08-19T19:48:31.807Z"
   },
   {
    "duration": 429,
    "start_time": "2021-08-19T19:48:32.139Z"
   },
   {
    "duration": 6,
    "start_time": "2021-08-19T19:48:32.571Z"
   },
   {
    "duration": 205,
    "start_time": "2021-08-19T19:48:32.579Z"
   },
   {
    "duration": 298,
    "start_time": "2021-08-19T19:48:32.787Z"
   },
   {
    "duration": 367,
    "start_time": "2021-08-19T19:48:33.088Z"
   },
   {
    "duration": 6,
    "start_time": "2021-08-19T19:48:33.458Z"
   },
   {
    "duration": 321,
    "start_time": "2021-08-19T19:48:33.466Z"
   },
   {
    "duration": 13,
    "start_time": "2021-08-19T19:48:33.789Z"
   },
   {
    "duration": 15,
    "start_time": "2021-08-19T19:48:33.804Z"
   },
   {
    "duration": 46,
    "start_time": "2021-08-19T19:48:33.822Z"
   },
   {
    "duration": 19,
    "start_time": "2021-08-19T19:48:33.871Z"
   },
   {
    "duration": 67,
    "start_time": "2021-08-19T20:06:39.893Z"
   },
   {
    "duration": 69,
    "start_time": "2021-08-19T20:07:15.951Z"
   },
   {
    "duration": 461,
    "start_time": "2021-08-19T20:11:44.447Z"
   },
   {
    "duration": 654,
    "start_time": "2021-08-19T20:12:12.908Z"
   },
   {
    "duration": 15,
    "start_time": "2021-08-19T20:13:08.217Z"
   },
   {
    "duration": 13,
    "start_time": "2021-08-19T20:14:30.324Z"
   },
   {
    "duration": 12,
    "start_time": "2021-08-19T20:16:11.001Z"
   },
   {
    "duration": 174,
    "start_time": "2021-08-19T20:18:20.164Z"
   },
   {
    "duration": 364,
    "start_time": "2021-08-19T20:18:29.555Z"
   },
   {
    "duration": 4,
    "start_time": "2021-08-19T20:18:42.019Z"
   },
   {
    "duration": 10,
    "start_time": "2021-08-19T20:18:49.299Z"
   },
   {
    "duration": 1319,
    "start_time": "2021-08-19T20:19:09.390Z"
   },
   {
    "duration": 43,
    "start_time": "2021-08-19T20:19:10.712Z"
   },
   {
    "duration": 12,
    "start_time": "2021-08-19T20:19:10.758Z"
   },
   {
    "duration": 10,
    "start_time": "2021-08-19T20:19:10.773Z"
   },
   {
    "duration": 15,
    "start_time": "2021-08-19T20:19:10.785Z"
   },
   {
    "duration": 16,
    "start_time": "2021-08-19T20:19:10.802Z"
   },
   {
    "duration": 52,
    "start_time": "2021-08-19T20:19:10.820Z"
   },
   {
    "duration": 7,
    "start_time": "2021-08-19T20:19:10.877Z"
   },
   {
    "duration": 28,
    "start_time": "2021-08-19T20:19:10.887Z"
   },
   {
    "duration": 13,
    "start_time": "2021-08-19T20:19:10.918Z"
   },
   {
    "duration": 8,
    "start_time": "2021-08-19T20:19:10.956Z"
   },
   {
    "duration": 34,
    "start_time": "2021-08-19T20:19:10.967Z"
   },
   {
    "duration": 9,
    "start_time": "2021-08-19T20:19:11.003Z"
   },
   {
    "duration": 15,
    "start_time": "2021-08-19T20:19:11.014Z"
   },
   {
    "duration": 27,
    "start_time": "2021-08-19T20:19:11.031Z"
   },
   {
    "duration": 25,
    "start_time": "2021-08-19T20:19:11.060Z"
   },
   {
    "duration": 14,
    "start_time": "2021-08-19T20:19:11.088Z"
   },
   {
    "duration": 12,
    "start_time": "2021-08-19T20:19:11.105Z"
   },
   {
    "duration": 46,
    "start_time": "2021-08-19T20:19:11.119Z"
   },
   {
    "duration": 577,
    "start_time": "2021-08-19T20:19:11.168Z"
   },
   {
    "duration": 485,
    "start_time": "2021-08-19T20:19:11.747Z"
   },
   {
    "duration": 482,
    "start_time": "2021-08-19T20:19:12.235Z"
   },
   {
    "duration": 608,
    "start_time": "2021-08-19T20:19:12.721Z"
   },
   {
    "duration": 502,
    "start_time": "2021-08-19T20:19:13.332Z"
   },
   {
    "duration": 601,
    "start_time": "2021-08-19T20:19:13.836Z"
   },
   {
    "duration": 319,
    "start_time": "2021-08-19T20:19:14.439Z"
   },
   {
    "duration": 407,
    "start_time": "2021-08-19T20:19:14.761Z"
   },
   {
    "duration": 7,
    "start_time": "2021-08-19T20:19:15.171Z"
   },
   {
    "duration": 213,
    "start_time": "2021-08-19T20:19:15.181Z"
   },
   {
    "duration": 300,
    "start_time": "2021-08-19T20:19:15.397Z"
   },
   {
    "duration": 444,
    "start_time": "2021-08-19T20:19:15.700Z"
   },
   {
    "duration": 11,
    "start_time": "2021-08-19T20:19:16.148Z"
   },
   {
    "duration": 247,
    "start_time": "2021-08-19T20:19:16.162Z"
   },
   {
    "duration": 14,
    "start_time": "2021-08-19T20:19:16.412Z"
   },
   {
    "duration": 35,
    "start_time": "2021-08-19T20:19:16.429Z"
   },
   {
    "duration": 34,
    "start_time": "2021-08-19T20:19:16.466Z"
   },
   {
    "duration": 20,
    "start_time": "2021-08-19T20:19:16.502Z"
   },
   {
    "duration": 15,
    "start_time": "2021-08-19T20:19:48.575Z"
   },
   {
    "duration": 384,
    "start_time": "2021-08-19T20:29:35.769Z"
   },
   {
    "duration": 518,
    "start_time": "2021-08-19T20:30:56.490Z"
   },
   {
    "duration": 982,
    "start_time": "2021-08-19T20:35:04.944Z"
   },
   {
    "duration": 374,
    "start_time": "2021-08-19T20:35:38.401Z"
   },
   {
    "duration": 373,
    "start_time": "2021-08-19T20:36:17.965Z"
   },
   {
    "duration": 1400,
    "start_time": "2021-08-19T20:38:49.524Z"
   },
   {
    "duration": 42,
    "start_time": "2021-08-19T20:38:50.927Z"
   },
   {
    "duration": 12,
    "start_time": "2021-08-19T20:38:50.973Z"
   },
   {
    "duration": 27,
    "start_time": "2021-08-19T20:38:50.988Z"
   },
   {
    "duration": 16,
    "start_time": "2021-08-19T20:38:51.017Z"
   },
   {
    "duration": 29,
    "start_time": "2021-08-19T20:38:51.035Z"
   },
   {
    "duration": 62,
    "start_time": "2021-08-19T20:38:51.066Z"
   },
   {
    "duration": 6,
    "start_time": "2021-08-19T20:38:51.130Z"
   },
   {
    "duration": 31,
    "start_time": "2021-08-19T20:38:51.141Z"
   },
   {
    "duration": 12,
    "start_time": "2021-08-19T20:38:51.175Z"
   },
   {
    "duration": 16,
    "start_time": "2021-08-19T20:38:51.189Z"
   },
   {
    "duration": 38,
    "start_time": "2021-08-19T20:38:51.208Z"
   },
   {
    "duration": 13,
    "start_time": "2021-08-19T20:38:51.248Z"
   },
   {
    "duration": 24,
    "start_time": "2021-08-19T20:38:51.263Z"
   },
   {
    "duration": 16,
    "start_time": "2021-08-19T20:38:51.289Z"
   },
   {
    "duration": 21,
    "start_time": "2021-08-19T20:38:51.308Z"
   },
   {
    "duration": 16,
    "start_time": "2021-08-19T20:38:51.331Z"
   },
   {
    "duration": 16,
    "start_time": "2021-08-19T20:38:51.350Z"
   },
   {
    "duration": 410,
    "start_time": "2021-08-19T20:38:51.368Z"
   },
   {
    "duration": 26,
    "start_time": "2021-08-19T20:38:51.780Z"
   },
   {
    "duration": 598,
    "start_time": "2021-08-19T20:38:51.808Z"
   },
   {
    "duration": 502,
    "start_time": "2021-08-19T20:38:52.409Z"
   },
   {
    "duration": 482,
    "start_time": "2021-08-19T20:38:52.914Z"
   },
   {
    "duration": 620,
    "start_time": "2021-08-19T20:38:53.398Z"
   },
   {
    "duration": 508,
    "start_time": "2021-08-19T20:38:54.021Z"
   },
   {
    "duration": 592,
    "start_time": "2021-08-19T20:38:54.532Z"
   },
   {
    "duration": 328,
    "start_time": "2021-08-19T20:38:55.130Z"
   },
   {
    "duration": 417,
    "start_time": "2021-08-19T20:38:55.461Z"
   },
   {
    "duration": 5,
    "start_time": "2021-08-19T20:38:55.881Z"
   },
   {
    "duration": 209,
    "start_time": "2021-08-19T20:38:55.888Z"
   },
   {
    "duration": 357,
    "start_time": "2021-08-19T20:38:56.099Z"
   },
   {
    "duration": 381,
    "start_time": "2021-08-19T20:38:56.458Z"
   },
   {
    "duration": 16,
    "start_time": "2021-08-19T20:38:56.842Z"
   },
   {
    "duration": 236,
    "start_time": "2021-08-19T20:38:56.861Z"
   },
   {
    "duration": 14,
    "start_time": "2021-08-19T20:38:57.100Z"
   },
   {
    "duration": 40,
    "start_time": "2021-08-19T20:38:57.116Z"
   },
   {
    "duration": 23,
    "start_time": "2021-08-19T20:38:57.158Z"
   },
   {
    "duration": 21,
    "start_time": "2021-08-19T20:38:57.183Z"
   },
   {
    "duration": 464,
    "start_time": "2021-08-19T20:39:53.220Z"
   },
   {
    "duration": 621,
    "start_time": "2021-08-19T20:40:08.194Z"
   },
   {
    "duration": 354,
    "start_time": "2021-08-19T20:40:34.662Z"
   },
   {
    "duration": 378,
    "start_time": "2021-08-19T20:40:55.777Z"
   },
   {
    "duration": 405,
    "start_time": "2021-08-19T21:04:26.822Z"
   },
   {
    "duration": 396,
    "start_time": "2021-08-19T21:04:45.359Z"
   },
   {
    "duration": 408,
    "start_time": "2021-08-19T21:06:25.040Z"
   },
   {
    "duration": 425,
    "start_time": "2021-08-19T21:09:31.235Z"
   },
   {
    "duration": 1098,
    "start_time": "2021-08-20T07:16:42.123Z"
   },
   {
    "duration": 32,
    "start_time": "2021-08-20T07:16:43.223Z"
   },
   {
    "duration": 9,
    "start_time": "2021-08-20T07:16:43.261Z"
   },
   {
    "duration": 22,
    "start_time": "2021-08-20T07:16:43.272Z"
   },
   {
    "duration": 4,
    "start_time": "2021-08-20T07:16:43.296Z"
   },
   {
    "duration": 15,
    "start_time": "2021-08-20T07:16:43.302Z"
   },
   {
    "duration": 51,
    "start_time": "2021-08-20T07:16:43.320Z"
   },
   {
    "duration": 5,
    "start_time": "2021-08-20T07:16:43.374Z"
   },
   {
    "duration": 13,
    "start_time": "2021-08-20T07:16:43.381Z"
   },
   {
    "duration": 9,
    "start_time": "2021-08-20T07:16:43.396Z"
   },
   {
    "duration": 7,
    "start_time": "2021-08-20T07:16:43.407Z"
   },
   {
    "duration": 26,
    "start_time": "2021-08-20T07:16:43.416Z"
   },
   {
    "duration": 6,
    "start_time": "2021-08-20T07:16:43.444Z"
   },
   {
    "duration": 9,
    "start_time": "2021-08-20T07:16:43.452Z"
   },
   {
    "duration": 13,
    "start_time": "2021-08-20T07:16:43.462Z"
   },
   {
    "duration": 6,
    "start_time": "2021-08-20T07:16:43.491Z"
   },
   {
    "duration": 16,
    "start_time": "2021-08-20T07:16:43.499Z"
   },
   {
    "duration": 10,
    "start_time": "2021-08-20T07:16:43.517Z"
   },
   {
    "duration": 290,
    "start_time": "2021-08-20T07:16:43.529Z"
   },
   {
    "duration": 18,
    "start_time": "2021-08-20T07:16:43.821Z"
   },
   {
    "duration": 371,
    "start_time": "2021-08-20T07:16:43.841Z"
   },
   {
    "duration": 350,
    "start_time": "2021-08-20T07:16:44.215Z"
   },
   {
    "duration": 303,
    "start_time": "2021-08-20T07:16:44.568Z"
   },
   {
    "duration": 437,
    "start_time": "2021-08-20T07:16:44.873Z"
   },
   {
    "duration": 313,
    "start_time": "2021-08-20T07:16:45.312Z"
   },
   {
    "duration": 394,
    "start_time": "2021-08-20T07:16:45.628Z"
   },
   {
    "duration": 213,
    "start_time": "2021-08-20T07:16:46.024Z"
   },
   {
    "duration": 290,
    "start_time": "2021-08-20T07:16:46.239Z"
   },
   {
    "duration": 3,
    "start_time": "2021-08-20T07:16:46.531Z"
   },
   {
    "duration": 119,
    "start_time": "2021-08-20T07:16:46.536Z"
   },
   {
    "duration": 258,
    "start_time": "2021-08-20T07:16:46.657Z"
   },
   {
    "duration": 278,
    "start_time": "2021-08-20T07:16:46.916Z"
   },
   {
    "duration": 4,
    "start_time": "2021-08-20T07:16:47.196Z"
   },
   {
    "duration": 134,
    "start_time": "2021-08-20T07:16:47.202Z"
   },
   {
    "duration": 10,
    "start_time": "2021-08-20T07:16:47.338Z"
   },
   {
    "duration": 42,
    "start_time": "2021-08-20T07:16:47.350Z"
   },
   {
    "duration": 16,
    "start_time": "2021-08-20T07:16:47.395Z"
   },
   {
    "duration": 14,
    "start_time": "2021-08-20T07:16:47.413Z"
   },
   {
    "duration": 13,
    "start_time": "2021-08-20T07:19:10.610Z"
   },
   {
    "duration": 316,
    "start_time": "2021-08-20T07:19:48.637Z"
   },
   {
    "duration": 13,
    "start_time": "2021-08-20T07:19:55.963Z"
   },
   {
    "duration": 11,
    "start_time": "2021-08-20T07:20:02.290Z"
   },
   {
    "duration": 1073,
    "start_time": "2021-08-20T08:46:47.347Z"
   },
   {
    "duration": 29,
    "start_time": "2021-08-20T08:46:48.421Z"
   },
   {
    "duration": 7,
    "start_time": "2021-08-20T08:46:48.452Z"
   },
   {
    "duration": 10,
    "start_time": "2021-08-20T08:46:48.460Z"
   },
   {
    "duration": 6,
    "start_time": "2021-08-20T08:46:48.472Z"
   },
   {
    "duration": 12,
    "start_time": "2021-08-20T08:46:48.480Z"
   },
   {
    "duration": 48,
    "start_time": "2021-08-20T08:46:48.494Z"
   },
   {
    "duration": 4,
    "start_time": "2021-08-20T08:46:48.544Z"
   },
   {
    "duration": 14,
    "start_time": "2021-08-20T08:46:48.550Z"
   },
   {
    "duration": 10,
    "start_time": "2021-08-20T08:46:48.566Z"
   },
   {
    "duration": 8,
    "start_time": "2021-08-20T08:46:48.578Z"
   },
   {
    "duration": 29,
    "start_time": "2021-08-20T08:46:48.588Z"
   },
   {
    "duration": 5,
    "start_time": "2021-08-20T08:46:48.619Z"
   },
   {
    "duration": 7,
    "start_time": "2021-08-20T08:46:48.626Z"
   },
   {
    "duration": 10,
    "start_time": "2021-08-20T08:46:48.635Z"
   },
   {
    "duration": 11,
    "start_time": "2021-08-20T08:46:48.647Z"
   },
   {
    "duration": 11,
    "start_time": "2021-08-20T08:46:48.660Z"
   },
   {
    "duration": 18,
    "start_time": "2021-08-20T08:46:48.673Z"
   },
   {
    "duration": 300,
    "start_time": "2021-08-20T08:46:48.693Z"
   },
   {
    "duration": 16,
    "start_time": "2021-08-20T08:46:48.995Z"
   },
   {
    "duration": 8,
    "start_time": "2021-08-20T08:46:49.012Z"
   },
   {
    "duration": 248,
    "start_time": "2021-08-20T08:46:49.022Z"
   },
   {
    "duration": 355,
    "start_time": "2021-08-20T08:46:49.274Z"
   },
   {
    "duration": 383,
    "start_time": "2021-08-20T08:46:49.631Z"
   },
   {
    "duration": 507,
    "start_time": "2021-08-20T08:46:50.016Z"
   },
   {
    "duration": 412,
    "start_time": "2021-08-20T08:46:50.525Z"
   },
   {
    "duration": 576,
    "start_time": "2021-08-20T08:46:50.939Z"
   },
   {
    "duration": 250,
    "start_time": "2021-08-20T08:46:51.517Z"
   },
   {
    "duration": 289,
    "start_time": "2021-08-20T08:46:51.769Z"
   },
   {
    "duration": 3,
    "start_time": "2021-08-20T08:46:52.060Z"
   },
   {
    "duration": 62,
    "start_time": "2021-08-20T08:46:52.065Z"
   },
   {
    "duration": 220,
    "start_time": "2021-08-20T08:46:52.129Z"
   },
   {
    "duration": 251,
    "start_time": "2021-08-20T08:46:52.350Z"
   },
   {
    "duration": 4,
    "start_time": "2021-08-20T08:46:52.602Z"
   },
   {
    "duration": 64,
    "start_time": "2021-08-20T08:46:52.608Z"
   },
   {
    "duration": 22,
    "start_time": "2021-08-20T08:46:52.674Z"
   },
   {
    "duration": 17,
    "start_time": "2021-08-20T08:46:52.698Z"
   },
   {
    "duration": 21,
    "start_time": "2021-08-20T08:46:52.716Z"
   },
   {
    "duration": 30,
    "start_time": "2021-08-20T08:46:52.739Z"
   },
   {
    "duration": 1074,
    "start_time": "2021-08-23T10:55:53.439Z"
   },
   {
    "duration": 520,
    "start_time": "2021-08-23T10:56:04.274Z"
   },
   {
    "duration": 1334,
    "start_time": "2021-08-23T10:56:13.172Z"
   },
   {
    "duration": 45,
    "start_time": "2021-08-23T10:56:14.509Z"
   },
   {
    "duration": 12,
    "start_time": "2021-08-23T10:56:14.558Z"
   },
   {
    "duration": 19,
    "start_time": "2021-08-23T10:56:14.573Z"
   },
   {
    "duration": 8,
    "start_time": "2021-08-23T10:56:14.595Z"
   },
   {
    "duration": 26,
    "start_time": "2021-08-23T10:56:14.605Z"
   },
   {
    "duration": 63,
    "start_time": "2021-08-23T10:56:14.633Z"
   },
   {
    "duration": 6,
    "start_time": "2021-08-23T10:56:14.700Z"
   },
   {
    "duration": 29,
    "start_time": "2021-08-23T10:56:14.709Z"
   },
   {
    "duration": 26,
    "start_time": "2021-08-23T10:56:14.740Z"
   },
   {
    "duration": 16,
    "start_time": "2021-08-23T10:56:14.769Z"
   },
   {
    "duration": 39,
    "start_time": "2021-08-23T10:56:14.787Z"
   },
   {
    "duration": 5,
    "start_time": "2021-08-23T10:56:14.829Z"
   },
   {
    "duration": 6,
    "start_time": "2021-08-23T10:56:14.837Z"
   },
   {
    "duration": 12,
    "start_time": "2021-08-23T10:56:14.845Z"
   },
   {
    "duration": 14,
    "start_time": "2021-08-23T10:56:14.859Z"
   },
   {
    "duration": 12,
    "start_time": "2021-08-23T10:56:14.876Z"
   },
   {
    "duration": 12,
    "start_time": "2021-08-23T10:56:14.891Z"
   },
   {
    "duration": 472,
    "start_time": "2021-08-23T10:56:14.905Z"
   },
   {
    "duration": 25,
    "start_time": "2021-08-23T10:56:15.379Z"
   },
   {
    "duration": 13,
    "start_time": "2021-08-23T10:56:15.407Z"
   },
   {
    "duration": 614,
    "start_time": "2021-08-23T10:56:15.422Z"
   },
   {
    "duration": 524,
    "start_time": "2021-08-23T10:56:16.041Z"
   },
   {
    "duration": 498,
    "start_time": "2021-08-23T10:56:16.568Z"
   },
   {
    "duration": 593,
    "start_time": "2021-08-23T10:56:17.069Z"
   },
   {
    "duration": 525,
    "start_time": "2021-08-23T10:56:17.664Z"
   },
   {
    "duration": 639,
    "start_time": "2021-08-23T10:56:18.192Z"
   },
   {
    "duration": 345,
    "start_time": "2021-08-23T10:56:18.834Z"
   },
   {
    "duration": 503,
    "start_time": "2021-08-23T10:56:19.182Z"
   },
   {
    "duration": 6,
    "start_time": "2021-08-23T10:56:19.687Z"
   },
   {
    "duration": 219,
    "start_time": "2021-08-23T10:56:19.695Z"
   },
   {
    "duration": 452,
    "start_time": "2021-08-23T10:56:19.917Z"
   },
   {
    "duration": 488,
    "start_time": "2021-08-23T10:56:20.373Z"
   },
   {
    "duration": 7,
    "start_time": "2021-08-23T10:56:20.864Z"
   },
   {
    "duration": 281,
    "start_time": "2021-08-23T10:56:20.874Z"
   },
   {
    "duration": 14,
    "start_time": "2021-08-23T10:56:21.158Z"
   },
   {
    "duration": 19,
    "start_time": "2021-08-23T10:56:21.175Z"
   },
   {
    "duration": 33,
    "start_time": "2021-08-23T10:56:21.197Z"
   },
   {
    "duration": 43,
    "start_time": "2021-08-23T10:56:21.232Z"
   },
   {
    "duration": 1046,
    "start_time": "2021-09-23T08:21:45.183Z"
   },
   {
    "duration": 27,
    "start_time": "2021-09-23T08:21:46.231Z"
   },
   {
    "duration": 10,
    "start_time": "2021-09-23T08:21:46.259Z"
   },
   {
    "duration": 6,
    "start_time": "2021-09-23T08:21:46.271Z"
   },
   {
    "duration": 15,
    "start_time": "2021-09-23T08:21:46.278Z"
   },
   {
    "duration": 16,
    "start_time": "2021-09-23T08:21:46.295Z"
   },
   {
    "duration": 92,
    "start_time": "2021-09-23T08:21:46.313Z"
   },
   {
    "duration": 5,
    "start_time": "2021-09-23T08:21:46.407Z"
   },
   {
    "duration": 16,
    "start_time": "2021-09-23T08:21:46.414Z"
   },
   {
    "duration": 7,
    "start_time": "2021-09-23T08:21:46.432Z"
   },
   {
    "duration": 6,
    "start_time": "2021-09-23T08:21:46.441Z"
   },
   {
    "duration": 28,
    "start_time": "2021-09-23T08:21:46.448Z"
   },
   {
    "duration": 5,
    "start_time": "2021-09-23T08:21:46.477Z"
   },
   {
    "duration": 6,
    "start_time": "2021-09-23T08:21:46.484Z"
   },
   {
    "duration": 9,
    "start_time": "2021-09-23T08:21:46.492Z"
   },
   {
    "duration": 7,
    "start_time": "2021-09-23T08:21:46.502Z"
   },
   {
    "duration": 7009,
    "start_time": "2021-09-23T08:21:46.510Z"
   },
   {
    "duration": 808,
    "start_time": "2021-09-23T08:21:52.714Z"
   },
   {
    "duration": 800,
    "start_time": "2021-09-23T08:21:52.722Z"
   },
   {
    "duration": 792,
    "start_time": "2021-09-23T08:21:52.731Z"
   },
   {
    "duration": 462,
    "start_time": "2021-09-23T08:21:53.062Z"
   },
   {
    "duration": 432,
    "start_time": "2021-09-23T08:21:53.093Z"
   },
   {
    "duration": 421,
    "start_time": "2021-09-23T08:21:53.105Z"
   },
   {
    "duration": 411,
    "start_time": "2021-09-23T08:21:53.116Z"
   },
   {
    "duration": 404,
    "start_time": "2021-09-23T08:21:53.124Z"
   },
   {
    "duration": 399,
    "start_time": "2021-09-23T08:21:53.130Z"
   },
   {
    "duration": 393,
    "start_time": "2021-09-23T08:21:53.137Z"
   },
   {
    "duration": 389,
    "start_time": "2021-09-23T08:21:53.142Z"
   },
   {
    "duration": 383,
    "start_time": "2021-09-23T08:21:53.149Z"
   },
   {
    "duration": 380,
    "start_time": "2021-09-23T08:21:53.154Z"
   },
   {
    "duration": 374,
    "start_time": "2021-09-23T08:21:53.162Z"
   },
   {
    "duration": 370,
    "start_time": "2021-09-23T08:21:53.167Z"
   },
   {
    "duration": 364,
    "start_time": "2021-09-23T08:21:53.174Z"
   },
   {
    "duration": 361,
    "start_time": "2021-09-23T08:21:53.179Z"
   },
   {
    "duration": 345,
    "start_time": "2021-09-23T08:21:53.196Z"
   },
   {
    "duration": 341,
    "start_time": "2021-09-23T08:21:53.202Z"
   },
   {
    "duration": 336,
    "start_time": "2021-09-23T08:21:53.208Z"
   },
   {
    "duration": 331,
    "start_time": "2021-09-23T08:21:53.214Z"
   },
   {
    "duration": 327,
    "start_time": "2021-09-23T08:21:53.220Z"
   },
   {
    "duration": 1050,
    "start_time": "2021-09-23T08:22:18.098Z"
   },
   {
    "duration": 32,
    "start_time": "2021-09-23T08:22:19.150Z"
   },
   {
    "duration": 9,
    "start_time": "2021-09-23T08:22:19.185Z"
   },
   {
    "duration": 6,
    "start_time": "2021-09-23T08:22:19.196Z"
   },
   {
    "duration": 6,
    "start_time": "2021-09-23T08:22:19.204Z"
   },
   {
    "duration": 8,
    "start_time": "2021-09-23T08:22:19.211Z"
   },
   {
    "duration": 77,
    "start_time": "2021-09-23T08:22:19.220Z"
   },
   {
    "duration": 5,
    "start_time": "2021-09-23T08:22:19.300Z"
   },
   {
    "duration": 16,
    "start_time": "2021-09-23T08:22:19.307Z"
   },
   {
    "duration": 8,
    "start_time": "2021-09-23T08:22:19.325Z"
   },
   {
    "duration": 7,
    "start_time": "2021-09-23T08:22:19.335Z"
   },
   {
    "duration": 29,
    "start_time": "2021-09-23T08:22:19.345Z"
   },
   {
    "duration": 6,
    "start_time": "2021-09-23T08:22:19.376Z"
   },
   {
    "duration": 6,
    "start_time": "2021-09-23T08:22:19.384Z"
   },
   {
    "duration": 9,
    "start_time": "2021-09-23T08:22:19.392Z"
   },
   {
    "duration": 13,
    "start_time": "2021-09-23T08:22:19.403Z"
   },
   {
    "duration": 31,
    "start_time": "2021-09-23T08:22:19.419Z"
   },
   {
    "duration": 10,
    "start_time": "2021-09-23T08:22:19.453Z"
   },
   {
    "duration": 316,
    "start_time": "2021-09-23T08:22:19.465Z"
   },
   {
    "duration": 20,
    "start_time": "2021-09-23T08:22:19.783Z"
   },
   {
    "duration": 9,
    "start_time": "2021-09-23T08:22:19.805Z"
   },
   {
    "duration": 374,
    "start_time": "2021-09-23T08:22:19.816Z"
   },
   {
    "duration": 342,
    "start_time": "2021-09-23T08:22:20.193Z"
   },
   {
    "duration": 325,
    "start_time": "2021-09-23T08:22:20.537Z"
   },
   {
    "duration": 421,
    "start_time": "2021-09-23T08:22:20.863Z"
   },
   {
    "duration": 353,
    "start_time": "2021-09-23T08:22:21.286Z"
   },
   {
    "duration": 429,
    "start_time": "2021-09-23T08:22:21.645Z"
   },
   {
    "duration": 234,
    "start_time": "2021-09-23T08:22:22.077Z"
   },
   {
    "duration": 359,
    "start_time": "2021-09-23T08:22:22.313Z"
   },
   {
    "duration": 5,
    "start_time": "2021-09-23T08:22:22.673Z"
   },
   {
    "duration": 126,
    "start_time": "2021-09-23T08:22:22.680Z"
   },
   {
    "duration": 367,
    "start_time": "2021-09-23T08:22:22.807Z"
   },
   {
    "duration": 283,
    "start_time": "2021-09-23T08:22:23.176Z"
   },
   {
    "duration": 5,
    "start_time": "2021-09-23T08:22:23.460Z"
   },
   {
    "duration": 198,
    "start_time": "2021-09-23T08:22:23.466Z"
   },
   {
    "duration": 9,
    "start_time": "2021-09-23T08:22:23.666Z"
   },
   {
    "duration": 11,
    "start_time": "2021-09-23T08:22:23.676Z"
   },
   {
    "duration": 16,
    "start_time": "2021-09-23T08:22:23.689Z"
   },
   {
    "duration": 12,
    "start_time": "2021-09-23T08:22:23.706Z"
   },
   {
    "duration": 1329,
    "start_time": "2022-01-30T08:56:13.290Z"
   },
   {
    "duration": 38,
    "start_time": "2022-01-30T08:56:14.621Z"
   },
   {
    "duration": 11,
    "start_time": "2022-01-30T08:56:14.662Z"
   },
   {
    "duration": 7,
    "start_time": "2022-01-30T08:56:14.676Z"
   },
   {
    "duration": 7,
    "start_time": "2022-01-30T08:56:14.686Z"
   },
   {
    "duration": 8,
    "start_time": "2022-01-30T08:56:14.695Z"
   },
   {
    "duration": 74,
    "start_time": "2022-01-30T08:56:14.705Z"
   },
   {
    "duration": 5,
    "start_time": "2022-01-30T08:56:14.783Z"
   },
   {
    "duration": 20,
    "start_time": "2022-01-30T08:56:14.791Z"
   },
   {
    "duration": 8,
    "start_time": "2022-01-30T08:56:14.813Z"
   },
   {
    "duration": 40,
    "start_time": "2022-01-30T08:56:14.823Z"
   },
   {
    "duration": 49,
    "start_time": "2022-01-30T08:56:14.866Z"
   },
   {
    "duration": 5,
    "start_time": "2022-01-30T08:56:14.917Z"
   },
   {
    "duration": 6,
    "start_time": "2022-01-30T08:56:14.924Z"
   },
   {
    "duration": 6,
    "start_time": "2022-01-30T08:56:14.932Z"
   },
   {
    "duration": 21,
    "start_time": "2022-01-30T08:56:14.940Z"
   },
   {
    "duration": 14,
    "start_time": "2022-01-30T08:56:14.963Z"
   },
   {
    "duration": 11,
    "start_time": "2022-01-30T08:56:14.979Z"
   },
   {
    "duration": 507,
    "start_time": "2022-01-30T08:56:14.992Z"
   },
   {
    "duration": 28,
    "start_time": "2022-01-30T08:56:15.501Z"
   },
   {
    "duration": 40,
    "start_time": "2022-01-30T08:56:15.532Z"
   },
   {
    "duration": 591,
    "start_time": "2022-01-30T08:56:15.575Z"
   },
   {
    "duration": 491,
    "start_time": "2022-01-30T08:56:16.171Z"
   },
   {
    "duration": 487,
    "start_time": "2022-01-30T08:56:16.665Z"
   },
   {
    "duration": 577,
    "start_time": "2022-01-30T08:56:17.159Z"
   },
   {
    "duration": 533,
    "start_time": "2022-01-30T08:56:17.739Z"
   },
   {
    "duration": 576,
    "start_time": "2022-01-30T08:56:18.274Z"
   },
   {
    "duration": 341,
    "start_time": "2022-01-30T08:56:18.852Z"
   },
   {
    "duration": 490,
    "start_time": "2022-01-30T08:56:19.196Z"
   },
   {
    "duration": 6,
    "start_time": "2022-01-30T08:56:19.688Z"
   },
   {
    "duration": 236,
    "start_time": "2022-01-30T08:56:19.696Z"
   },
   {
    "duration": 367,
    "start_time": "2022-01-30T08:56:19.934Z"
   },
   {
    "duration": 393,
    "start_time": "2022-01-30T08:56:20.303Z"
   },
   {
    "duration": 6,
    "start_time": "2022-01-30T08:56:20.698Z"
   },
   {
    "duration": 229,
    "start_time": "2022-01-30T08:56:20.707Z"
   },
   {
    "duration": 27,
    "start_time": "2022-01-30T08:56:20.939Z"
   },
   {
    "duration": 14,
    "start_time": "2022-01-30T08:56:20.968Z"
   },
   {
    "duration": 22,
    "start_time": "2022-01-30T08:56:20.985Z"
   },
   {
    "duration": 59,
    "start_time": "2022-01-30T08:56:21.010Z"
   }
  ],
  "kernelspec": {
   "display_name": "Python 3",
   "language": "python",
   "name": "python3"
  },
  "language_info": {
   "codemirror_mode": {
    "name": "ipython",
    "version": 3
   },
   "file_extension": ".py",
   "mimetype": "text/x-python",
   "name": "python",
   "nbconvert_exporter": "python",
   "pygments_lexer": "ipython3",
   "version": "3.7.4"
  },
  "toc": {
   "base_numbering": 1,
   "nav_menu": {},
   "number_sections": true,
   "sideBar": true,
   "skip_h1_title": true,
   "title_cell": "Table of Contents",
   "title_sidebar": "Contents",
   "toc_cell": false,
   "toc_position": {},
   "toc_section_display": true,
   "toc_window_display": false
  }
 },
 "nbformat": 4,
 "nbformat_minor": 2
}
